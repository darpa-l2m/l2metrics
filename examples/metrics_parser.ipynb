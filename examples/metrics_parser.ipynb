{
 "cells": [
  {
   "cell_type": "code",
   "execution_count": null,
   "metadata": {},
   "outputs": [],
   "source": [
    "\"\"\"\n",
    "Copyright © 2021-2022 The Johns Hopkins University Applied Physics Laboratory LLC\n",
    "\n",
    "Permission is hereby granted, free of charge, to any person obtaining a copy \n",
    "of this software and associated documentation files (the “Software”), to \n",
    "deal in the Software without restriction, including without limitation the \n",
    "rights to use, copy, modify, merge, publish, distribute, sublicense, and/or \n",
    "sell copies of the Software, and to permit persons to whom the Software is \n",
    "furnished to do so, subject to the following conditions:\n",
    "\n",
    "The above copyright notice and this permission notice shall be included in \n",
    "all copies or substantial portions of the Software.\n",
    "\n",
    "THE SOFTWARE IS PROVIDED “AS IS”, WITHOUT WARRANTY OF ANY KIND, EXPRESS OR \n",
    "IMPLIED, INCLUDING BUT NOT LIMITED TO THE WARRANTIES OF MERCHANTABILITY, \n",
    "FITNESS FOR A PARTICULAR PURPOSE AND NONINFRINGEMENT. IN NO EVENT SHALL THE \n",
    "AUTHORS OR COPYRIGHT HOLDERS BE LIABLE FOR ANY CLAIM, DAMAGES OR OTHER LIABILITY, \n",
    "WHETHER IN AN ACTION OF CONTRACT, TORT OR OTHERWISE, ARISING FROM, OUT OF OR \n",
    "IN CONNECTION WITH THE SOFTWARE OR THE USE OR OTHER DEALINGS IN THE SOFTWARE.\n",
    "\"\"\""
   ]
  },
  {
   "cell_type": "code",
   "execution_count": null,
   "metadata": {},
   "outputs": [],
   "source": [
    "import warnings\n",
    "from pathlib import Path\n",
    "\n",
    "import numpy as np\n",
    "import seaborn as sns\n",
    "from l2metrics.metrics_parser import MetricsParser\n",
    "from matplotlib import pyplot as plt\n",
    "\n",
    "warnings.filterwarnings(\"ignore\", message=\".*`distplot` is a deprecated*\")\n",
    "warnings.filterwarnings(\"ignore\", message=\".*Dataset has 0 variance*\")\n",
    "\n",
    "sns.set_style(\"dark\")\n",
    "%matplotlib ipympl\n"
   ]
  },
  {
   "cell_type": "code",
   "execution_count": null,
   "metadata": {},
   "outputs": [],
   "source": [
    "base_path = Path(\"../examples/evaluation_results/\")\n",
    "\n",
    "json_path = base_path / \"ll_metrics.json\"\n",
    "json_parser = MetricsParser(json_path)\n",
    "\n",
    "tsv_path = base_path / \"ll_metrics_regime.tsv\"\n",
    "tsv_parser = MetricsParser(tsv_path, tsv=True)"
   ]
  },
  {
   "cell_type": "code",
   "execution_count": null,
   "metadata": {},
   "outputs": [],
   "source": [
    "json_parser.getUniqueTaskNames()"
   ]
  },
  {
   "cell_type": "code",
   "execution_count": null,
   "metadata": {},
   "outputs": [],
   "source": [
    "json_parser.plotNormalizationDataRange(\"dist\")"
   ]
  },
  {
   "cell_type": "code",
   "execution_count": null,
   "metadata": {},
   "outputs": [],
   "source": [
    "json_parser.plotRecoveryTimes(\"dist\")"
   ]
  },
  {
   "cell_type": "code",
   "execution_count": null,
   "metadata": {},
   "outputs": [],
   "source": [
    "json_parser.plotPerfRecoveryRate(\"dist\")"
   ]
  },
  {
   "cell_type": "code",
   "execution_count": null,
   "metadata": {},
   "outputs": [],
   "source": [
    "json_parser.plotPerfMaintenanceMRLEP(\"dist\")"
   ]
  },
  {
   "cell_type": "code",
   "execution_count": null,
   "metadata": {},
   "outputs": [],
   "source": [
    "fig, axes = plt.subplots(2, 3, figsize=(12, 8))\n",
    "\n",
    "# vals = np.NaN\n",
    "vals = json_parser.getPerfRecoveryRate()\n",
    "sns.distplot(vals, ax=axes[0, 0])\n",
    "mean_val = np.nanmean(vals)\n",
    "axes[0, 0].axvline(x=mean_val, color=\"r\", linestyle=\"--\")\n",
    "axes[0, 0].set(title=f\"Performance Recovery - σ = {mean_val:.2f}\")\n",
    "\n",
    "vals = json_parser.getPerfMaintenanceMRLEP()\n",
    "sns.distplot(vals, ax=axes[0, 1])\n",
    "mean_val = np.nanmean(vals)\n",
    "axes[0, 1].axvline(x=mean_val, color=\"r\", linestyle=\"--\")\n",
    "axes[0, 1].set(title=f\"Performance Maintenance - σ = {mean_val:.2f}\")\n",
    "\n",
    "vals = json_parser.getForwardTransferRatio()\n",
    "sns.distplot(vals, ax=axes[0, 2])\n",
    "mean_val = np.nanmean(vals)\n",
    "axes[0, 2].axvline(x=mean_val, color=\"r\", linestyle=\"--\")\n",
    "axes[0, 2].set(title=f\"Forward Transfer - σ = {mean_val:.2f}\")\n",
    "\n",
    "vals = json_parser.getBackwardTransferRatio()\n",
    "sns.distplot(vals, ax=axes[1, 0])\n",
    "mean_val = np.nanmean(vals)\n",
    "axes[1, 0].axvline(x=mean_val, color=\"r\", linestyle=\"--\")\n",
    "axes[1, 0].set(title=f\"Backward Transfer - σ = {mean_val:.2f}\")\n",
    "\n",
    "vals = json_parser.getSTERelPerf()\n",
    "sns.distplot(vals, ax=axes[1, 1])\n",
    "mean_val = np.nanmean(vals)\n",
    "axes[1, 1].axvline(x=mean_val, color=\"r\", linestyle=\"--\")\n",
    "axes[1, 1].set(title=f\"Relative Performance - σ = {mean_val:.2f}\")\n",
    "\n",
    "vals = json_parser.getSampleEfficiency()\n",
    "sns.distplot(vals, ax=axes[1, 2])\n",
    "mean_val = np.nanmean(vals)\n",
    "axes[1, 2].axvline(x=mean_val, color=\"r\", linestyle=\"--\")\n",
    "axes[1, 2].set(title=f\"Sample Efficiency - σ = {mean_val:.2f}\")\n"
   ]
  },
  {
   "cell_type": "code",
   "execution_count": null,
   "metadata": {},
   "outputs": [],
   "source": [
    "json_parser.plotForwardTransferRatio(\"dist\")"
   ]
  },
  {
   "cell_type": "code",
   "execution_count": null,
   "metadata": {},
   "outputs": [],
   "source": [
    "json_parser.plotBackwardTransferRatio(\"dist\")"
   ]
  },
  {
   "cell_type": "code",
   "execution_count": null,
   "metadata": {},
   "outputs": [],
   "source": [
    "json_parser.plotSTERelPerf(\"dist\")"
   ]
  },
  {
   "cell_type": "code",
   "execution_count": null,
   "metadata": {},
   "outputs": [],
   "source": [
    "json_parser.plotSampleEfficiency(\"dist\")"
   ]
  },
  {
   "cell_type": "code",
   "execution_count": null,
   "metadata": {},
   "outputs": [],
   "source": [
    "json_parser.plotSampleEfficiencyVals(\"dist\", \"tb_1\")"
   ]
  },
  {
   "cell_type": "code",
   "execution_count": null,
   "metadata": {},
   "outputs": [],
   "source": [
    "ftr_vals = []\n",
    "\n",
    "for task in json_parser.getUniqueTaskNames():\n",
    "    for x in json_parser.getForwardTransferRatio(task):\n",
    "        if x is not None:\n",
    "            ftr_vals.extend(list(x.values()))\n",
    "\n",
    "mean_ftr = np.mean(ftr_vals)\n",
    "\n",
    "sns.distplot(ftr_vals)\n",
    "plt.axvline(x=mean_ftr, color=\"red\")\n",
    "\n",
    "print(mean_ftr)"
   ]
  },
  {
   "cell_type": "code",
   "execution_count": null,
   "metadata": {},
   "outputs": [],
   "source": [
    "rp_vals = []\n",
    "\n",
    "for task in json_parser.getUniqueTaskNames():\n",
    "    rp_vals.extend([x for x in json_parser.getSTERelPerf(task) if np.isnan(x) == False])\n",
    "\n",
    "mean_rp = np.mean(rp_vals)\n",
    "\n",
    "sns.distplot(rp_vals)\n",
    "plt.axvline(x=mean_rp, color=\"red\")\n",
    "\n",
    "print(mean_rp)"
   ]
  },
  {
   "cell_type": "code",
   "execution_count": null,
   "metadata": {},
   "outputs": [],
   "source": [
    "json_parser.plotRuntime(\"dist\")"
   ]
  },
  {
   "cell_type": "code",
   "execution_count": null,
   "metadata": {},
   "outputs": [],
   "source": [
    "json_parser.plotMinMax(\"dist\", \"all\")"
   ]
  },
  {
   "cell_type": "code",
   "execution_count": null,
   "metadata": {},
   "outputs": [],
   "source": [
    "json_parser.plotNumLXEX(\"dist\", \"all\")"
   ]
  },
  {
   "cell_type": "code",
   "execution_count": null,
   "metadata": {},
   "outputs": [],
   "source": [
    "tsv_parser.df_tsv"
   ]
  },
  {
   "cell_type": "code",
   "execution_count": null,
   "metadata": {},
   "outputs": [],
   "source": [
    "tsv_parser.getTaskNamesUnique()"
   ]
  }
 ],
 "metadata": {
  "interpreter": {
   "hash": "2597f07d1e20e98cf7cfcf385b8c0110fb64187439c69d940b99f69f38ff003b"
  },
  "kernelspec": {
   "display_name": "Python 3.6.8 64-bit ('venv36': venv)",
   "name": "python3"
  },
  "language_info": {
   "codemirror_mode": {
    "name": "ipython",
    "version": 3
   },
   "file_extension": ".py",
   "mimetype": "text/x-python",
   "name": "python",
   "nbconvert_exporter": "python",
   "pygments_lexer": "ipython3",
   "version": "3.8.3"
  },
  "orig_nbformat": 4
 },
 "nbformat": 4,
 "nbformat_minor": 2
}
