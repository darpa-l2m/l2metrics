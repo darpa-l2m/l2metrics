{
 "cells": [
  {
   "cell_type": "code",
   "execution_count": null,
   "metadata": {},
   "outputs": [],
   "source": [
    "\"\"\"\n",
    "Copyright © 2021-2022 The Johns Hopkins University Applied Physics Laboratory LLC\n",
    "\n",
    "Permission is hereby granted, free of charge, to any person obtaining a copy \n",
    "of this software and associated documentation files (the “Software”), to \n",
    "deal in the Software without restriction, including without limitation the \n",
    "rights to use, copy, modify, merge, publish, distribute, sublicense, and/or \n",
    "sell copies of the Software, and to permit persons to whom the Software is \n",
    "furnished to do so, subject to the following conditions:\n",
    "\n",
    "The above copyright notice and this permission notice shall be included in \n",
    "all copies or substantial portions of the Software.\n",
    "\n",
    "THE SOFTWARE IS PROVIDED “AS IS”, WITHOUT WARRANTY OF ANY KIND, EXPRESS OR \n",
    "IMPLIED, INCLUDING BUT NOT LIMITED TO THE WARRANTIES OF MERCHANTABILITY, \n",
    "FITNESS FOR A PARTICULAR PURPOSE AND NONINFRINGEMENT. IN NO EVENT SHALL THE \n",
    "AUTHORS OR COPYRIGHT HOLDERS BE LIABLE FOR ANY CLAIM, DAMAGES OR OTHER LIABILITY, \n",
    "WHETHER IN AN ACTION OF CONTRACT, TORT OR OTHERWISE, ARISING FROM, OUT OF OR \n",
    "IN CONNECTION WITH THE SOFTWARE OR THE USE OR OTHER DEALINGS IN THE SOFTWARE.\n",
    "\"\"\""
   ]
  },
  {
   "cell_type": "code",
   "execution_count": null,
   "metadata": {},
   "outputs": [],
   "source": [
    "# Import necessary modules\n",
    "import json\n",
    "from pathlib import Path\n",
    "\n",
    "import pandas as pd\n",
    "from l2metrics.report import MetricsReport\n",
    "from tabulate import tabulate\n",
    "\n",
    "pd.options.display.float_format = \"{:,.2f}\".format\n",
    "%matplotlib ipympl\n"
   ]
  },
  {
   "cell_type": "code",
   "execution_count": null,
   "metadata": {},
   "outputs": [],
   "source": [
    "# Configure metrics report\n",
    "kwargs = {}\n",
    "kwargs[\"log_dir\"] = \"multi_task\"\n",
    "kwargs[\"variant_mode\"] = \"aware\"\n",
    "kwargs[\"ste_averaging_method\"] = \"metrics\"\n",
    "kwargs[\"perf_measure\"] = \"performance\"\n",
    "kwargs[\"aggregation_method\"] = \"mean\"\n",
    "kwargs[\"maintenance_method\"] = \"both\"\n",
    "kwargs[\"transfer_method\"] = \"both\"\n",
    "kwargs[\"normalization_method\"] = \"task\"\n",
    "kwargs[\"smoothing_method\"] = \"flat\"\n",
    "kwargs[\"window_length\"] = None\n",
    "kwargs[\"clamp_outliers\"] = True\n",
    "kwargs[\"data_range_file\"] = None  # \"data_range.json\"\n",
    "kwargs[\"show_eval_lines\"] = True\n",
    "kwargs[\"unit\"] = \"steps\"\n",
    "kwargs[\"do_plot\"] = True\n",
    "kwargs[\"do_save\"] = False\n",
    "kwargs[\"do_save_settings\"] = False\n",
    "\n",
    "output_dir = Path(\"results\")\n",
    "output = \"ll_metrics\"\n",
    "\n",
    "# Create output directory if it doesn't exist\n",
    "if kwargs[\"do_save\"] or kwargs[\"do_save_settings\"]:\n",
    "    output_dir.mkdir(parents=True, exist_ok=True)\n",
    "\n",
    "# Load data range data for normalization and standardize names to lowercase\n",
    "if kwargs[\"data_range_file\"]:\n",
    "    with open(kwargs[\"data_range_file\"]) as config_json:\n",
    "        data_range = json.load(config_json)\n",
    "        data_range = {key.lower(): val for key, val in data_range.items()}\n",
    "else:\n",
    "    data_range = None\n",
    "kwargs[\"data_range\"] = data_range\n"
   ]
  },
  {
   "cell_type": "code",
   "execution_count": null,
   "metadata": {},
   "outputs": [],
   "source": [
    "# Initialize metrics report\n",
    "report = MetricsReport(**kwargs)"
   ]
  },
  {
   "cell_type": "code",
   "execution_count": null,
   "metadata": {},
   "outputs": [],
   "source": [
    "# Add noise to log data\n",
    "# report.add_noise(mean=0.0, std=1.0)"
   ]
  },
  {
   "cell_type": "code",
   "execution_count": null,
   "metadata": {},
   "outputs": [],
   "source": [
    "# Calculate metrics in order of their addition to the metrics list.\n",
    "report.calculate()"
   ]
  },
  {
   "cell_type": "code",
   "execution_count": null,
   "metadata": {},
   "outputs": [],
   "source": [
    "# Print log summary by LX and EX counts\n",
    "log_summary_df = report.log_summary()\n",
    "display(log_summary_df)\n",
    "\n",
    "print(f\"\\nTotal number of experiences: {report._log_data.shape[0]}\")"
   ]
  },
  {
   "cell_type": "code",
   "execution_count": null,
   "metadata": {},
   "outputs": [],
   "source": [
    "print(\"Lifetime metrics:\")\n",
    "display(report.lifetime_metrics_df)\n",
    "\n",
    "print(\"\\nTask metrics:\")\n",
    "display(report.task_metrics_df)"
   ]
  },
  {
   "cell_type": "code",
   "execution_count": null,
   "metadata": {},
   "outputs": [],
   "source": [
    "# Plot raw learning curves for scenario\n",
    "if kwargs[\"do_plot\"]:\n",
    "    report.plot(\n",
    "        plot_types=\"raw\",\n",
    "        save=kwargs[\"do_save\"],\n",
    "        output_dir=str(output_dir),\n",
    "    )\n"
   ]
  },
  {
   "cell_type": "code",
   "execution_count": null,
   "metadata": {},
   "outputs": [],
   "source": [
    "# Plot processed learning curves for scenario\n",
    "if kwargs[\"do_plot\"]:\n",
    "    report.plot(\n",
    "        plot_types=\"lb\",\n",
    "        save=kwargs[\"do_save\"],\n",
    "        show_eval_lines=kwargs[\"show_eval_lines\"],\n",
    "        output_dir=str(output_dir),\n",
    "    )\n"
   ]
  },
  {
   "cell_type": "code",
   "execution_count": null,
   "metadata": {},
   "outputs": [],
   "source": [
    "# Plot evaluation lines for scenario\n",
    "if kwargs[\"do_plot\"]:\n",
    "    report.plot(\n",
    "        plot_types=\"eb\",\n",
    "        save=kwargs[\"do_save\"],\n",
    "        output_dir=str(output_dir),\n",
    "    )\n"
   ]
  },
  {
   "cell_type": "code",
   "execution_count": null,
   "metadata": {},
   "outputs": [],
   "source": [
    "# Plot tasks and their corresponding STE\n",
    "if kwargs[\"do_plot\"]:\n",
    "    report.plot(plot_types=\"ste\", save=kwargs[\"do_save\"], output_dir=str(output_dir))\n"
   ]
  },
  {
   "cell_type": "code",
   "execution_count": null,
   "metadata": {},
   "outputs": [],
   "source": [
    "# Save data to feather file\n",
    "if kwargs[\"do_save\"]:\n",
    "    report.save_data(output_dir=str(output_dir), filename=output)"
   ]
  },
  {
   "cell_type": "code",
   "execution_count": null,
   "metadata": {},
   "outputs": [],
   "source": [
    "# Print block summary\n",
    "print(tabulate(report.block_info, headers=\"keys\", tablefmt=\"psql\"))"
   ]
  },
  {
   "cell_type": "code",
   "execution_count": null,
   "metadata": {},
   "outputs": [],
   "source": [
    "# Print metrics per regime\n",
    "print(\n",
    "    tabulate(\n",
    "        report.regime_metrics_df.fillna(\"N/A\"),\n",
    "        headers=\"keys\",\n",
    "        tablefmt=\"psql\",\n",
    "        floatfmt=\".2f\",\n",
    "    )\n",
    ")"
   ]
  }
 ],
 "metadata": {
  "interpreter": {
   "hash": "06ab80bcb980565edae928ddffc4d8407e1cafb222a6b0bb86aee1bf8f437d34"
  },
  "kernelspec": {
   "display_name": "Python 3.6.8 64-bit ('venv36': venv)",
   "name": "python3"
  },
  "language_info": {
   "codemirror_mode": {
    "name": "ipython",
    "version": 3
   },
   "file_extension": ".py",
   "mimetype": "text/x-python",
   "name": "python",
   "nbconvert_exporter": "python",
   "pygments_lexer": "ipython3",
   "version": "3.8.3"
  },
  "orig_nbformat": 2
 },
 "nbformat": 4,
 "nbformat_minor": 2
}
