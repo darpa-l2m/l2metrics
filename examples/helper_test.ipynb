{
 "cells": [
  {
   "cell_type": "code",
   "execution_count": null,
   "metadata": {},
   "outputs": [],
   "source": [
    "from helper import TaskMetrics\r\n",
    "import pprint"
   ]
  },
  {
   "cell_type": "code",
   "execution_count": null,
   "metadata": {},
   "outputs": [],
   "source": [
    "task = TaskMetrics(\"multi_task_metrics.json\")"
   ]
  },
  {
   "cell_type": "code",
   "execution_count": null,
   "metadata": {},
   "outputs": [],
   "source": [
    "for col,val in task.getBackwardTransferRatio(\"task1_1\").items():\r\n",
    "    print(type(col),col)\r\n",
    "    print(type(val),val)"
   ]
  },
  {
   "cell_type": "code",
   "execution_count": null,
   "metadata": {},
   "outputs": [],
   "source": [
    "print(task.getBackwardTransferRatio(\"task2_1\"))"
   ]
  },
  {
   "cell_type": "code",
   "execution_count": null,
   "metadata": {},
   "outputs": [],
   "source": [
    "print((type(task.df.root.task_metrics)))"
   ]
  },
  {
   "cell_type": "code",
   "execution_count": null,
   "metadata": {},
   "outputs": [],
   "source": [
    "import pandas as pd\r\n",
    "temp = task.getMetricsColumn()\r\n",
    "temp.levels\r\n"
   ]
  },
  {
   "cell_type": "code",
   "execution_count": null,
   "metadata": {},
   "outputs": [],
   "source": [
    "# pprint.pprint(task.df2dict(task.df))\r\n",
    "# for key in task.df2dict(task.df).keys():\r\n",
    "#     print([(k,type(k)) for k in key if k == k])\r\n",
    "# for col in task.df.columns:\r\n",
    "#     print(col)\r\n",
    "# pprint.pprint(task.df.to_dict())"
   ]
  }
 ],
 "metadata": {
  "interpreter": {
   "hash": "f122e15337e94c6fcfcf312b654fb8b56348c659d5e1d47922a84bd4b33f2626"
  },
  "kernelspec": {
   "display_name": "Python 3.6.8 64-bit ('venv': venv)",
   "name": "python3"
  },
  "language_info": {
   "codemirror_mode": {
    "name": "ipython",
    "version": 3
   },
   "file_extension": ".py",
   "mimetype": "text/x-python",
   "name": "python",
   "nbconvert_exporter": "python",
   "pygments_lexer": "ipython3",
   "version": "3.6.8"
  },
  "orig_nbformat": 4
 },
 "nbformat": 4,
 "nbformat_minor": 2
}