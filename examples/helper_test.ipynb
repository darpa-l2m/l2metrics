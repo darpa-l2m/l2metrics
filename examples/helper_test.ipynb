{
 "cells": [
  {
   "cell_type": "code",
   "execution_count": 1,
   "metadata": {},
   "outputs": [],
   "source": [
    "from helper import TaskMetrics\r\n",
    "import pprint"
   ]
  },
  {
   "cell_type": "code",
   "execution_count": 2,
   "metadata": {},
   "outputs": [],
   "source": [
    "task = TaskMetrics(\"multi_task_metrics.json\")"
   ]
  },
  {
   "cell_type": "code",
   "execution_count": 3,
   "metadata": {},
   "outputs": [
    {
     "name": "stdout",
     "output_type": "stream",
     "text": [
      "<class 'str'> task2_1\n",
      "<class 'list'> [1.0564357621543066, 1.0152121534708918, 1.0001741136956974]\n",
      "<class 'str'> task3_1\n",
      "<class 'list'> [1.0487001904871414, 0.996104458008453, 1.0121624691474171]\n"
     ]
    }
   ],
   "source": [
    "for col,val in task.getBackwardTransferRatio(\"task1_1\").items():\r\n",
    "    print(type(col),col)\r\n",
    "    print(type(val),val)"
   ]
  },
  {
   "cell_type": "code",
   "execution_count": 4,
   "metadata": {},
   "outputs": [
    {
     "name": "stdout",
     "output_type": "stream",
     "text": [
      "{'task1_1': [1.184544683973009, 1.020127768079356, 1.0018259824264808, 1.0025318034452886], 'task3_1': [1.027873521987033, 1.0062319950011445, 1.0027563008509333]}\n"
     ]
    }
   ],
   "source": [
    "print(task.getBackwardTransferRatio(\"task2_1\"))"
   ]
  },
  {
   "cell_type": "code",
   "execution_count": 5,
   "metadata": {},
   "outputs": [
    {
     "name": "stdout",
     "output_type": "stream",
     "text": [
      "<class 'pandas.core.frame.DataFrame'>\n"
     ]
    }
   ],
   "source": [
    "print((type(task.df.root.task_metrics)))"
   ]
  },
  {
   "cell_type": "code",
   "execution_count": 6,
   "metadata": {},
   "outputs": [
    {
     "name": "stdout",
     "output_type": "stream",
     "text": [
      "{'backward_transfer_ratio': 1.0831924335,\n",
      " 'complexity': '2-intermediate',\n",
      " 'difficulty': '2-medium',\n",
      " 'forward_transfer_ratio': 12.7602959694,\n",
      " 'max': 100.0,\n",
      " 'metrics_column': 'performance',\n",
      " 'min': 0.0,\n",
      " 'num_ex': 720,\n",
      " 'num_lx': 1200,\n",
      " 'perf_maintenance_mrlep': 3.855814336,\n",
      " 'perf_recovery': -2.0,\n",
      " 'run_id': 'multi_task',\n",
      " 'sample_efficiency': 0.9133716955,\n",
      " 'scenario_type': 'custom',\n",
      " 'ste_rel_perf': 1.1063315766,\n",
      " 'task_metrics': {'task1_1': {'backward_transfer_ratio': {'task2_1': [1.0564357621543066,\n",
      "                                                                      1.0152121534708918,\n",
      "                                                                      1.0001741136956974],\n",
      "                                                          'task3_1': [1.0487001904871414,\n",
      "                                                                      0.996104458008453,\n",
      "                                                                      1.0121624691474171]},\n",
      "                              'maintenance_val_mrlep': [[13.025272013865177,\n",
      "                                                         9.914763632726022],\n",
      "                                                        [1.8977564333457622,\n",
      "                                                         -0.3329811937858551],\n",
      "                                                        [0.1795601033587957,\n",
      "                                                         -0.9231738279306114],\n",
      "                                                        [0.252540960455093]],\n",
      "                              'max': 100.0,\n",
      "                              'min': 0.5953620138436911,\n",
      "                              'num_ex': 240,\n",
      "                              'num_lx': 400,\n",
      "                              'perf_maintenance_mrlep': 3.4305340174334833,\n",
      "                              'perf_recovery': -6.0,\n",
      "                              'recovery_times': [0.0, 18.0, 12.0],\n",
      "                              'sample_efficiency': 0.9090902344140432,\n",
      "                              'ste_rel_perf': 1.0594947702743842},\n",
      "                  'task2_1': {'backward_transfer_ratio': {'task1_1': [1.184544683973009,\n",
      "                                                                      1.020127768079356,\n",
      "                                                                      1.0018259824264808,\n",
      "                                                                      1.0025318034452886],\n",
      "                                                          'task3_1': [1.027873521987033,\n",
      "                                                                      1.0062319950011445,\n",
      "                                                                      1.0027563008509333]},\n",
      "                              'forward_transfer_ratio': {'task3_1': 12.76029596941125},\n",
      "                              'maintenance_val_mrlep': [[12.849220574205034,\n",
      "                                                         16.888541605032756],\n",
      "                                                        [2.658065015547308,\n",
      "                                                         4.11396240296574],\n",
      "                                                        [0.007013031174793127,\n",
      "                                                         0.024364692763015228]],\n",
      "                              'max': 100.0,\n",
      "                              'min': 0.0,\n",
      "                              'num_ex': 240,\n",
      "                              'num_lx': 400,\n",
      "                              'perf_maintenance_mrlep': 6.090194553614775,\n",
      "                              'perf_recovery': -0.0,\n",
      "                              'recovery_times': [0.0, 0.0, 0.0],\n",
      "                              'sample_efficiency': 0.9166527731263069,\n",
      "                              'ste_rel_perf': 1.0965322961322805},\n",
      "                  'task3_1': {'backward_transfer_ratio': {'task1_1': [0.9627955691175522,\n",
      "                                                                      0.9768074195978588,\n",
      "                                                                      0.9888065182913506],\n",
      "                                                          'task2_1': [1.2188048731254775,\n",
      "                                                                      1.0285665590647524,\n",
      "                                                                      1.00007037658636]},\n",
      "                              'maintenance_val_mrlep': [[3.7567373067718535,\n",
      "                                                         6.011616932786396],\n",
      "                                                        [-0.3745577007104828,\n",
      "                                                         0.2223165177886699],\n",
      "                                                        [1.1950290435675868,\n",
      "                                                         1.4691445208327707]],\n",
      "                              'max': 99.99487366193057,\n",
      "                              'min': 0.0,\n",
      "                              'num_ex': 240,\n",
      "                              'num_lx': 400,\n",
      "                              'perf_maintenance_mrlep': 2.0467144368394656,\n",
      "                              'perf_recovery': -0.0,\n",
      "                              'recovery_times': [0.0, 0.0, 0.0],\n",
      "                              'sample_efficiency': 0.9143720788116605,\n",
      "                              'ste_rel_perf': 1.1629676633508115}}}\n"
     ]
    }
   ],
   "source": [
    "pprint.pprint(task.df2dict(task.df))\r\n",
    "# for key in task.df2dict(task.df).keys():\r\n",
    "#     print([(k,type(k)) for k in key if k == k])\r\n",
    "# for col in task.df.columns:\r\n",
    "#     print(col)\r\n",
    "# pprint.pprint(task.df.to_dict())"
   ]
  }
 ],
 "metadata": {
  "interpreter": {
   "hash": "f122e15337e94c6fcfcf312b654fb8b56348c659d5e1d47922a84bd4b33f2626"
  },
  "kernelspec": {
   "display_name": "Python 3.6.8 64-bit ('venv': venv)",
   "name": "python3"
  },
  "language_info": {
   "codemirror_mode": {
    "name": "ipython",
    "version": 3
   },
   "file_extension": ".py",
   "mimetype": "text/x-python",
   "name": "python",
   "nbconvert_exporter": "python",
   "pygments_lexer": "ipython3",
   "version": "3.6.8"
  },
  "orig_nbformat": 4
 },
 "nbformat": 4,
 "nbformat_minor": 2
}