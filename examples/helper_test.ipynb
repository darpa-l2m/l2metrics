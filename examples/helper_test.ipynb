{
 "cells": [
  {
   "cell_type": "code",
   "execution_count": 1,
   "source": [
    "from helper import TaskMetrics\r\n",
    "import pprint"
   ],
   "outputs": [],
   "metadata": {}
  },
  {
   "cell_type": "code",
   "execution_count": 2,
   "source": [
    "task = TaskMetrics(\"sri_normalized_no_outliers.json\")"
   ],
   "outputs": [],
   "metadata": {}
  },
  {
   "cell_type": "code",
   "execution_count": 3,
   "source": [
    "# for col,val in task.getBackwardTransferRatio(\"task1_1\").items():\r\n",
    "#     print(type(col),col)\r\n",
    "#     print(type(val),val)"
   ],
   "outputs": [],
   "metadata": {}
  },
  {
   "cell_type": "code",
   "execution_count": 4,
   "source": [
    "# print(task.getBackwardTransferRatio(\"task2_1\"))\r\n",
    "# task.df2dict(task.df.root.normalization_data_range)\r\n",
    "# dict1 = {1:{'a':{2:3}}}\r\n",
    "# dict2 = {1:{'b':{2:3}}}\r\n",
    "\r\n",
    "# print(task.mergedict(dict1,dict2))\r\n"
   ],
   "outputs": [],
   "metadata": {}
  },
  {
   "cell_type": "code",
   "execution_count": 5,
   "source": [
    "print((type(task.df.root.task_metrics)))"
   ],
   "outputs": [
    {
     "output_type": "stream",
     "name": "stdout",
     "text": [
      "<class 'pandas.core.frame.DataFrame'>\n"
     ]
    }
   ],
   "metadata": {}
  },
  {
   "cell_type": "code",
   "execution_count": 6,
   "source": [
    "testy = task.getNormalizationDataRange()\r\n",
    "print(type(testy),testy)"
   ],
   "outputs": [
    {
     "output_type": "stream",
     "name": "stdout",
     "text": [
      "<class 'dict'> {'defeatzerglingsandbanelings_1': {'min': -5.0, 'max': 282.0}, 'collectmineralshards_1': {'min': -2.0, 'max': 249.0}, 'movetobeacon_1': {'min': -8.0, 'max': 220.0}, 'defeatroaches_1': {'min': -9.0, 'max': 338.0}, 'findanddefeatzerglings_1': {'min': -3.0, 'max': 123.0}}\n"
     ]
    }
   ],
   "metadata": {}
  },
  {
   "cell_type": "code",
   "execution_count": 30,
   "source": [
    "testy = task.getBackwardTransferRatio(\"collectmineralshards_1\")\r\n",
    "print(type(testy),testy)"
   ],
   "outputs": [
    {
     "output_type": "stream",
     "name": "stdout",
     "text": [
      "<class 'dict'> {'defeatroaches_1': [1.0430135830532583, 0.7111807323281769]}\n"
     ]
    }
   ],
   "metadata": {}
  },
  {
   "cell_type": "code",
   "execution_count": 8,
   "source": [
    "testy = task.getForwardTransferRatio()\r\n",
    "print(type(testy),testy)"
   ],
   "outputs": [
    {
     "output_type": "stream",
     "name": "stdout",
     "text": [
      "<class 'numpy.float64'> 1.8817152493\n"
     ]
    }
   ],
   "metadata": {}
  },
  {
   "cell_type": "code",
   "execution_count": 9,
   "source": [
    "testy = task.getBackwardTransferContrast()\r\n",
    "print(type(testy),testy)"
   ],
   "outputs": [
    {
     "output_type": "stream",
     "name": "stdout",
     "text": [
      "<class 'numpy.float64'> -0.1605403843\n"
     ]
    }
   ],
   "metadata": {}
  },
  {
   "cell_type": "code",
   "execution_count": 10,
   "source": [
    "testy = task.getForwardTransferContrast()\r\n",
    "print(type(testy),testy)"
   ],
   "outputs": [
    {
     "output_type": "stream",
     "name": "stdout",
     "text": [
      "<class 'numpy.float64'> 0.3059689015\n"
     ]
    }
   ],
   "metadata": {}
  },
  {
   "cell_type": "code",
   "execution_count": 29,
   "source": [
    "testy = task.getMaintenanceValMRLEP(\"collectmineralshards_1\")\r\n",
    "print(type(testy),testy)"
   ],
   "outputs": [
    {
     "output_type": "stream",
     "name": "stdout",
     "text": [
      "<class 'list'> [[-8.285607569721115], [-22.148904382470114], [-12.636952191235059]]\n"
     ]
    }
   ],
   "metadata": {}
  },
  {
   "cell_type": "code",
   "execution_count": 12,
   "source": [
    "testy = task.getMaintenanceValMRTLP(\"collectmineralshards_1\")\r\n",
    "print(type(testy),testy)"
   ],
   "outputs": [
    {
     "output_type": "stream",
     "name": "stdout",
     "text": [
      "<class 'list'> [[-20.91414683403241], [-23.578982148329757], [-17.691958129022375]]\n"
     ]
    }
   ],
   "metadata": {}
  },
  {
   "cell_type": "code",
   "execution_count": 13,
   "source": [
    "testy = task.getRecoveryTimes(\"collectmineralshards_1\")\r\n",
    "print(type(testy),testy)"
   ],
   "outputs": [
    {
     "output_type": "stream",
     "name": "stdout",
     "text": [
      "<class 'list'> [4172.0, 8321.0]\n"
     ]
    }
   ],
   "metadata": {}
  },
  {
   "cell_type": "code",
   "execution_count": 14,
   "source": [
    "testy = task.getPerfRecoveryRate()\r\n",
    "print(type(testy),testy)"
   ],
   "outputs": [
    {
     "output_type": "stream",
     "name": "stdout",
     "text": [
      "<class 'numpy.float64'> 4.0\n"
     ]
    }
   ],
   "metadata": {}
  },
  {
   "cell_type": "code",
   "execution_count": 15,
   "source": [
    "testy = task.getPerfMaintenanceMRLEP()\r\n",
    "print(type(testy),testy)"
   ],
   "outputs": [
    {
     "output_type": "stream",
     "name": "stdout",
     "text": [
      "<class 'numpy.float64'> -7.8374869626\n"
     ]
    }
   ],
   "metadata": {}
  },
  {
   "cell_type": "code",
   "execution_count": 16,
   "source": [
    "testy = task.getPerfMaintenanceMRTLP()\r\n",
    "print(type(testy),testy)"
   ],
   "outputs": [
    {
     "output_type": "stream",
     "name": "stdout",
     "text": [
      "<class 'numpy.float64'> -13.1224794022\n"
     ]
    }
   ],
   "metadata": {}
  },
  {
   "cell_type": "code",
   "execution_count": 17,
   "source": [
    "testy = task.getSTERelPerf()\r\n",
    "print(type(testy),testy)"
   ],
   "outputs": [
    {
     "output_type": "stream",
     "name": "stdout",
     "text": [
      "<class 'numpy.float64'> 0.6844492095\n"
     ]
    }
   ],
   "metadata": {}
  },
  {
   "cell_type": "code",
   "execution_count": 18,
   "source": [
    "testy = task.getSampleEfficiency()\r\n",
    "print(type(testy),testy)"
   ],
   "outputs": [
    {
     "output_type": "stream",
     "name": "stdout",
     "text": [
      "<class 'numpy.float64'> 6.0531577953\n"
     ]
    }
   ],
   "metadata": {}
  },
  {
   "cell_type": "code",
   "execution_count": 19,
   "source": [
    "testy = task.getRunID()\r\n",
    "print(type(testy),testy)"
   ],
   "outputs": [
    {
     "output_type": "stream",
     "name": "stdout",
     "text": [
      "<class 'str'> alternating_1620487608-7667787\n"
     ]
    }
   ],
   "metadata": {}
  },
  {
   "cell_type": "code",
   "execution_count": 20,
   "source": [
    "testy = task.getComplexity()\r\n",
    "print(type(testy),testy)"
   ],
   "outputs": [
    {
     "output_type": "stream",
     "name": "stdout",
     "text": [
      "<class 'str'> 2-intermediate\n"
     ]
    }
   ],
   "metadata": {}
  },
  {
   "cell_type": "code",
   "execution_count": 21,
   "source": [
    "testy = task.getMetricsColumn()\r\n",
    "print(type(testy),testy)"
   ],
   "outputs": [
    {
     "output_type": "stream",
     "name": "stdout",
     "text": [
      "<class 'str'> reward\n"
     ]
    }
   ],
   "metadata": {}
  },
  {
   "cell_type": "code",
   "execution_count": 22,
   "source": [
    "testy = task.getScenarioType()\r\n",
    "print(type(testy),testy)"
   ],
   "outputs": [
    {
     "output_type": "stream",
     "name": "stdout",
     "text": [
      "<class 'str'> alternating\n"
     ]
    }
   ],
   "metadata": {}
  },
  {
   "cell_type": "code",
   "execution_count": 23,
   "source": [
    "testy = task.getDifficulty()\r\n",
    "print(type(testy),testy)"
   ],
   "outputs": [
    {
     "output_type": "stream",
     "name": "stdout",
     "text": [
      "<class 'str'> 2-medium\n"
     ]
    }
   ],
   "metadata": {}
  },
  {
   "cell_type": "code",
   "execution_count": 24,
   "source": [
    "testy1,testy2 = task.getMinMax()\r\n",
    "print(type(testy1),testy1)\r\n",
    "print(type(testy2),testy2)"
   ],
   "outputs": [
    {
     "output_type": "stream",
     "name": "stdout",
     "text": [
      "<class 'numpy.float64'> 1.0\n",
      "<class 'numpy.float64'> 46.0199203187\n"
     ]
    }
   ],
   "metadata": {}
  },
  {
   "cell_type": "code",
   "execution_count": 25,
   "source": [
    "testy1,testy2 = task.getNumLXEX()\r\n",
    "print(type(testy1),testy1)\r\n",
    "print(type(testy2),testy2)"
   ],
   "outputs": [
    {
     "output_type": "stream",
     "name": "stdout",
     "text": [
      "<class 'numpy.int64'> 93442\n",
      "<class 'numpy.int64'> 1141\n"
     ]
    }
   ],
   "metadata": {}
  },
  {
   "cell_type": "code",
   "execution_count": 26,
   "source": [
    "# pprint.pprint(task.df2dict(task.df))\r\n",
    "# for key in task.df2dict(task.df).keys():\r\n",
    "#     print([(k,type(k)) for k in key if k == k])\r\n",
    "# for col in task.df.columns:\r\n",
    "#     print(col)\r\n",
    "# pprint.pprint(task.df.to_dict())"
   ],
   "outputs": [],
   "metadata": {}
  }
 ],
 "metadata": {
  "interpreter": {
   "hash": "f122e15337e94c6fcfcf312b654fb8b56348c659d5e1d47922a84bd4b33f2626"
  },
  "kernelspec": {
   "display_name": "Python 3.6.8 64-bit ('venv': venv)",
   "name": "python3"
  },
  "language_info": {
   "codemirror_mode": {
    "name": "ipython",
    "version": 3
   },
   "file_extension": ".py",
   "mimetype": "text/x-python",
   "name": "python",
   "nbconvert_exporter": "python",
   "pygments_lexer": "ipython3",
   "version": "3.6.8"
  },
  "orig_nbformat": 4
 },
 "nbformat": 4,
 "nbformat_minor": 2
}