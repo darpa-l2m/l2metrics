{
 "cells": [
  {
   "cell_type": "code",
   "execution_count": 1,
   "metadata": {},
   "outputs": [],
   "source": [
    "from helper import TaskMetrics\r\n",
    "import pprint"
   ]
  },
  {
   "cell_type": "code",
   "execution_count": 2,
   "metadata": {},
   "outputs": [],
   "source": [
    "task = TaskMetrics(\"multi_task_metrics.json\")"
   ]
  },
  {
   "cell_type": "code",
   "execution_count": 3,
   "metadata": {},
   "outputs": [
    {
     "name": "stdout",
     "output_type": "stream",
     "text": [
      "<class 'str'> task2_1\n",
      "<class 'list'> [1.0564357621543066, 1.0152121534708918, 1.0001741136956974]\n",
      "<class 'str'> task3_1\n",
      "<class 'list'> [1.0487001904871414, 0.996104458008453, 1.0121624691474171]\n"
     ]
    }
   ],
   "source": [
    "for col,val in task.getBackwardTransferRatio(\"task1_1\").items():\r\n",
    "    print(type(col),col)\r\n",
    "    print(type(val),val)"
   ]
  },
  {
   "cell_type": "code",
   "execution_count": 4,
   "metadata": {},
   "outputs": [
    {
     "name": "stdout",
     "output_type": "stream",
     "text": [
      "{'task1_1': [1.184544683973009, 1.020127768079356, 1.0018259824264808, 1.0025318034452886], 'task3_1': [1.027873521987033, 1.0062319950011445, 1.0027563008509333]}\n"
     ]
    }
   ],
   "source": [
    "print(task.getBackwardTransferRatio(\"task2_1\"))"
   ]
  },
  {
   "cell_type": "code",
   "execution_count": 5,
   "metadata": {},
   "outputs": [
    {
     "name": "stdout",
     "output_type": "stream",
     "text": [
      "<class 'pandas.core.frame.DataFrame'>\n"
     ]
    }
   ],
   "source": [
    "print((type(task.df.root.task_metrics)))"
   ]
  },
  {
   "cell_type": "code",
   "execution_count": 6,
   "metadata": {},
   "outputs": [
    {
     "name": "stdout",
     "output_type": "stream",
     "text": [
      "{'perf_recovery': -2.0, 'perf_maintenance_mrlep': 3.855814336, 'forward_transfer_ratio': 12.7602959694, 'backward_transfer_ratio': 1.0831924335, 'ste_rel_perf': 1.1063315766, 'sample_efficiency': 0.9133716955, 'run_id': 'multi_task', 'complexity': '2-intermediate', 'difficulty': '2-medium', 'scenario_type': 'custom', 'metrics_column': 'performance', 'min': 0.0, 'max': 100.0, 'num_lx': 1200, 'num_ex': 720, 'task_metrics': {'task1_1': {'perf_recovery': -6.0, 'perf_maintenance_mrlep': 3.4305340174334833, 'backward_transfer_ratio': {'task2_1': [1.0564357621543066, 1.0152121534708918, 1.0001741136956974], 'task3_1': [1.0487001904871414, 0.996104458008453, 1.0121624691474171]}, 'ste_rel_perf': 1.0594947702743842, 'sample_efficiency': 0.9090902344140432, 'recovery_times': [0.0, 18.0, 12.0], 'maintenance_val_mrlep': [[13.025272013865177, 9.914763632726022], [1.8977564333457622, -0.3329811937858551], [0.1795601033587957, -0.9231738279306114], [0.252540960455093]], 'min': 0.5953620138436911, 'max': 100.0, 'num_lx': 400, 'num_ex': 240}, 'task2_1': {'perf_recovery': -0.0, 'perf_maintenance_mrlep': 6.090194553614775, 'forward_transfer_ratio': {'task3_1': 12.76029596941125}, 'backward_transfer_ratio': {'task1_1': [1.184544683973009, 1.020127768079356, 1.0018259824264808, 1.0025318034452886], 'task3_1': [1.027873521987033, 1.0062319950011445, 1.0027563008509333]}, 'ste_rel_perf': 1.0965322961322805, 'sample_efficiency': 0.9166527731263069, 'recovery_times': [0.0, 0.0, 0.0], 'maintenance_val_mrlep': [[12.849220574205034, 16.888541605032756], [2.658065015547308, 4.11396240296574], [0.007013031174793127, 0.024364692763015228]], 'min': 0.0, 'max': 100.0, 'num_lx': 400, 'num_ex': 240}, 'task3_1': {'perf_recovery': -0.0, 'perf_maintenance_mrlep': 2.0467144368394656, 'backward_transfer_ratio': {'task1_1': [0.9627955691175522, 0.9768074195978588, 0.9888065182913506], 'task2_1': [1.2188048731254775, 1.0285665590647524, 1.00007037658636]}, 'ste_rel_perf': 1.1629676633508115, 'sample_efficiency': 0.9143720788116605, 'recovery_times': [0.0, 0.0, 0.0], 'maintenance_val_mrlep': [[3.7567373067718535, 6.011616932786396], [-0.3745577007104828, 0.2223165177886699], [1.1950290435675868, 1.4691445208327707]], 'min': 0.0, 'max': 99.99487366193057, 'num_lx': 400, 'num_ex': 240}}}\n"
     ]
    }
   ],
   "source": [
    "pprint.pprint(task.df2dict(task.df))\r\n",
    "# for key in task.df2dict(task.df).keys():\r\n",
    "#     print([(k,type(k)) for k in key if k == k])\r\n",
    "# for col in task.df.columns:\r\n",
    "#     print(col)\r\n",
    "# pprint.pprint(task.df.to_dict())"
   ]
  }
 ],
 "metadata": {
  "interpreter": {
   "hash": "f122e15337e94c6fcfcf312b654fb8b56348c659d5e1d47922a84bd4b33f2626"
  },
  "kernelspec": {
   "display_name": "Python 3.6.8 64-bit ('venv': venv)",
   "name": "python3"
  },
  "language_info": {
   "codemirror_mode": {
    "name": "ipython",
    "version": 3
   },
   "file_extension": ".py",
   "mimetype": "text/x-python",
   "name": "python",
   "nbconvert_exporter": "python",
   "pygments_lexer": "ipython3",
   "version": "3.6.8"
  },
  "orig_nbformat": 4
 },
 "nbformat": 4,
 "nbformat_minor": 2
}