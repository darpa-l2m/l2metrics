{
 "cells": [
  {
   "cell_type": "code",
   "execution_count": 1,
   "source": [
    "from helper import TaskMetrics\r\n",
    "import pprint"
   ],
   "outputs": [],
   "metadata": {}
  },
  {
   "cell_type": "code",
   "execution_count": 2,
   "source": [
    "task = TaskMetrics(\"sri_normalized_no_outliers.json\")"
   ],
   "outputs": [],
   "metadata": {}
  },
  {
   "cell_type": "code",
   "execution_count": 3,
   "source": [
    "# task.toXL()"
   ],
   "outputs": [
    {
     "output_type": "error",
     "ename": "FileNotFoundError",
     "evalue": "[Errno 2] No such file or directory: 'C:\\\\\\\\Users\\\\balamb1\\\\Documents\\\\Darpa L2M\\\\\\\\l2metrics\\\\\\\\examples\\\\dfout\\\\\\\\0.xlsx'",
     "traceback": [
      "\u001b[1;31m---------------------------------------------------------------------------\u001b[0m",
      "\u001b[1;31mFileNotFoundError\u001b[0m                         Traceback (most recent call last)",
      "\u001b[1;32m<ipython-input-3-a9ca7229116b>\u001b[0m in \u001b[0;36m<module>\u001b[1;34m\u001b[0m\n\u001b[1;32m----> 1\u001b[1;33m \u001b[0mtask\u001b[0m\u001b[1;33m.\u001b[0m\u001b[0mtoXL\u001b[0m\u001b[1;33m(\u001b[0m\u001b[1;33m)\u001b[0m\u001b[1;33m\u001b[0m\u001b[1;33m\u001b[0m\u001b[0m\n\u001b[0m",
      "\u001b[1;32mc:\\Users\\balamb1\\Documents\\Darpa L2M\\l2metrics\\examples\\helper.py\u001b[0m in \u001b[0;36mtoXL\u001b[1;34m(self)\u001b[0m\n\u001b[0;32m     15\u001b[0m     \u001b[1;32mdef\u001b[0m \u001b[0mtoXL\u001b[0m\u001b[1;33m(\u001b[0m\u001b[0mself\u001b[0m\u001b[1;33m,\u001b[0m\u001b[1;33m)\u001b[0m\u001b[1;33m:\u001b[0m\u001b[1;33m\u001b[0m\u001b[1;33m\u001b[0m\u001b[0m\n\u001b[0;32m     16\u001b[0m         \u001b[1;32mfor\u001b[0m \u001b[0midx\u001b[0m\u001b[1;33m,\u001b[0m\u001b[0mdf\u001b[0m \u001b[1;32min\u001b[0m \u001b[0menumerate\u001b[0m\u001b[1;33m(\u001b[0m\u001b[0mself\u001b[0m\u001b[1;33m.\u001b[0m\u001b[0mdfs\u001b[0m\u001b[1;33m)\u001b[0m\u001b[1;33m:\u001b[0m\u001b[1;33m\u001b[0m\u001b[1;33m\u001b[0m\u001b[0m\n\u001b[1;32m---> 17\u001b[1;33m             \u001b[0mdf\u001b[0m\u001b[1;33m.\u001b[0m\u001b[0mto_excel\u001b[0m\u001b[1;33m(\u001b[0m\u001b[1;34mr'C:\\\\Users\\balamb1\\Documents\\Darpa L2M\\\\l2metrics\\\\examples\\dfout\\\\'\u001b[0m\u001b[1;33m+\u001b[0m\u001b[0mstr\u001b[0m\u001b[1;33m(\u001b[0m\u001b[0midx\u001b[0m\u001b[1;33m)\u001b[0m\u001b[1;33m+\u001b[0m\u001b[1;34m'.xlsx'\u001b[0m\u001b[1;33m,\u001b[0m \u001b[0mheader\u001b[0m\u001b[1;33m=\u001b[0m\u001b[1;32mTrue\u001b[0m\u001b[1;33m)\u001b[0m\u001b[1;33m\u001b[0m\u001b[1;33m\u001b[0m\u001b[0m\n\u001b[0m\u001b[0;32m     18\u001b[0m \u001b[1;33m\u001b[0m\u001b[0m\n\u001b[0;32m     19\u001b[0m     \u001b[1;32mdef\u001b[0m \u001b[0mjson_refactor\u001b[0m\u001b[1;33m(\u001b[0m\u001b[0mself\u001b[0m\u001b[1;33m,\u001b[0m\u001b[0mjson\u001b[0m\u001b[1;33m:\u001b[0m\u001b[0mdict\u001b[0m\u001b[1;33m,\u001b[0m\u001b[0mparent\u001b[0m\u001b[1;33m:\u001b[0m\u001b[0mstr\u001b[0m\u001b[1;33m=\u001b[0m\u001b[1;34m\"root\"\u001b[0m\u001b[1;33m)\u001b[0m\u001b[1;33m->\u001b[0m\u001b[0mdict\u001b[0m\u001b[1;33m:\u001b[0m\u001b[1;33m\u001b[0m\u001b[1;33m\u001b[0m\u001b[0m\n",
      "\u001b[1;32mc:\\Users\\balamb1\\Documents\\Darpa L2M\\venv\\lib\\site-packages\\pandas\\core\\generic.py\u001b[0m in \u001b[0;36mto_excel\u001b[1;34m(self, excel_writer, sheet_name, na_rep, float_format, columns, header, index, index_label, startrow, startcol, engine, merge_cells, encoding, inf_rep, verbose, freeze_panes)\u001b[0m\n\u001b[0;32m   2030\u001b[0m             \u001b[0mstartcol\u001b[0m\u001b[1;33m=\u001b[0m\u001b[0mstartcol\u001b[0m\u001b[1;33m,\u001b[0m\u001b[1;33m\u001b[0m\u001b[1;33m\u001b[0m\u001b[0m\n\u001b[0;32m   2031\u001b[0m             \u001b[0mfreeze_panes\u001b[0m\u001b[1;33m=\u001b[0m\u001b[0mfreeze_panes\u001b[0m\u001b[1;33m,\u001b[0m\u001b[1;33m\u001b[0m\u001b[1;33m\u001b[0m\u001b[0m\n\u001b[1;32m-> 2032\u001b[1;33m             \u001b[0mengine\u001b[0m\u001b[1;33m=\u001b[0m\u001b[0mengine\u001b[0m\u001b[1;33m,\u001b[0m\u001b[1;33m\u001b[0m\u001b[1;33m\u001b[0m\u001b[0m\n\u001b[0m\u001b[0;32m   2033\u001b[0m         )\n\u001b[0;32m   2034\u001b[0m \u001b[1;33m\u001b[0m\u001b[0m\n",
      "\u001b[1;32mc:\\Users\\balamb1\\Documents\\Darpa L2M\\venv\\lib\\site-packages\\pandas\\io\\formats\\excel.py\u001b[0m in \u001b[0;36mwrite\u001b[1;34m(self, writer, sheet_name, startrow, startcol, freeze_panes, engine)\u001b[0m\n\u001b[0;32m    740\u001b[0m         )\n\u001b[0;32m    741\u001b[0m         \u001b[1;32mif\u001b[0m \u001b[0mneed_save\u001b[0m\u001b[1;33m:\u001b[0m\u001b[1;33m\u001b[0m\u001b[1;33m\u001b[0m\u001b[0m\n\u001b[1;32m--> 742\u001b[1;33m             \u001b[0mwriter\u001b[0m\u001b[1;33m.\u001b[0m\u001b[0msave\u001b[0m\u001b[1;33m(\u001b[0m\u001b[1;33m)\u001b[0m\u001b[1;33m\u001b[0m\u001b[1;33m\u001b[0m\u001b[0m\n\u001b[0m",
      "\u001b[1;32mc:\\Users\\balamb1\\Documents\\Darpa L2M\\venv\\lib\\site-packages\\pandas\\io\\excel\\_openpyxl.py\u001b[0m in \u001b[0;36msave\u001b[1;34m(self)\u001b[0m\n\u001b[0;32m     41\u001b[0m         \u001b[0mSave\u001b[0m \u001b[0mworkbook\u001b[0m \u001b[0mto\u001b[0m \u001b[0mdisk\u001b[0m\u001b[1;33m.\u001b[0m\u001b[1;33m\u001b[0m\u001b[1;33m\u001b[0m\u001b[0m\n\u001b[0;32m     42\u001b[0m         \"\"\"\n\u001b[1;32m---> 43\u001b[1;33m         \u001b[1;32mreturn\u001b[0m \u001b[0mself\u001b[0m\u001b[1;33m.\u001b[0m\u001b[0mbook\u001b[0m\u001b[1;33m.\u001b[0m\u001b[0msave\u001b[0m\u001b[1;33m(\u001b[0m\u001b[0mself\u001b[0m\u001b[1;33m.\u001b[0m\u001b[0mpath\u001b[0m\u001b[1;33m)\u001b[0m\u001b[1;33m\u001b[0m\u001b[1;33m\u001b[0m\u001b[0m\n\u001b[0m\u001b[0;32m     44\u001b[0m \u001b[1;33m\u001b[0m\u001b[0m\n\u001b[0;32m     45\u001b[0m     \u001b[1;33m@\u001b[0m\u001b[0mclassmethod\u001b[0m\u001b[1;33m\u001b[0m\u001b[1;33m\u001b[0m\u001b[0m\n",
      "\u001b[1;32mc:\\Users\\balamb1\\Documents\\Darpa L2M\\venv\\lib\\site-packages\\openpyxl\\workbook\\workbook.py\u001b[0m in \u001b[0;36msave\u001b[1;34m(self, filename)\u001b[0m\n\u001b[0;32m    405\u001b[0m         \u001b[1;32mif\u001b[0m \u001b[0mself\u001b[0m\u001b[1;33m.\u001b[0m\u001b[0mwrite_only\u001b[0m \u001b[1;32mand\u001b[0m \u001b[1;32mnot\u001b[0m \u001b[0mself\u001b[0m\u001b[1;33m.\u001b[0m\u001b[0mworksheets\u001b[0m\u001b[1;33m:\u001b[0m\u001b[1;33m\u001b[0m\u001b[1;33m\u001b[0m\u001b[0m\n\u001b[0;32m    406\u001b[0m             \u001b[0mself\u001b[0m\u001b[1;33m.\u001b[0m\u001b[0mcreate_sheet\u001b[0m\u001b[1;33m(\u001b[0m\u001b[1;33m)\u001b[0m\u001b[1;33m\u001b[0m\u001b[1;33m\u001b[0m\u001b[0m\n\u001b[1;32m--> 407\u001b[1;33m         \u001b[0msave_workbook\u001b[0m\u001b[1;33m(\u001b[0m\u001b[0mself\u001b[0m\u001b[1;33m,\u001b[0m \u001b[0mfilename\u001b[0m\u001b[1;33m)\u001b[0m\u001b[1;33m\u001b[0m\u001b[1;33m\u001b[0m\u001b[0m\n\u001b[0m\u001b[0;32m    408\u001b[0m \u001b[1;33m\u001b[0m\u001b[0m\n\u001b[0;32m    409\u001b[0m \u001b[1;33m\u001b[0m\u001b[0m\n",
      "\u001b[1;32mc:\\Users\\balamb1\\Documents\\Darpa L2M\\venv\\lib\\site-packages\\openpyxl\\writer\\excel.py\u001b[0m in \u001b[0;36msave_workbook\u001b[1;34m(workbook, filename)\u001b[0m\n\u001b[0;32m    289\u001b[0m \u001b[1;33m\u001b[0m\u001b[0m\n\u001b[0;32m    290\u001b[0m     \"\"\"\n\u001b[1;32m--> 291\u001b[1;33m     \u001b[0marchive\u001b[0m \u001b[1;33m=\u001b[0m \u001b[0mZipFile\u001b[0m\u001b[1;33m(\u001b[0m\u001b[0mfilename\u001b[0m\u001b[1;33m,\u001b[0m \u001b[1;34m'w'\u001b[0m\u001b[1;33m,\u001b[0m \u001b[0mZIP_DEFLATED\u001b[0m\u001b[1;33m,\u001b[0m \u001b[0mallowZip64\u001b[0m\u001b[1;33m=\u001b[0m\u001b[1;32mTrue\u001b[0m\u001b[1;33m)\u001b[0m\u001b[1;33m\u001b[0m\u001b[1;33m\u001b[0m\u001b[0m\n\u001b[0m\u001b[0;32m    292\u001b[0m     \u001b[0mwriter\u001b[0m \u001b[1;33m=\u001b[0m \u001b[0mExcelWriter\u001b[0m\u001b[1;33m(\u001b[0m\u001b[0mworkbook\u001b[0m\u001b[1;33m,\u001b[0m \u001b[0marchive\u001b[0m\u001b[1;33m)\u001b[0m\u001b[1;33m\u001b[0m\u001b[1;33m\u001b[0m\u001b[0m\n\u001b[0;32m    293\u001b[0m     \u001b[0mwriter\u001b[0m\u001b[1;33m.\u001b[0m\u001b[0msave\u001b[0m\u001b[1;33m(\u001b[0m\u001b[1;33m)\u001b[0m\u001b[1;33m\u001b[0m\u001b[1;33m\u001b[0m\u001b[0m\n",
      "\u001b[1;32mc:\\users\\balamb1\\appdata\\local\\programs\\python\\python36\\lib\\zipfile.py\u001b[0m in \u001b[0;36m__init__\u001b[1;34m(self, file, mode, compression, allowZip64)\u001b[0m\n\u001b[0;32m   1111\u001b[0m             \u001b[1;32mwhile\u001b[0m \u001b[1;32mTrue\u001b[0m\u001b[1;33m:\u001b[0m\u001b[1;33m\u001b[0m\u001b[1;33m\u001b[0m\u001b[0m\n\u001b[0;32m   1112\u001b[0m                 \u001b[1;32mtry\u001b[0m\u001b[1;33m:\u001b[0m\u001b[1;33m\u001b[0m\u001b[1;33m\u001b[0m\u001b[0m\n\u001b[1;32m-> 1113\u001b[1;33m                     \u001b[0mself\u001b[0m\u001b[1;33m.\u001b[0m\u001b[0mfp\u001b[0m \u001b[1;33m=\u001b[0m \u001b[0mio\u001b[0m\u001b[1;33m.\u001b[0m\u001b[0mopen\u001b[0m\u001b[1;33m(\u001b[0m\u001b[0mfile\u001b[0m\u001b[1;33m,\u001b[0m \u001b[0mfilemode\u001b[0m\u001b[1;33m)\u001b[0m\u001b[1;33m\u001b[0m\u001b[1;33m\u001b[0m\u001b[0m\n\u001b[0m\u001b[0;32m   1114\u001b[0m                 \u001b[1;32mexcept\u001b[0m \u001b[0mOSError\u001b[0m\u001b[1;33m:\u001b[0m\u001b[1;33m\u001b[0m\u001b[1;33m\u001b[0m\u001b[0m\n\u001b[0;32m   1115\u001b[0m                     \u001b[1;32mif\u001b[0m \u001b[0mfilemode\u001b[0m \u001b[1;32min\u001b[0m \u001b[0mmodeDict\u001b[0m\u001b[1;33m:\u001b[0m\u001b[1;33m\u001b[0m\u001b[1;33m\u001b[0m\u001b[0m\n",
      "\u001b[1;31mFileNotFoundError\u001b[0m: [Errno 2] No such file or directory: 'C:\\\\\\\\Users\\\\balamb1\\\\Documents\\\\Darpa L2M\\\\\\\\l2metrics\\\\\\\\examples\\\\dfout\\\\\\\\0.xlsx'"
     ]
    }
   ],
   "metadata": {}
  },
  {
   "cell_type": "code",
   "execution_count": null,
   "source": [
    "for idx,df in enumerate(task.dfs):\r\n",
    "    try:\r\n",
    "        print(idx,df.root.task_metrics[\"collectmineralshards_1\"].forward_transfer_ratio)\r\n",
    "    except (KeyError,AttributeError) as e:\r\n",
    "        print(idx,'pain')\r\n",
    "        continue"
   ],
   "outputs": [
    {
     "output_type": "stream",
     "name": "stdout",
     "text": [
      "0    defeatroaches_1\n",
      "0         1.881715\n",
      "1 pain\n",
      "2 pain\n",
      "3 pain\n",
      "4    defeatzerglingsandbanelings_1\n",
      "0                       1.302655\n",
      "5 pain\n",
      "6 pain\n",
      "7 pain\n",
      "8 pain\n",
      "9 pain\n",
      "10 pain\n",
      "11    movetobeacon_1\n",
      "0        1.501038\n",
      "12    movetobeacon_1\n",
      "0        1.501038\n",
      "13    defeatroaches_1\n",
      "0         1.881715\n",
      "14    defeatzerglingsandbanelings_1\n",
      "0                       1.302655\n",
      "15 pain\n",
      "16 pain\n",
      "17 pain\n",
      "18 pain\n",
      "19 pain\n",
      "20 pain\n",
      "21 pain\n",
      "22 pain\n",
      "23 pain\n",
      "24    defeatroaches_1\n",
      "0         0.589491\n",
      "25 pain\n",
      "26    movetobeacon_1\n",
      "0        1.395276\n",
      "27    defeatzerglingsandbanelings_1\n",
      "0                       1.199826\n",
      "28 pain\n",
      "29 pain\n",
      "30 pain\n",
      "31 pain\n",
      "32 pain\n",
      "33 pain\n",
      "34 pain\n",
      "35 pain\n",
      "36    defeatzerglingsandbanelings_1\n",
      "0                       1.199826\n",
      "37    movetobeacon_1\n",
      "0        1.395276\n",
      "38 pain\n",
      "39    defeatroaches_1\n",
      "0         0.589491\n",
      "40 pain\n",
      "41 pain\n",
      "42 pain\n",
      "43 pain\n",
      "44 pain\n",
      "45 pain\n",
      "46 pain\n",
      "47 pain\n",
      "48    defeatroaches_1  defeatzerglingsandbanelings_1  movetobeacon_1\n",
      "0         2.973035                       1.686097        1.501038\n",
      "49    defeatroaches_1  defeatzerglingsandbanelings_1  movetobeacon_1\n",
      "0         2.973035                       1.686097        1.501038\n",
      "50    defeatroaches_1  defeatzerglingsandbanelings_1  movetobeacon_1\n",
      "0         1.881715                       1.197319        2.218624\n",
      "51    defeatroaches_1  defeatzerglingsandbanelings_1  movetobeacon_1\n",
      "0         1.023579                       1.302655        1.098933\n",
      "52    defeatroaches_1  defeatzerglingsandbanelings_1  movetobeacon_1\n",
      "0         1.023579                       1.302655        1.098933\n",
      "53    defeatroaches_1  defeatzerglingsandbanelings_1\n",
      "0         0.882601                       0.964068\n",
      "54    defeatroaches_1  defeatzerglingsandbanelings_1\n",
      "0         0.788176                       0.975052\n",
      "55    defeatzerglingsandbanelings_1\n",
      "0                       0.960294\n",
      "56    defeatzerglingsandbanelings_1  movetobeacon_1\n",
      "0                       0.867804        0.949104\n",
      "57 pain\n",
      "58    movetobeacon_1\n",
      "0        1.109312\n",
      "59    defeatzerglingsandbanelings_1\n",
      "0                       1.605495\n",
      "60 pain\n",
      "61    defeatroaches_1  movetobeacon_1\n",
      "0         1.026404         1.67089\n",
      "62    defeatroaches_1  movetobeacon_1\n",
      "0         1.114732        1.748204\n",
      "63    defeatroaches_1\n",
      "0         0.744648\n",
      "64 pain\n",
      "65    defeatroaches_1\n",
      "0         0.771913\n",
      "66 pain\n",
      "67    defeatzerglingsandbanelings_1  movetobeacon_1\n",
      "0                       0.878989        0.904457\n",
      "68    defeatroaches_1  defeatzerglingsandbanelings_1  movetobeacon_1\n",
      "0         1.023579                       1.302655        1.098933\n",
      "69 pain\n",
      "70    defeatroaches_1  defeatzerglingsandbanelings_1  movetobeacon_1\n",
      "0         1.023579                       1.302655        1.098933\n",
      "71 pain\n",
      "72    defeatzerglingsandbanelings_1\n",
      "0                       1.016854\n",
      "73    defeatroaches_1  defeatzerglingsandbanelings_1\n",
      "0         0.735588                        0.84605\n",
      "74    defeatzerglingsandbanelings_1\n",
      "0                       1.874186\n",
      "75 pain\n",
      "76    defeatroaches_1\n",
      "0         0.332787\n",
      "77    defeatroaches_1  defeatzerglingsandbanelings_1  movetobeacon_1\n",
      "0         2.973035                       1.686097        1.501038\n",
      "78    defeatroaches_1  defeatzerglingsandbanelings_1  movetobeacon_1\n",
      "0         2.973035                       1.686097        1.501038\n",
      "79    defeatroaches_1  defeatzerglingsandbanelings_1  movetobeacon_1\n",
      "0         1.881715                       1.197319        2.218624\n",
      "80    defeatroaches_1  defeatzerglingsandbanelings_1  movetobeacon_1\n",
      "0         1.881715                       1.197319        2.218624\n",
      "81    defeatroaches_1  defeatzerglingsandbanelings_1\n",
      "0         0.821156                       0.881852\n",
      "82    defeatzerglingsandbanelings_1  movetobeacon_1\n",
      "0                        0.91039        1.022323\n",
      "83    defeatzerglingsandbanelings_1  movetobeacon_1\n",
      "0                       0.889276         0.91428\n",
      "84 pain\n",
      "85    defeatroaches_1\n",
      "0         0.273219\n",
      "86    defeatroaches_1  movetobeacon_1\n",
      "0         0.975116        2.128542\n",
      "87    defeatroaches_1  movetobeacon_1\n",
      "0         1.023274        2.048733\n",
      "88    movetobeacon_1\n",
      "0        1.486217\n",
      "89 pain\n",
      "90 pain\n",
      "91 pain\n",
      "92    movetobeacon_1\n",
      "0        1.762378\n",
      "93 pain\n",
      "94    defeatroaches_1  defeatzerglingsandbanelings_1  movetobeacon_1\n",
      "0         1.881715                       1.197319        2.218624\n",
      "95    movetobeacon_1\n",
      "0        1.394971\n",
      "96    defeatroaches_1  defeatzerglingsandbanelings_1  movetobeacon_1\n",
      "0         0.307577                       0.425818        1.395276\n",
      "97    defeatroaches_1  defeatzerglingsandbanelings_1  movetobeacon_1\n",
      "0         0.307577                       0.425818        1.395276\n",
      "98    defeatroaches_1  defeatzerglingsandbanelings_1  movetobeacon_1\n",
      "0         0.589491                       0.535969        1.734105\n",
      "99    defeatroaches_1  defeatzerglingsandbanelings_1  movetobeacon_1\n",
      "0         0.589491                       0.535969        1.734105\n",
      "100 pain\n",
      "101    defeatroaches_1\n",
      "0         0.730686\n",
      "102 pain\n",
      "103    defeatzerglingsandbanelings_1\n",
      "0                       0.673404\n",
      "104    defeatroaches_1  defeatzerglingsandbanelings_1\n",
      "0         2.748824                       2.254871\n",
      "105    defeatroaches_1  defeatzerglingsandbanelings_1  movetobeacon_1\n",
      "0          1.45562                       1.199826        1.523404\n",
      "106    defeatroaches_1  defeatzerglingsandbanelings_1\n",
      "0         2.698991                       2.180439\n",
      "107    defeatroaches_1  defeatzerglingsandbanelings_1  movetobeacon_1\n",
      "0          1.45562                       1.199826        1.523404\n",
      "108    defeatzerglingsandbanelings_1  movetobeacon_1\n",
      "0                       0.974464        0.986447\n",
      "109    defeatzerglingsandbanelings_1  movetobeacon_1\n",
      "0                        1.05689        0.922963\n",
      "110    defeatzerglingsandbanelings_1\n",
      "0                       1.105904\n",
      "111 pain\n",
      "112    movetobeacon_1\n",
      "0        1.338038\n",
      "113 pain\n",
      "114    defeatroaches_1  movetobeacon_1\n",
      "0         1.173264        0.814295\n",
      "115    defeatroaches_1  movetobeacon_1\n",
      "0         1.063139        0.745393\n",
      "116    defeatroaches_1\n",
      "0         1.091527\n",
      "117    movetobeacon_1\n",
      "0        1.284325\n",
      "118 pain\n",
      "119 pain\n",
      "120    defeatroaches_1  defeatzerglingsandbanelings_1  movetobeacon_1\n",
      "0         0.307577                       0.425818        1.395276\n",
      "121    defeatroaches_1  defeatzerglingsandbanelings_1  movetobeacon_1\n",
      "0         0.589491                       0.535969        1.734105\n",
      "122    defeatzerglingsandbanelings_1\n",
      "0                       0.881009\n",
      "123    defeatroaches_1  defeatzerglingsandbanelings_1  movetobeacon_1\n",
      "0         0.307577                       0.425818        1.395276\n",
      "124    defeatroaches_1  defeatzerglingsandbanelings_1  movetobeacon_1\n",
      "0          1.45562                       1.199826        1.523404\n",
      "125    defeatroaches_1  defeatzerglingsandbanelings_1  movetobeacon_1\n",
      "0         0.589491                       0.535969        1.734105\n",
      "126    defeatroaches_1  defeatzerglingsandbanelings_1  movetobeacon_1\n",
      "0          1.45562                       1.199826        1.523404\n",
      "127    defeatroaches_1\n",
      "0         0.687983\n",
      "128 pain\n",
      "129    defeatroaches_1  defeatzerglingsandbanelings_1\n",
      "0         2.384655                       2.426839\n",
      "130    defeatroaches_1  defeatzerglingsandbanelings_1\n",
      "0         2.695157                       2.331942\n",
      "131 pain\n",
      "132 pain\n",
      "133    defeatzerglingsandbanelings_1  movetobeacon_1\n",
      "0                       0.933089        1.076324\n",
      "134    defeatzerglingsandbanelings_1  movetobeacon_1\n",
      "0                       0.922746        1.054211\n",
      "135    defeatzerglingsandbanelings_1\n",
      "0                       0.897988\n",
      "136    movetobeacon_1\n",
      "0        0.956378\n",
      "137    defeatroaches_1\n",
      "0         0.979297\n",
      "138 pain\n",
      "139    defeatroaches_1  movetobeacon_1\n",
      "0         1.015418        0.771642\n",
      "140    defeatroaches_1  movetobeacon_1\n",
      "0         1.000734        0.744737\n",
      "141    movetobeacon_1\n",
      "0        1.151686\n",
      "142 pain\n",
      "143 pain\n"
     ]
    }
   ],
   "metadata": {}
  },
  {
   "cell_type": "code",
   "execution_count": null,
   "source": [
    "task.dfs[1].root.task_metrics[\"collectmineralshards_1\"]"
   ],
   "outputs": [
    {
     "output_type": "error",
     "ename": "KeyError",
     "evalue": "'collectmineralshards_1'",
     "traceback": [
      "\u001b[1;31m---------------------------------------------------------------------------\u001b[0m",
      "\u001b[1;31mKeyError\u001b[0m                                  Traceback (most recent call last)",
      "\u001b[1;32m<ipython-input-8-221d23c3df91>\u001b[0m in \u001b[0;36m<module>\u001b[1;34m\u001b[0m\n\u001b[1;32m----> 1\u001b[1;33m \u001b[0mtask\u001b[0m\u001b[1;33m.\u001b[0m\u001b[0mdfs\u001b[0m\u001b[1;33m[\u001b[0m\u001b[1;36m1\u001b[0m\u001b[1;33m]\u001b[0m\u001b[1;33m.\u001b[0m\u001b[0mroot\u001b[0m\u001b[1;33m.\u001b[0m\u001b[0mtask_metrics\u001b[0m\u001b[1;33m[\u001b[0m\u001b[1;34m\"collectmineralshards_1\"\u001b[0m\u001b[1;33m]\u001b[0m\u001b[1;33m\u001b[0m\u001b[1;33m\u001b[0m\u001b[0m\n\u001b[0m",
      "\u001b[1;32mc:\\Users\\balamb1\\Documents\\Darpa L2M\\venv\\lib\\site-packages\\pandas\\core\\frame.py\u001b[0m in \u001b[0;36m__getitem__\u001b[1;34m(self, key)\u001b[0m\n\u001b[0;32m   2903\u001b[0m         \u001b[1;32mif\u001b[0m \u001b[0mis_single_key\u001b[0m\u001b[1;33m:\u001b[0m\u001b[1;33m\u001b[0m\u001b[1;33m\u001b[0m\u001b[0m\n\u001b[0;32m   2904\u001b[0m             \u001b[1;32mif\u001b[0m \u001b[0mself\u001b[0m\u001b[1;33m.\u001b[0m\u001b[0mcolumns\u001b[0m\u001b[1;33m.\u001b[0m\u001b[0mnlevels\u001b[0m \u001b[1;33m>\u001b[0m \u001b[1;36m1\u001b[0m\u001b[1;33m:\u001b[0m\u001b[1;33m\u001b[0m\u001b[1;33m\u001b[0m\u001b[0m\n\u001b[1;32m-> 2905\u001b[1;33m                 \u001b[1;32mreturn\u001b[0m \u001b[0mself\u001b[0m\u001b[1;33m.\u001b[0m\u001b[0m_getitem_multilevel\u001b[0m\u001b[1;33m(\u001b[0m\u001b[0mkey\u001b[0m\u001b[1;33m)\u001b[0m\u001b[1;33m\u001b[0m\u001b[1;33m\u001b[0m\u001b[0m\n\u001b[0m\u001b[0;32m   2906\u001b[0m             \u001b[0mindexer\u001b[0m \u001b[1;33m=\u001b[0m \u001b[0mself\u001b[0m\u001b[1;33m.\u001b[0m\u001b[0mcolumns\u001b[0m\u001b[1;33m.\u001b[0m\u001b[0mget_loc\u001b[0m\u001b[1;33m(\u001b[0m\u001b[0mkey\u001b[0m\u001b[1;33m)\u001b[0m\u001b[1;33m\u001b[0m\u001b[1;33m\u001b[0m\u001b[0m\n\u001b[0;32m   2907\u001b[0m             \u001b[1;32mif\u001b[0m \u001b[0mis_integer\u001b[0m\u001b[1;33m(\u001b[0m\u001b[0mindexer\u001b[0m\u001b[1;33m)\u001b[0m\u001b[1;33m:\u001b[0m\u001b[1;33m\u001b[0m\u001b[1;33m\u001b[0m\u001b[0m\n",
      "\u001b[1;32mc:\\Users\\balamb1\\Documents\\Darpa L2M\\venv\\lib\\site-packages\\pandas\\core\\frame.py\u001b[0m in \u001b[0;36m_getitem_multilevel\u001b[1;34m(self, key)\u001b[0m\n\u001b[0;32m   2953\u001b[0m     \u001b[1;32mdef\u001b[0m \u001b[0m_getitem_multilevel\u001b[0m\u001b[1;33m(\u001b[0m\u001b[0mself\u001b[0m\u001b[1;33m,\u001b[0m \u001b[0mkey\u001b[0m\u001b[1;33m)\u001b[0m\u001b[1;33m:\u001b[0m\u001b[1;33m\u001b[0m\u001b[1;33m\u001b[0m\u001b[0m\n\u001b[0;32m   2954\u001b[0m         \u001b[1;31m# self.columns is a MultiIndex\u001b[0m\u001b[1;33m\u001b[0m\u001b[1;33m\u001b[0m\u001b[1;33m\u001b[0m\u001b[0m\n\u001b[1;32m-> 2955\u001b[1;33m         \u001b[0mloc\u001b[0m \u001b[1;33m=\u001b[0m \u001b[0mself\u001b[0m\u001b[1;33m.\u001b[0m\u001b[0mcolumns\u001b[0m\u001b[1;33m.\u001b[0m\u001b[0mget_loc\u001b[0m\u001b[1;33m(\u001b[0m\u001b[0mkey\u001b[0m\u001b[1;33m)\u001b[0m\u001b[1;33m\u001b[0m\u001b[1;33m\u001b[0m\u001b[0m\n\u001b[0m\u001b[0;32m   2956\u001b[0m         \u001b[1;32mif\u001b[0m \u001b[0misinstance\u001b[0m\u001b[1;33m(\u001b[0m\u001b[0mloc\u001b[0m\u001b[1;33m,\u001b[0m \u001b[1;33m(\u001b[0m\u001b[0mslice\u001b[0m\u001b[1;33m,\u001b[0m \u001b[0mnp\u001b[0m\u001b[1;33m.\u001b[0m\u001b[0mndarray\u001b[0m\u001b[1;33m)\u001b[0m\u001b[1;33m)\u001b[0m\u001b[1;33m:\u001b[0m\u001b[1;33m\u001b[0m\u001b[1;33m\u001b[0m\u001b[0m\n\u001b[0;32m   2957\u001b[0m             \u001b[0mnew_columns\u001b[0m \u001b[1;33m=\u001b[0m \u001b[0mself\u001b[0m\u001b[1;33m.\u001b[0m\u001b[0mcolumns\u001b[0m\u001b[1;33m[\u001b[0m\u001b[0mloc\u001b[0m\u001b[1;33m]\u001b[0m\u001b[1;33m\u001b[0m\u001b[1;33m\u001b[0m\u001b[0m\n",
      "\u001b[1;32mc:\\Users\\balamb1\\Documents\\Darpa L2M\\venv\\lib\\site-packages\\pandas\\core\\indexes\\multi.py\u001b[0m in \u001b[0;36mget_loc\u001b[1;34m(self, key, method)\u001b[0m\n\u001b[0;32m   2702\u001b[0m \u001b[1;33m\u001b[0m\u001b[0m\n\u001b[0;32m   2703\u001b[0m         \u001b[1;32mif\u001b[0m \u001b[1;32mnot\u001b[0m \u001b[0misinstance\u001b[0m\u001b[1;33m(\u001b[0m\u001b[0mkey\u001b[0m\u001b[1;33m,\u001b[0m \u001b[0mtuple\u001b[0m\u001b[1;33m)\u001b[0m\u001b[1;33m:\u001b[0m\u001b[1;33m\u001b[0m\u001b[1;33m\u001b[0m\u001b[0m\n\u001b[1;32m-> 2704\u001b[1;33m             \u001b[0mloc\u001b[0m \u001b[1;33m=\u001b[0m \u001b[0mself\u001b[0m\u001b[1;33m.\u001b[0m\u001b[0m_get_level_indexer\u001b[0m\u001b[1;33m(\u001b[0m\u001b[0mkey\u001b[0m\u001b[1;33m,\u001b[0m \u001b[0mlevel\u001b[0m\u001b[1;33m=\u001b[0m\u001b[1;36m0\u001b[0m\u001b[1;33m)\u001b[0m\u001b[1;33m\u001b[0m\u001b[1;33m\u001b[0m\u001b[0m\n\u001b[0m\u001b[0;32m   2705\u001b[0m             \u001b[1;32mreturn\u001b[0m \u001b[0m_maybe_to_slice\u001b[0m\u001b[1;33m(\u001b[0m\u001b[0mloc\u001b[0m\u001b[1;33m)\u001b[0m\u001b[1;33m\u001b[0m\u001b[1;33m\u001b[0m\u001b[0m\n\u001b[0;32m   2706\u001b[0m \u001b[1;33m\u001b[0m\u001b[0m\n",
      "\u001b[1;32mc:\\Users\\balamb1\\Documents\\Darpa L2M\\venv\\lib\\site-packages\\pandas\\core\\indexes\\multi.py\u001b[0m in \u001b[0;36m_get_level_indexer\u001b[1;34m(self, key, level, indexer)\u001b[0m\n\u001b[0;32m   2974\u001b[0m                 \u001b[1;32mif\u001b[0m \u001b[1;32mnot\u001b[0m \u001b[0mlocs\u001b[0m\u001b[1;33m.\u001b[0m\u001b[0many\u001b[0m\u001b[1;33m(\u001b[0m\u001b[1;33m)\u001b[0m\u001b[1;33m:\u001b[0m\u001b[1;33m\u001b[0m\u001b[1;33m\u001b[0m\u001b[0m\n\u001b[0;32m   2975\u001b[0m                     \u001b[1;31m# The label is present in self.levels[level] but unused:\u001b[0m\u001b[1;33m\u001b[0m\u001b[1;33m\u001b[0m\u001b[1;33m\u001b[0m\u001b[0m\n\u001b[1;32m-> 2976\u001b[1;33m                     \u001b[1;32mraise\u001b[0m \u001b[0mKeyError\u001b[0m\u001b[1;33m(\u001b[0m\u001b[0mkey\u001b[0m\u001b[1;33m)\u001b[0m\u001b[1;33m\u001b[0m\u001b[1;33m\u001b[0m\u001b[0m\n\u001b[0m\u001b[0;32m   2977\u001b[0m                 \u001b[1;32mreturn\u001b[0m \u001b[0mlocs\u001b[0m\u001b[1;33m\u001b[0m\u001b[1;33m\u001b[0m\u001b[0m\n\u001b[0;32m   2978\u001b[0m \u001b[1;33m\u001b[0m\u001b[0m\n",
      "\u001b[1;31mKeyError\u001b[0m: 'collectmineralshards_1'"
     ]
    }
   ],
   "metadata": {}
  },
  {
   "cell_type": "code",
   "execution_count": null,
   "source": [
    "# print((type(task.df.root.task_metrics)))"
   ],
   "outputs": [],
   "metadata": {}
  },
  {
   "cell_type": "code",
   "execution_count": null,
   "source": [
    "testy = task.getNormalizationDataRange(\"collectmineralshards_1\")\r\n",
    "pprint.pprint(testy)"
   ],
   "outputs": [],
   "metadata": {}
  },
  {
   "cell_type": "code",
   "execution_count": null,
   "source": [
    "testy = task.getBackwardTransferRatio()\r\n",
    "print(type(testy),testy)"
   ],
   "outputs": [],
   "metadata": {}
  },
  {
   "cell_type": "code",
   "execution_count": null,
   "source": [
    "testy = task.getForwardTransferRatio(\"collectmineralshards_1\",\"defeatzerglingsandbaneglings_1\")\r\n",
    "print(type(testy),testy)"
   ],
   "outputs": [
    {
     "output_type": "stream",
     "name": "stdout",
     "text": [
      "<class 'list'> [{'defeatroaches_1': 1.8817152493375084}, None, None, None, {'defeatzerglingsandbanelings_1': 1.3026546844334261}, None, None, None, None, None, None, {'movetobeacon_1': 1.501038007026509}, {'movetobeacon_1': 1.501038007026509}, {'defeatroaches_1': 1.8817152493375084}, {'defeatzerglingsandbanelings_1': 1.3026546844334261}, None, None, None, None, None, None, None, None, None, {'defeatroaches_1': 0.5894909688013136}, None, {'movetobeacon_1': 1.3952757405467187}, {'defeatzerglingsandbanelings_1': 1.199826058146277}, None, None, None, None, None, None, None, None, {'defeatzerglingsandbanelings_1': 1.199826058146277}, {'movetobeacon_1': 1.3952757405467187}, None, {'defeatroaches_1': 0.5894909688013136}, None, None, None, None, None, None, None, None, {'defeatroaches_1': 2.9730351857941466, 'defeatzerglingsandbanelings_1': 1.6860972236996066, 'movetobeacon_1': 1.501038007026509}, {'defeatroaches_1': 2.9730351857941466, 'defeatzerglingsandbanelings_1': 1.6860972236996066, 'movetobeacon_1': 1.501038007026509}, {'defeatroaches_1': 1.8817152493375084, 'defeatzerglingsandbanelings_1': 1.1973191241362084, 'movetobeacon_1': 2.218623935454953}, {'defeatroaches_1': 1.023579344494223, 'defeatzerglingsandbanelings_1': 1.3026546844334261, 'movetobeacon_1': 1.0989332415691673}, {'defeatroaches_1': 1.023579344494223, 'defeatzerglingsandbanelings_1': 1.3026546844334261, 'movetobeacon_1': 1.0989332415691673}, {'defeatroaches_1': 0.8826014000443014, 'defeatzerglingsandbanelings_1': 0.9640682876538028}, {'defeatroaches_1': 0.7881756408705897, 'defeatzerglingsandbanelings_1': 0.9750522554109637}, {'defeatzerglingsandbanelings_1': 0.9602942880133758}, {'defeatzerglingsandbanelings_1': 0.8678042042128017, 'movetobeacon_1': 0.9491035073933851}, None, {'movetobeacon_1': 1.1093124941855057}, {'defeatzerglingsandbanelings_1': 1.6054953737770967}, None, {'defeatroaches_1': 1.0264036684003175, 'movetobeacon_1': 1.6708898643256187}, {'defeatroaches_1': 1.1147324871495816, 'movetobeacon_1': 1.7482043096568236}, {'defeatroaches_1': 0.7446476727105302}, None, {'defeatroaches_1': 0.7719127551956391}, None, {'defeatzerglingsandbanelings_1': 0.8789889448864378, 'movetobeacon_1': 0.9044574612472318}, {'defeatroaches_1': 1.023579344494223, 'defeatzerglingsandbanelings_1': 1.3026546844334261, 'movetobeacon_1': 1.0989332415691673}, None, {'defeatroaches_1': 1.023579344494223, 'defeatzerglingsandbanelings_1': 1.3026546844334261, 'movetobeacon_1': 1.0989332415691673}, None, {'defeatzerglingsandbanelings_1': 1.0168538445986541}, {'defeatroaches_1': 0.7355876453827971, 'defeatzerglingsandbanelings_1': 0.846049808231566}, {'defeatzerglingsandbanelings_1': 1.8741855190574124}, None, {'defeatroaches_1': 0.3327873444236062}, {'defeatroaches_1': 2.9730351857941466, 'defeatzerglingsandbanelings_1': 1.6860972236996066, 'movetobeacon_1': 1.501038007026509}, {'defeatroaches_1': 2.9730351857941466, 'defeatzerglingsandbanelings_1': 1.6860972236996066, 'movetobeacon_1': 1.501038007026509}, {'defeatroaches_1': 1.8817152493375084, 'defeatzerglingsandbanelings_1': 1.1973191241362084, 'movetobeacon_1': 2.218623935454953}, {'defeatroaches_1': 1.8817152493375084, 'defeatzerglingsandbanelings_1': 1.1973191241362084, 'movetobeacon_1': 2.218623935454953}, {'defeatroaches_1': 0.8211560227089977, 'defeatzerglingsandbanelings_1': 0.8818516577091143}, {'defeatzerglingsandbanelings_1': 0.9103902889412171, 'movetobeacon_1': 1.0223230230730767}, {'defeatzerglingsandbanelings_1': 0.8892761797061204, 'movetobeacon_1': 0.9142795913993855}, None, {'defeatroaches_1': 0.2732188954663737}, {'defeatroaches_1': 0.9751159671910673, 'movetobeacon_1': 2.1285415003990424}, {'defeatroaches_1': 1.02327394271806, 'movetobeacon_1': 2.0487330407023143}, {'movetobeacon_1': 1.4862172561007747}, None, None, None, {'movetobeacon_1': 1.7623784020111488}, None, {'defeatroaches_1': 1.8817152493375084, 'defeatzerglingsandbanelings_1': 1.1973191241362084, 'movetobeacon_1': 2.218623935454953}, {'movetobeacon_1': 1.394970878526837}, {'defeatroaches_1': 0.3075767533564923, 'defeatzerglingsandbanelings_1': 0.42581759648227396, 'movetobeacon_1': 1.3952757405467187}, {'defeatroaches_1': 0.3075767533564923, 'defeatzerglingsandbanelings_1': 0.42581759648227396, 'movetobeacon_1': 1.3952757405467187}, {'defeatroaches_1': 0.5894909688013136, 'defeatzerglingsandbanelings_1': 0.5359691487061197, 'movetobeacon_1': 1.7341050302153374}, {'defeatroaches_1': 0.5894909688013136, 'defeatzerglingsandbanelings_1': 0.5359691487061197, 'movetobeacon_1': 1.7341050302153374}, None, {'defeatroaches_1': 0.730685817897394}, None, {'defeatzerglingsandbanelings_1': 0.6734035678383942}, {'defeatroaches_1': 2.748824436844844, 'defeatzerglingsandbanelings_1': 2.254871182222575}, {'defeatroaches_1': 1.4556201359471974, 'defeatzerglingsandbanelings_1': 1.199826058146277, 'movetobeacon_1': 1.5234036189621654}, {'defeatroaches_1': 2.698990781354546, 'defeatzerglingsandbanelings_1': 2.1804389590261852}, {'defeatroaches_1': 1.4556201359471974, 'defeatzerglingsandbanelings_1': 1.199826058146277, 'movetobeacon_1': 1.5234036189621654}, {'defeatzerglingsandbanelings_1': 0.974464068681958, 'movetobeacon_1': 0.9864471581830634}, {'defeatzerglingsandbanelings_1': 1.0568901761009541, 'movetobeacon_1': 0.9229627938826752}, {'defeatzerglingsandbanelings_1': 1.1059044626215013}, None, {'movetobeacon_1': 1.3380382849826689}, None, {'defeatroaches_1': 1.1732644191236932, 'movetobeacon_1': 0.8142947136332617}, {'defeatroaches_1': 1.063138729002702, 'movetobeacon_1': 0.7453934589742244}, {'defeatroaches_1': 1.0915265158418161}, {'movetobeacon_1': 1.2843253327593012}, None, None, {'defeatroaches_1': 0.3075767533564923, 'defeatzerglingsandbanelings_1': 0.42581759648227396, 'movetobeacon_1': 1.3952757405467187}, {'defeatroaches_1': 0.5894909688013136, 'defeatzerglingsandbanelings_1': 0.5359691487061197, 'movetobeacon_1': 1.7341050302153374}, {'defeatzerglingsandbanelings_1': 0.8810094248533672}, {'defeatroaches_1': 0.3075767533564923, 'defeatzerglingsandbanelings_1': 0.42581759648227396, 'movetobeacon_1': 1.3952757405467187}, {'defeatroaches_1': 1.4556201359471974, 'defeatzerglingsandbanelings_1': 1.199826058146277, 'movetobeacon_1': 1.5234036189621654}, {'defeatroaches_1': 0.5894909688013136, 'defeatzerglingsandbanelings_1': 0.5359691487061197, 'movetobeacon_1': 1.7341050302153374}, {'defeatroaches_1': 1.4556201359471974, 'defeatzerglingsandbanelings_1': 1.199826058146277, 'movetobeacon_1': 1.5234036189621654}, {'defeatroaches_1': 0.6879832972471391}, None, {'defeatroaches_1': 2.384655415954204, 'defeatzerglingsandbanelings_1': 2.4268388169577992}, {'defeatroaches_1': 2.6951574232399076, 'defeatzerglingsandbanelings_1': 2.331941574376029}, None, None, {'defeatzerglingsandbanelings_1': 0.9330893951539914, 'movetobeacon_1': 1.0763238986532755}, {'defeatzerglingsandbanelings_1': 0.9227457267719996, 'movetobeacon_1': 1.054211367267747}, {'defeatzerglingsandbanelings_1': 0.8979877203910152}, {'movetobeacon_1': 0.9563784412563008}, {'defeatroaches_1': 0.9792969235228355}, None, {'defeatroaches_1': 1.0154175966169388, 'movetobeacon_1': 0.7716415559871911}, {'defeatroaches_1': 1.0007341712674733, 'movetobeacon_1': 0.7447372565489002}, {'movetobeacon_1': 1.1516861859743193}, None, None]\n"
     ]
    }
   ],
   "metadata": {}
  },
  {
   "cell_type": "code",
   "execution_count": null,
   "source": [
    "testy = task.getBackwardTransferContrast()\r\n",
    "print(type(testy),testy)"
   ],
   "outputs": [],
   "metadata": {}
  },
  {
   "cell_type": "code",
   "execution_count": null,
   "source": [
    "testy = task.getForwardTransferContrast()\r\n",
    "print(type(testy),testy)"
   ],
   "outputs": [],
   "metadata": {}
  },
  {
   "cell_type": "code",
   "execution_count": null,
   "source": [
    "testy = task.getMaintenanceValMRLEP(\"collectmineralshards_1\")\r\n",
    "pprint.pprint(testy)"
   ],
   "outputs": [],
   "metadata": {}
  },
  {
   "cell_type": "code",
   "execution_count": null,
   "source": [
    "testy = task.getMaintenanceValMRTLP(\"collectmineralshards_1\")\r\n",
    "print(type(testy),testy)"
   ],
   "outputs": [],
   "metadata": {}
  },
  {
   "cell_type": "code",
   "execution_count": null,
   "source": [
    "testy = task.getRecoveryTimes(\"collectmineralshards_1\")\r\n",
    "print(type(testy),testy)"
   ],
   "outputs": [],
   "metadata": {}
  },
  {
   "cell_type": "code",
   "execution_count": null,
   "source": [
    "testy = task.getPerfRecoveryRate()\r\n",
    "print(type(testy),testy)"
   ],
   "outputs": [],
   "metadata": {}
  },
  {
   "cell_type": "code",
   "execution_count": null,
   "source": [
    "testy = task.getPerfMaintenanceMRLEP()\r\n",
    "print(type(testy),testy)"
   ],
   "outputs": [],
   "metadata": {}
  },
  {
   "cell_type": "code",
   "execution_count": null,
   "source": [
    "testy = task.getPerfMaintenanceMRTLP()\r\n",
    "print(type(testy),testy)"
   ],
   "outputs": [],
   "metadata": {}
  },
  {
   "cell_type": "code",
   "execution_count": null,
   "source": [
    "testy = task.getSTERelPerf()\r\n",
    "print(type(testy),testy)"
   ],
   "outputs": [],
   "metadata": {}
  },
  {
   "cell_type": "code",
   "execution_count": null,
   "source": [
    "testy = task.getSampleEfficiency()\r\n",
    "print(type(testy),testy)"
   ],
   "outputs": [],
   "metadata": {}
  },
  {
   "cell_type": "code",
   "execution_count": null,
   "source": [
    "testy = task.getRunID()\r\n",
    "print(type(testy),testy)"
   ],
   "outputs": [],
   "metadata": {}
  },
  {
   "cell_type": "code",
   "execution_count": null,
   "source": [
    "testy = task.getComplexity()\r\n",
    "print(type(testy),testy)"
   ],
   "outputs": [],
   "metadata": {}
  },
  {
   "cell_type": "code",
   "execution_count": null,
   "source": [
    "testy = task.getMetricsColumn()\r\n",
    "print(type(testy),testy)"
   ],
   "outputs": [],
   "metadata": {}
  },
  {
   "cell_type": "code",
   "execution_count": null,
   "source": [
    "testy = task.getScenarioType()\r\n",
    "print(type(testy),testy)"
   ],
   "outputs": [],
   "metadata": {}
  },
  {
   "cell_type": "code",
   "execution_count": null,
   "source": [
    "testy = task.getDifficulty()\r\n",
    "print(type(testy),testy)"
   ],
   "outputs": [],
   "metadata": {}
  },
  {
   "cell_type": "code",
   "execution_count": null,
   "source": [
    "testy1= task.getMinMax()\r\n",
    "print(type(testy1),testy1)\r\n",
    "# print(type(testy2),testy2)"
   ],
   "outputs": [],
   "metadata": {}
  },
  {
   "cell_type": "code",
   "execution_count": null,
   "source": [
    "testy1 = task.getNumLXEX()\r\n",
    "print(type(testy1),testy1)\r\n",
    "# print(type(testy2),testy2)"
   ],
   "outputs": [],
   "metadata": {}
  },
  {
   "cell_type": "code",
   "execution_count": null,
   "source": [
    "# pprint.pprint(task.df2dict(task.df))\r\n",
    "# for key in task.df2dict(task.df).keys():\r\n",
    "#     print([(k,type(k)) for k in key if k == k])\r\n",
    "# for col in task.df.columns:\r\n",
    "#     print(col)\r\n",
    "# pprint.pprint(task.df.to_dict())"
   ],
   "outputs": [],
   "metadata": {}
  }
 ],
 "metadata": {
  "interpreter": {
   "hash": "f122e15337e94c6fcfcf312b654fb8b56348c659d5e1d47922a84bd4b33f2626"
  },
  "kernelspec": {
   "name": "python3",
   "display_name": "Python 3.6.8 64-bit ('venv': venv)"
  },
  "language_info": {
   "codemirror_mode": {
    "name": "ipython",
    "version": 3
   },
   "file_extension": ".py",
   "mimetype": "text/x-python",
   "name": "python",
   "nbconvert_exporter": "python",
   "pygments_lexer": "ipython3",
   "version": "3.6.8"
  },
  "orig_nbformat": 4
 },
 "nbformat": 4,
 "nbformat_minor": 2
}