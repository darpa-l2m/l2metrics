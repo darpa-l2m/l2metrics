{
 "cells": [
  {
   "cell_type": "code",
   "execution_count": 1,
   "source": [
    "from helper import TaskMetrics\r\n",
    "import pprint"
   ],
   "outputs": [],
   "metadata": {}
  },
  {
   "cell_type": "code",
   "execution_count": 2,
   "source": [
    "task = TaskMetrics(\"sri_normalized_no_outliers.json\")"
   ],
   "outputs": [],
   "metadata": {}
  },
  {
   "cell_type": "code",
   "execution_count": 3,
   "source": [
    "for idx,df in enumerate(task.dfs):\r\n",
    "    try:\r\n",
    "        print(idx,df.root.task_metrics[\"collectmineralshards_1\"].forward_transfer_ratio)\r\n",
    "    except (KeyError,AttributeError) as e:\r\n",
    "        print(idx,'pain')\r\n",
    "        continue"
   ],
   "outputs": [
    {
     "output_type": "stream",
     "name": "stdout",
     "text": [
      "0    defeatroaches_1\n",
      "0         1.881715\n",
      "1 pain\n",
      "2 pain\n",
      "3 pain\n",
      "4    defeatzerglingsandbanelings_1\n",
      "0                       1.302655\n",
      "5 pain\n",
      "6 pain\n",
      "7 pain\n",
      "8 pain\n",
      "9 pain\n",
      "10 pain\n",
      "11    movetobeacon_1\n",
      "0        1.501038\n",
      "12    movetobeacon_1\n",
      "0        1.501038\n",
      "13    defeatroaches_1\n",
      "0         1.881715\n",
      "14    defeatzerglingsandbanelings_1\n",
      "0                       1.302655\n",
      "15 pain\n",
      "16 pain\n",
      "17 pain\n",
      "18 pain\n",
      "19 pain\n",
      "20 pain\n",
      "21 pain\n",
      "22 pain\n",
      "23 pain\n",
      "24    defeatroaches_1\n",
      "0         0.589491\n",
      "25 pain\n",
      "26    movetobeacon_1\n",
      "0        1.395276\n",
      "27    defeatzerglingsandbanelings_1\n",
      "0                       1.199826\n",
      "28 pain\n",
      "29 pain\n",
      "30 pain\n",
      "31 pain\n",
      "32 pain\n",
      "33 pain\n",
      "34 pain\n",
      "35 pain\n",
      "36    defeatzerglingsandbanelings_1\n",
      "0                       1.199826\n",
      "37    movetobeacon_1\n",
      "0        1.395276\n",
      "38 pain\n",
      "39    defeatroaches_1\n",
      "0         0.589491\n",
      "40 pain\n",
      "41 pain\n",
      "42 pain\n",
      "43 pain\n",
      "44 pain\n",
      "45 pain\n",
      "46 pain\n",
      "47 pain\n",
      "48    defeatroaches_1  defeatzerglingsandbanelings_1  movetobeacon_1\n",
      "0         2.973035                       1.686097        1.501038\n",
      "49    defeatroaches_1  defeatzerglingsandbanelings_1  movetobeacon_1\n",
      "0         2.973035                       1.686097        1.501038\n",
      "50    defeatroaches_1  defeatzerglingsandbanelings_1  movetobeacon_1\n",
      "0         1.881715                       1.197319        2.218624\n",
      "51    defeatroaches_1  defeatzerglingsandbanelings_1  movetobeacon_1\n",
      "0         1.023579                       1.302655        1.098933\n",
      "52    defeatroaches_1  defeatzerglingsandbanelings_1  movetobeacon_1\n",
      "0         1.023579                       1.302655        1.098933\n",
      "53    defeatroaches_1  defeatzerglingsandbanelings_1\n",
      "0         0.882601                       0.964068\n",
      "54    defeatroaches_1  defeatzerglingsandbanelings_1\n",
      "0         0.788176                       0.975052\n",
      "55    defeatzerglingsandbanelings_1\n",
      "0                       0.960294\n",
      "56    defeatzerglingsandbanelings_1  movetobeacon_1\n",
      "0                       0.867804        0.949104\n",
      "57 pain\n",
      "58    movetobeacon_1\n",
      "0        1.109312\n",
      "59    defeatzerglingsandbanelings_1\n",
      "0                       1.605495\n",
      "60 pain\n",
      "61    defeatroaches_1  movetobeacon_1\n",
      "0         1.026404         1.67089\n",
      "62    defeatroaches_1  movetobeacon_1\n",
      "0         1.114732        1.748204\n",
      "63    defeatroaches_1\n",
      "0         0.744648\n",
      "64 pain\n",
      "65    defeatroaches_1\n",
      "0         0.771913\n",
      "66 pain\n",
      "67    defeatzerglingsandbanelings_1  movetobeacon_1\n",
      "0                       0.878989        0.904457\n",
      "68    defeatroaches_1  defeatzerglingsandbanelings_1  movetobeacon_1\n",
      "0         1.023579                       1.302655        1.098933\n",
      "69 pain\n",
      "70    defeatroaches_1  defeatzerglingsandbanelings_1  movetobeacon_1\n",
      "0         1.023579                       1.302655        1.098933\n",
      "71 pain\n",
      "72    defeatzerglingsandbanelings_1\n",
      "0                       1.016854\n",
      "73    defeatroaches_1  defeatzerglingsandbanelings_1\n",
      "0         0.735588                        0.84605\n",
      "74    defeatzerglingsandbanelings_1\n",
      "0                       1.874186\n",
      "75 pain\n",
      "76    defeatroaches_1\n",
      "0         0.332787\n",
      "77    defeatroaches_1  defeatzerglingsandbanelings_1  movetobeacon_1\n",
      "0         2.973035                       1.686097        1.501038\n",
      "78    defeatroaches_1  defeatzerglingsandbanelings_1  movetobeacon_1\n",
      "0         2.973035                       1.686097        1.501038\n",
      "79    defeatroaches_1  defeatzerglingsandbanelings_1  movetobeacon_1\n",
      "0         1.881715                       1.197319        2.218624\n",
      "80    defeatroaches_1  defeatzerglingsandbanelings_1  movetobeacon_1\n",
      "0         1.881715                       1.197319        2.218624\n",
      "81    defeatroaches_1  defeatzerglingsandbanelings_1\n",
      "0         0.821156                       0.881852\n",
      "82    defeatzerglingsandbanelings_1  movetobeacon_1\n",
      "0                        0.91039        1.022323\n",
      "83    defeatzerglingsandbanelings_1  movetobeacon_1\n",
      "0                       0.889276         0.91428\n",
      "84 pain\n",
      "85    defeatroaches_1\n",
      "0         0.273219\n",
      "86    defeatroaches_1  movetobeacon_1\n",
      "0         0.975116        2.128542\n",
      "87    defeatroaches_1  movetobeacon_1\n",
      "0         1.023274        2.048733\n",
      "88    movetobeacon_1\n",
      "0        1.486217\n",
      "89 pain\n",
      "90 pain\n",
      "91 pain\n",
      "92    movetobeacon_1\n",
      "0        1.762378\n",
      "93 pain\n",
      "94    defeatroaches_1  defeatzerglingsandbanelings_1  movetobeacon_1\n",
      "0         1.881715                       1.197319        2.218624\n",
      "95    movetobeacon_1\n",
      "0        1.394971\n",
      "96    defeatroaches_1  defeatzerglingsandbanelings_1  movetobeacon_1\n",
      "0         0.307577                       0.425818        1.395276\n",
      "97    defeatroaches_1  defeatzerglingsandbanelings_1  movetobeacon_1\n",
      "0         0.307577                       0.425818        1.395276\n",
      "98    defeatroaches_1  defeatzerglingsandbanelings_1  movetobeacon_1\n",
      "0         0.589491                       0.535969        1.734105\n",
      "99    defeatroaches_1  defeatzerglingsandbanelings_1  movetobeacon_1\n",
      "0         0.589491                       0.535969        1.734105\n",
      "100 pain\n",
      "101    defeatroaches_1\n",
      "0         0.730686\n",
      "102 pain\n",
      "103    defeatzerglingsandbanelings_1\n",
      "0                       0.673404\n",
      "104    defeatroaches_1  defeatzerglingsandbanelings_1\n",
      "0         2.748824                       2.254871\n",
      "105    defeatroaches_1  defeatzerglingsandbanelings_1  movetobeacon_1\n",
      "0          1.45562                       1.199826        1.523404\n",
      "106    defeatroaches_1  defeatzerglingsandbanelings_1\n",
      "0         2.698991                       2.180439\n",
      "107    defeatroaches_1  defeatzerglingsandbanelings_1  movetobeacon_1\n",
      "0          1.45562                       1.199826        1.523404\n",
      "108    defeatzerglingsandbanelings_1  movetobeacon_1\n",
      "0                       0.974464        0.986447\n",
      "109    defeatzerglingsandbanelings_1  movetobeacon_1\n",
      "0                        1.05689        0.922963\n",
      "110    defeatzerglingsandbanelings_1\n",
      "0                       1.105904\n",
      "111 pain\n",
      "112    movetobeacon_1\n",
      "0        1.338038\n",
      "113 pain\n",
      "114    defeatroaches_1  movetobeacon_1\n",
      "0         1.173264        0.814295\n",
      "115    defeatroaches_1  movetobeacon_1\n",
      "0         1.063139        0.745393\n",
      "116    defeatroaches_1\n",
      "0         1.091527\n",
      "117    movetobeacon_1\n",
      "0        1.284325\n",
      "118 pain\n",
      "119 pain\n",
      "120    defeatroaches_1  defeatzerglingsandbanelings_1  movetobeacon_1\n",
      "0         0.307577                       0.425818        1.395276\n",
      "121    defeatroaches_1  defeatzerglingsandbanelings_1  movetobeacon_1\n",
      "0         0.589491                       0.535969        1.734105\n",
      "122    defeatzerglingsandbanelings_1\n",
      "0                       0.881009\n",
      "123    defeatroaches_1  defeatzerglingsandbanelings_1  movetobeacon_1\n",
      "0         0.307577                       0.425818        1.395276\n",
      "124    defeatroaches_1  defeatzerglingsandbanelings_1  movetobeacon_1\n",
      "0          1.45562                       1.199826        1.523404\n",
      "125    defeatroaches_1  defeatzerglingsandbanelings_1  movetobeacon_1\n",
      "0         0.589491                       0.535969        1.734105\n",
      "126    defeatroaches_1  defeatzerglingsandbanelings_1  movetobeacon_1\n",
      "0          1.45562                       1.199826        1.523404\n",
      "127    defeatroaches_1\n",
      "0         0.687983\n",
      "128 pain\n",
      "129    defeatroaches_1  defeatzerglingsandbanelings_1\n",
      "0         2.384655                       2.426839\n",
      "130    defeatroaches_1  defeatzerglingsandbanelings_1\n",
      "0         2.695157                       2.331942\n",
      "131 pain\n",
      "132 pain\n",
      "133    defeatzerglingsandbanelings_1  movetobeacon_1\n",
      "0                       0.933089        1.076324\n",
      "134    defeatzerglingsandbanelings_1  movetobeacon_1\n",
      "0                       0.922746        1.054211\n",
      "135    defeatzerglingsandbanelings_1\n",
      "0                       0.897988\n",
      "136    movetobeacon_1\n",
      "0        0.956378\n",
      "137    defeatroaches_1\n",
      "0         0.979297\n",
      "138 pain\n",
      "139    defeatroaches_1  movetobeacon_1\n",
      "0         1.015418        0.771642\n",
      "140    defeatroaches_1  movetobeacon_1\n",
      "0         1.000734        0.744737\n",
      "141    movetobeacon_1\n",
      "0        1.151686\n",
      "142 pain\n",
      "143 pain\n"
     ]
    }
   ],
   "metadata": {}
  },
  {
   "cell_type": "code",
   "execution_count": 4,
   "source": [
    "# print((type(task.df.root.task_metrics)))"
   ],
   "outputs": [],
   "metadata": {}
  },
  {
   "cell_type": "code",
   "execution_count": 5,
   "source": [
    "testy = task.getNormalizationDataRange(\"collectmineralshards_1\")\r\n",
    "pprint.pprint(testy)"
   ],
   "outputs": [
    {
     "output_type": "stream",
     "name": "stdout",
     "text": [
      "[(-2.0, 249.0),\n",
      " (-2.0, 249.0),\n",
      " (-2.0, 249.0),\n",
      " (-2.0, 249.0),\n",
      " (-2.0, 249.0),\n",
      " (-2.0, 249.0),\n",
      " (-2.0, 249.0),\n",
      " (-2.0, 249.0),\n",
      " (-2.0, 249.0),\n",
      " (-2.0, 249.0),\n",
      " (-2.0, 249.0),\n",
      " (-2.0, 249.0),\n",
      " (-2.0, 249.0),\n",
      " (-2.0, 249.0),\n",
      " (-2.0, 249.0),\n",
      " (-2.0, 249.0),\n",
      " (-2.0, 249.0),\n",
      " (-2.0, 249.0),\n",
      " (-2.0, 249.0),\n",
      " (-2.0, 249.0),\n",
      " (-2.0, 249.0),\n",
      " (-2.0, 249.0),\n",
      " (-2.0, 249.0),\n",
      " (-2.0, 249.0),\n",
      " (-2.0, 249.0),\n",
      " (-2.0, 249.0),\n",
      " (-2.0, 249.0),\n",
      " (-2.0, 249.0),\n",
      " (-2.0, 249.0),\n",
      " (-2.0, 249.0),\n",
      " (-2.0, 249.0),\n",
      " (-2.0, 249.0),\n",
      " (-2.0, 249.0),\n",
      " (-2.0, 249.0),\n",
      " (-2.0, 249.0),\n",
      " (-2.0, 249.0),\n",
      " (-2.0, 249.0),\n",
      " (-2.0, 249.0),\n",
      " (-2.0, 249.0),\n",
      " (-2.0, 249.0),\n",
      " (-2.0, 249.0),\n",
      " (-2.0, 249.0),\n",
      " (-2.0, 249.0),\n",
      " (-2.0, 249.0),\n",
      " (-2.0, 249.0),\n",
      " (-2.0, 249.0),\n",
      " (-2.0, 249.0),\n",
      " (-2.0, 249.0),\n",
      " (-2.0, 249.0),\n",
      " (-2.0, 249.0),\n",
      " (-2.0, 249.0),\n",
      " (-2.0, 249.0),\n",
      " (-2.0, 249.0),\n",
      " (-2.0, 249.0),\n",
      " (-2.0, 249.0),\n",
      " (-2.0, 249.0),\n",
      " (-2.0, 249.0),\n",
      " (-2.0, 249.0),\n",
      " (-2.0, 249.0),\n",
      " (-2.0, 249.0),\n",
      " (-2.0, 249.0),\n",
      " (-2.0, 249.0),\n",
      " (-2.0, 249.0),\n",
      " (-2.0, 249.0),\n",
      " (-2.0, 249.0),\n",
      " (-2.0, 249.0),\n",
      " (-2.0, 249.0),\n",
      " (-2.0, 249.0),\n",
      " (-2.0, 249.0),\n",
      " (-2.0, 249.0),\n",
      " (-2.0, 249.0),\n",
      " (-2.0, 249.0),\n",
      " (-2.0, 249.0),\n",
      " (-2.0, 249.0),\n",
      " (-2.0, 249.0),\n",
      " (-2.0, 249.0),\n",
      " (-2.0, 249.0),\n",
      " (-2.0, 249.0),\n",
      " (-2.0, 249.0),\n",
      " (-2.0, 249.0),\n",
      " (-2.0, 249.0),\n",
      " (-2.0, 249.0),\n",
      " (-2.0, 249.0),\n",
      " (-2.0, 249.0),\n",
      " (-2.0, 249.0),\n",
      " (-2.0, 249.0),\n",
      " (-2.0, 249.0),\n",
      " (-2.0, 249.0),\n",
      " (-2.0, 249.0),\n",
      " (-2.0, 249.0),\n",
      " (-2.0, 249.0),\n",
      " (-2.0, 249.0),\n",
      " (-2.0, 249.0),\n",
      " (-2.0, 249.0),\n",
      " (-2.0, 249.0),\n",
      " (-2.0, 249.0),\n",
      " (-2.0, 249.0),\n",
      " (-2.0, 249.0),\n",
      " (-2.0, 249.0),\n",
      " (-2.0, 249.0),\n",
      " (-2.0, 249.0),\n",
      " (-2.0, 249.0),\n",
      " (-2.0, 249.0),\n",
      " (-2.0, 249.0),\n",
      " (-2.0, 249.0),\n",
      " (-2.0, 249.0),\n",
      " (-2.0, 249.0),\n",
      " (-2.0, 249.0),\n",
      " (-2.0, 249.0),\n",
      " (-2.0, 249.0),\n",
      " (-2.0, 249.0),\n",
      " (-2.0, 249.0),\n",
      " (-2.0, 249.0),\n",
      " (-2.0, 249.0),\n",
      " (-2.0, 249.0),\n",
      " (-2.0, 249.0),\n",
      " (-2.0, 249.0),\n",
      " (-2.0, 249.0),\n",
      " (-2.0, 249.0),\n",
      " (-2.0, 249.0),\n",
      " (-2.0, 249.0),\n",
      " (-2.0, 249.0),\n",
      " (-2.0, 249.0),\n",
      " (-2.0, 249.0),\n",
      " (-2.0, 249.0),\n",
      " (-2.0, 249.0),\n",
      " (-2.0, 249.0),\n",
      " (-2.0, 249.0),\n",
      " (-2.0, 249.0),\n",
      " (-2.0, 249.0),\n",
      " (-2.0, 249.0),\n",
      " (-2.0, 249.0),\n",
      " (-2.0, 249.0),\n",
      " (-2.0, 249.0),\n",
      " (-2.0, 249.0),\n",
      " (-2.0, 249.0),\n",
      " (-2.0, 249.0),\n",
      " (-2.0, 249.0),\n",
      " (-2.0, 249.0),\n",
      " (-2.0, 249.0),\n",
      " (-2.0, 249.0),\n",
      " (-2.0, 249.0),\n",
      " (-2.0, 249.0),\n",
      " (-2.0, 249.0)]\n"
     ]
    }
   ],
   "metadata": {}
  },
  {
   "cell_type": "code",
   "execution_count": 6,
   "source": [
    "testy = task.getBackwardTransferRatio()\r\n",
    "print(type(testy),testy)"
   ],
   "outputs": [
    {
     "output_type": "stream",
     "name": "stdout",
     "text": [
      "<class 'list'> [0.7665884573, 0.6696131438, 0.7456203909, 0.7662443844, 0.919313741, 0.7020497954, 0.791061821, 0.5411313337, 1.1829355527, 1.160887326, 1.0796956562, 1.0844980871, 1.0844980871, 0.7665884573, 0.919313741, 0.7456203909, 0.6696131438, 1.160887326, 0.7662443844, 0.5411313337, 0.791061821, 1.0796956562, 0.7020497954, 1.1829355527, 1.1082069857, 0.9559894871, 0.9342874003, 0.9008348428, 0.7893001757, 0.9350094019, 0.6794823851, 0.8945771009, 0.6304404251, 1.5179165907, 1.0558280219, 1.0073370439, 0.9008348428, 0.9342874003, 0.9350094019, 1.1082069857, 1.0073370439, 0.9559894871, 0.6794823851, 0.6304404251, 0.7893001757, 1.5179165907, 1.0558280219, 0.8945771009, 0.8228276394, 0.89577483, 0.9356314519, 1.0102142901, 0.9833666737, 0.8677838133, 0.830330359, 0.972045773, 0.8698768807, 1.0417934658, 1.0138290842, 0.9911188241, 1.0752428247, 0.8481710179, 0.9461115969, 0.9649903123, 0.9141947344, 0.9546896516, 1.1313551053, 0.9158430608, 0.8681310625, 0.9550528765, 0.9680593296, 1.0275680927, 0.9603432335, 0.8508987372, 1.0014189457, 1.0089722307, 0.9323959144, 0.8397993315, 0.7516430494, 0.78265062, 0.920697128, 1.0939516455, 0.8032055001, 1.0116976317, 1.1516523847, 1.1161355464, 0.9055537627, 0.9136923015, 0.9099823111, 0.9267411437, 0.8466160249, 0.9427388666, 0.9614893333, 0.8606829999, 0.8689078842, 1.0964033401, 0.8025042721, 0.7645343933, 0.9274123056, 1.1258940593, 0.9103269749, 0.8867230231, 1.0632244498, 1.0213189001, 0.7924451036, 0.8040507336, 0.8820819021, 0.8843455079, 0.9877826775, 1.003522165, 1.1579525896, 0.9578652699, 0.9099979772, 1.0104382151, 0.9551379189, 1.0069250535, 0.9050523202, 0.8400688539, 0.9662061085, 0.9366925019, 0.9427307157, 0.7771981168, 0.9705515117, 0.8190770281, 1.0721542968, 0.9540980654, 0.9078264953, 0.794917219, 0.8019596102, 1.0534428593, 0.8625726896, 0.9979289209, 1.0835221396, 1.1656569477, 0.9218121933, 1.1103604256, 0.9618053153, 0.9355731985, 1.0301674254, 1.0625742394, 0.8685539675, 0.7892440329, 0.8916724588, 0.9222886042]\n"
     ]
    }
   ],
   "metadata": {}
  },
  {
   "cell_type": "code",
   "execution_count": 7,
   "source": [
    "testy = task.getForwardTransferRatio(\"collectmineralshards_1\",\"defeatzerglingsandbanelings_1\")\r\n",
    "# print(type(testy),testy)\r\n",
    "task.plotLine(testy)\r\n",
    "task.plotHist(testy)"
   ],
   "outputs": [
    {
     "output_type": "stream",
     "name": "stdout",
     "text": [
      "<class 'list'> [None, None, None, None, 1.3026546844334261, None, None, None, None, None, None, None, None, None, 1.3026546844334261, None, None, None, None, None, None, None, None, None, None, None, None, 1.199826058146277, None, None, None, None, None, None, None, None, 1.199826058146277, None, None, None, None, None, None, None, None, None, None, None, 1.6860972236996066, 1.6860972236996066, 1.1973191241362084, 1.3026546844334261, 1.3026546844334261, 0.9640682876538028, 0.9750522554109637, 0.9602942880133758, 0.8678042042128017, None, None, 1.6054953737770967, None, None, None, None, None, None, None, 0.8789889448864378, 1.3026546844334261, None, 1.3026546844334261, None, 1.0168538445986541, 0.846049808231566, 1.8741855190574124, None, None, 1.6860972236996066, 1.6860972236996066, 1.1973191241362084, 1.1973191241362084, 0.8818516577091143, 0.9103902889412171, 0.8892761797061204, None, None, None, None, None, None, None, None, None, None, 1.1973191241362084, None, 0.42581759648227396, 0.42581759648227396, 0.5359691487061197, 0.5359691487061197, None, None, None, 0.6734035678383942, 2.254871182222575, 1.199826058146277, 2.1804389590261852, 1.199826058146277, 0.974464068681958, 1.0568901761009541, 1.1059044626215013, None, None, None, None, None, None, None, None, None, 0.42581759648227396, 0.5359691487061197, 0.8810094248533672, 0.42581759648227396, 1.199826058146277, 0.5359691487061197, 1.199826058146277, None, None, 2.4268388169577992, 2.331941574376029, None, None, 0.9330893951539914, 0.9227457267719996, 0.8979877203910152, None, None, None, None, None, None, None, None]\n"
     ]
    },
    {
     "output_type": "stream",
     "name": "stderr",
     "text": [
      "c:\\Users\\balamb1\\Documents\\Darpa L2M\\venv\\lib\\site-packages\\seaborn\\_decorators.py:43: FutureWarning: Pass the following variable as a keyword arg: x. From version 0.12, the only valid positional argument will be `data`, and passing other arguments without an explicit keyword will result in an error or misinterpretation.\n",
      "  FutureWarning\n",
      "c:\\Users\\balamb1\\Documents\\Darpa L2M\\venv\\lib\\site-packages\\numpy\\lib\\nanfunctions.py:1370: RuntimeWarning: All-NaN slice encountered\n",
      "  overwrite_input=overwrite_input, interpolation=interpolation\n"
     ]
    },
    {
     "output_type": "display_data",
     "data": {
      "text/plain": [
       "<Figure size 432x288 with 1 Axes>"
      ],
      "image/png": "[encoded data removed]"
     },
     "metadata": {
      "needs_background": "light"
     }
    }
   ],
   "metadata": {}
  },
  {
   "cell_type": "code",
   "execution_count": 8,
   "source": [
    "testy = task.getBackwardTransferContrast()\r\n",
    "print(type(testy),testy)"
   ],
   "outputs": [
    {
     "output_type": "stream",
     "name": "stdout",
     "text": [
      "<class 'list'> [-0.1605403843, -0.2062748899, -0.3500963467, -0.1498714684, -0.0640467221, -0.1751518298, -0.1320785319, -0.3099340793, 0.0789706563, -0.0489581389, 0.0377398914, 0.0073371944, 0.0073371944, -0.1605403843, -0.0640467221, -0.3500963467, -0.2062748899, -0.0489581389, -0.1498714684, -0.3099340793, -0.1320785319, 0.0377398914, -0.1751518298, 0.0789706563, -0.0681181452, -0.0229581871, -0.0494949348, -0.1060835153, -0.1177735495, -0.05243451, -0.203882924, -0.0562358271, -0.2267471374, 0.2055184324, 0.02518096, 0.0035256725, -0.1060835153, -0.0494949348, -0.05243451, -0.0681181452, 0.0035256725, -0.0229581871, -0.203882924, -0.2267471374, -0.1177735495, 0.2055184324, 0.02518096, -0.0562358271, -0.104885506, -0.0930554968, -0.0483946244, -0.0098277352, -0.0181732441, -0.1670340458, -0.1495022944, -0.0727832861, -0.1011623661, -0.0172116504, -0.0125588392, -0.0545983567, 0.0185705743, -0.1017506164, -0.0395075164, -0.0347564836, -0.0741454754, -0.0963648049, 0.0050726563, -0.1543620152, -0.0782429957, -0.0399581392, -0.029179096, -0.0455862676, -0.0876912189, -0.1218656201, -0.0412885695, -0.0495797499, -0.0680447666, -0.1073007408, -0.1510811186, -0.1487818475, -0.0654947265, -0.0820605595, -0.1237381536, -0.0724242818, 0.0431655175, 0.010022279, -0.0624423847, -0.074608317, -0.0573099401, -0.047233347, -0.1161905834, -0.0433116083, -0.0426541788, -0.1090250613, -0.0796348147, 0.0291532312, -0.1213339131, -0.1400061395, -0.0744547594, 0.0067711036, -0.0632345866, -0.1515564603, -0.0428367294, -0.0285019241, -0.1533565573, -0.1505136564, -0.1052575667, -0.0796434793, -0.0648348518, -0.0380339308, 0.0114037689, -0.0495884876, -0.0547644008, -0.0016118231, -0.0460446647, -0.0085872935, -0.0973103652, -0.1128224041, -0.0272362201, -0.0436781042, -0.0561422049, -0.1675317591, -0.0758654076, -0.120616267, -0.0915026104, -0.1102997997, -0.061896502, -0.2134917408, -0.1680243905, -0.0728762288, -0.1075008251, -0.0591050582, 0.0216598452, -0.0351488983, -0.0502228399, 0.0408345586, -0.0265121617, -0.0501532798, -0.0210808784, -0.0286444366, -0.0831902675, -0.1489811179, -0.0793955992, -0.0526526906]\n"
     ]
    }
   ],
   "metadata": {}
  },
  {
   "cell_type": "code",
   "execution_count": 9,
   "source": [
    "testy = task.getForwardTransferContrast()\r\n",
    "print(type(testy),testy)"
   ],
   "outputs": [
    {
     "output_type": "stream",
     "name": "stdout",
     "text": [
      "<class 'list'> [0.3059689015, 0.2914277914, 0.0903894494, -0.2594303736, 0.1314372869, 0.4575313168, -0.4819852735, -0.0956243958, 0.1282962261, 0.1956455209, -0.0122261346, 0.2003320244, 0.2003320244, 0.3059689015, 0.1314372869, 0.0903894494, 0.2914277914, 0.1956455209, -0.2594303736, -0.0956243958, -0.4819852735, -0.0122261346, 0.4575313168, 0.1282962261, -0.2582644628, -0.2655216362, 0.1650230635, 0.0908372084, 0.1452800865, 0.1683924801, -0.2027087232, -0.0943591334, 0.0062408616, 0.1241543816, 0.4573940108, 0.1754665211, 0.0908372084, 0.1650230635, 0.1683924801, -0.2582644628, 0.1754665211, -0.2655216362, -0.2027087232, 0.0062408616, 0.1452800865, 0.1241543816, 0.4573940108, -0.0943591334, 0.1640530644, 0.1700593538, 0.1282081979, 0.0486548861, 0.0775780864, 0.1051353577, 0.0955024528, 0.0603466758, -1.8073e-06, -0.0621718367, -0.0273842457, -0.038142936, 0.0269632976, 0.0062597917, 0.0159463902, 0.0143070774, 0.071388255, -0.0733152423, -0.0418227543, -0.0606564262, 0.0745459359, 0.075160601, 0.0984453724, -0.0462490393, 0.0712056928, 0.0658597506, -0.0227564621, -0.078997236, -0.1272945156, 0.1760192489, 0.1680232745, 0.1162332776, 0.1468590131, 0.021524364, 0.0228314723, -0.0481867439, 0.043174116, -0.0634986654, 0.0134665279, 0.0313322363, 0.0460339723, 0.0398410538, 0.0886938285, 0.0482938312, 0.0568025873, 0.1021239585, 0.1248607812, -2.88397e-05, -0.025746718, -0.0133277093, -0.1103899831, -0.1314631481, -0.0701916804, -0.0762691746, -0.0827783351, -0.0735363139, -0.033917603, 0.0797078787, 0.0584027563, 0.0834955647, 0.0197153913, 0.0576415975, 0.0094580578, 0.0064227437, 0.0171965332, -0.0058397226, 0.0016875769, 0.0099001908, 0.1111630552, 0.0460594542, 0.0921007231, 0.0636231291, -0.0403068405, -0.1219324831, -0.0378988056, -0.0353212657, 0.089164602, -0.1122701823, 0.0943065551, -0.0986193144, -0.0430285115, -0.0766383888, 0.0499685735, -0.0848260155, 0.0308125292, 0.0389669348, 0.0771911769, 0.0086979628, -0.0095350205, 0.1044200886, 0.0534251738, -0.0596318894, 0.0424159752, 0.0304399329, 0.0607422918, 0.0817351007]\n"
     ]
    }
   ],
   "metadata": {}
  },
  {
   "cell_type": "code",
   "execution_count": 10,
   "source": [
    "testy = task.getMaintenanceValMRLEP(\"collectmineralshards_1\")\r\n",
    "pprint.pprint(testy)"
   ],
   "outputs": [
    {
     "output_type": "stream",
     "name": "stdout",
     "text": [
      "[[[-8.285607569721115], [-22.148904382470114], [-12.636952191235059]],\n",
      " [[-25.242778884462155], [-7.202440239043826]],\n",
      " [[-3.3989043824701195], [-1.0022410358565752], [-2.1414342629482084]],\n",
      " [[-5.054780876494024], [-12.53735059760956]],\n",
      " [[-2.0791832669322714], [-4.482071713147411]],\n",
      " [[-3.9280378486055785], [-14.591633466135459], [-15.475597609561756]],\n",
      " [[-3.9280378486055785], [-14.137201195219125], [-15.724601593625497]],\n",
      " [[-8.285607569721115], [-21.99950199203187], [-9.150896414342629]],\n",
      " [[-3.3989043824701195], [-1.2699203187251005], [-2.67679282868526]],\n",
      " [[-25.242778884462155], [-5.16683266932271]],\n",
      " [[-2.0791832669322714], [-5.633715139442232]],\n",
      " [[-5.054780876494024], [-9.437250996015937]],\n",
      " [[-9.007719123505979], [-4.4135956175298805], [-7.084163346613543]],\n",
      " [[-4.7373007968127485], [-18.97410358565737], [-25.485557768924302]],\n",
      " [[-7.320717131474105], [-10.71339641434263], [4.594123505976095]],\n",
      " [[-6.62973107569721], [-12.973107569721117]],\n",
      " [[-0.3672808764940241], [-0.3361553784860547]],\n",
      " [[-3.311752988047809], [-2.9071215139442232]],\n",
      " [[-7.320717131474105], [-10.532868525896415], [-18.28934262948207]],\n",
      " [[-4.7373007968127485], [-20.56772908366534], [-20.978585657370523]],\n",
      " [[-6.62973107569721], [-6.791583665338642]],\n",
      " [[-9.007719123505979], [-4.606573705179283], [-13.956673306772908]],\n",
      " [[-3.311752988047809], [-2.3842131474103594]],\n",
      " [[-0.3672808764940241], [-0.8590637450199212]],\n",
      " [[-2.969372509960161], [-7.0343625498007984], [-7.532370517928288]],\n",
      " [[-3.716384462151396], [-7.980577689243029], [-6.872509960159364]],\n",
      " [[-7.756474103585656], [-7.968127490039839], [-8.839641434262948]],\n",
      " [[-2.863545816733067], [-2.452689243027888], [-3.9716135458167328]],\n",
      " [[-3.430029880478088], [-3.635458167330677], [-3.797310756972111]],\n",
      " [[-26.469123505976093], [-26.680776892430277]],\n",
      " [[-19.876743027888452], [-21.28361553784861]],\n",
      " [-0.03735059760956183],\n",
      " [[-2.371762948207171], [-0.9897908366533859]],\n",
      " [-0.11205179282868372],\n",
      " [-3.249501992031874],\n",
      " [[-0.8590637450199203], [-6.212649402390439]],\n",
      " [[-4.63769920318725], [-5.13570717131474]],\n",
      " [-3.9840637450199194],\n",
      " [-6.959661354581674],\n",
      " [[0.6909860557768921], [-1.1018426294820722]],\n",
      " [[-3.423804780876493], [-3.735059760956175], [-4.370019920318725]],\n",
      " [[-3.33042828685259], [-4.855577689243027], [-3.7226095617529875]],\n",
      " [-9.013944223107568],\n",
      " [[-20.46812749003984], [-22.54731075697211]],\n",
      " [-1.9795816733067744],\n",
      " [-2.290836653386455],\n",
      " [[-4.905378486055778], [-8.067729083665341], [-7.07171314741036]],\n",
      " [[-3.06897410358566], [-5.814243027888447], [-9.574203187250998]],\n",
      " [[-8.565737051792828], [-8.640438247011952], [-10.50796812749004]],\n",
      " [[-8.316733067729084], [-9.026394422310757], [-10.694721115537849]],\n",
      " [[-24.408615537848604], [-21.918575697211153]],\n",
      " [[-1.724352589641435], [-0.9648904382470116]],\n",
      " [[1.338396414342629], [-1.724352589641434]],\n",
      " [-0.871513944223107],\n",
      " [[-2.9569223107569726], [-5.173057768924304]],\n",
      " [[-4.444721115537849], [-3.4362549800796813]],\n",
      " [0.049800796812748516],\n",
      " [-0.3984063745019917],\n",
      " [[-7.806274900398405], [-8.242031872509958], [-9.125996015936254]],\n",
      " [2.9133466135458175],\n",
      " [[-3.872011952191235], [-8.565737051792828], [-8.565737051792828]],\n",
      " [[-3.8284362549800797], [-7.382968127490038], [-9.088645418326694]],\n",
      " [[-8.603087649402394], [-7.644422310756974], [-9.648904382470121]],\n",
      " [[-8.291832669322712], [-9.101095617529882], [-2.8386454183266956]],\n",
      " [-10.83167330677291],\n",
      " [-2.726593625498009],\n",
      " [[-13.576942231075698], [-15.79307768924303]],\n",
      " [[-7.177539840637451], [-12.313247011952193], [-12.313247011952193]],\n",
      " [[-13.632968127490042], [-14.741035856573706]],\n",
      " [[-7.040587649402392], [-5.35358565737052], [-7.345617529880478]],\n",
      " [[-0.610059760956176], [-4.432270916334662]],\n",
      " [[-3.8595617529880473], [-2.427788844621513]],\n",
      " [-2.1040836653386457],\n",
      " [0.485557768924302],\n",
      " [[3.834661354581673], [0.7470119521912348]],\n",
      " [[-0.8341633466135452], [1.0582669322709162]],\n",
      " [-12.524900398406375],\n",
      " [-0.14940239043824732],\n",
      " [[-6.306025896414342], [-8.1050796812749], [-8.0054780876494]],\n",
      " [[-7.77514940239044], [-12.250996015936257], [-13.296812749003987]],\n",
      " [-5.241533864541833],\n",
      " [[-5.521663346613545], [-10.258964143426294], [-9.487051792828685]],\n",
      " [[-6.754233067729085], [-11.827689243027889], [-7.407868525896415]],\n",
      " [[-9.42480079681275], [-8.827191235059763], [-12.163844621513947]],\n",
      " [[-6.7293326693227105], [-6.1379482071713145], [-6.436752988047809]],\n",
      " [-8.254482071713147],\n",
      " [[-16.18525896414343], [-16.421812749003983]],\n",
      " [[-14.977589641434264], [-14.591633466135459]],\n",
      " [[0.7781374501991998], [-3.3179780876494043]],\n",
      " [[-1.7368027888446225], [-1.9733565737051801]],\n",
      " [-0.012450199203187573],\n",
      " [1.6060756972111552],\n",
      " [-5.552788844621514],\n",
      " [[3.0938745019920333], [1.2512450199203187]],\n",
      " [[-0.8279382470119536], [-2.720368525896415]],\n",
      " [0.012450199203186685]]\n"
     ]
    }
   ],
   "metadata": {}
  },
  {
   "cell_type": "code",
   "execution_count": 11,
   "source": [
    "testy = task.getMaintenanceValMRTLP(\"collectmineralshards_1\")\r\n",
    "print(type(testy),testy)"
   ],
   "outputs": [
    {
     "output_type": "stream",
     "name": "stdout",
     "text": [
      "<class 'list'> [[[-20.91414683403241], [-23.578982148329757], [-17.691958129022375]], None, [[-30.598283935087984], [-16.61744847532945]], None, [[-6.217585839116525], [-1.794619598528965], [-5.261789380937787]], None, [[-8.265279219257426], [-17.140907523751153]], [[-5.6161793402620015], [-4.173622816426603]], None, None, None, [[-15.029801860983438], [-13.744316005209928], [-17.23508849218511]], [[-15.029801860983438], [-13.289883734293594], [-15.974979888139746]], [[-20.91414683403241], [-23.42957975789151], [-6.139499693533559]], [[-6.217585839116525], [-2.0622988813974903], [-4.62521548421698]], [[-30.598283935087984], [-12.969540108795588]], None, None, None, [[-5.6161793402620015], [-5.493343931964451]], [[-8.265279219257426], [-13.592600750842788]], None, None, None, [[-19.390524440698744], [-5.317034745632855], [-16.289716135458168]], None, [[-17.14170242108489], [-19.3768435871897], [-27.170251685565432]], [[-20.096632699969355], [-19.836418748084583], [4.681274900398407]], None, [[-9.967227244866686], [-16.334838530493407]], None, [[-1.0990557002758186], [-0.9235126800490345]], [[-3.7785732071713145], [-4.095655838185721]], None, None, None, [[-20.096632699969355], [-19.65589085963837], [-18.73028558841557]], [[-17.14170242108489], [-20.97046908519767], [-22.952521644192466]], [[-9.967227244866686], [-10.333842514557151]], [[-19.390524440698744], [-5.510012833282257], [-17.56867242568189]], None, None, None, [[-3.7785732071713145], [-3.572747471651857]], None, None, None, [[-1.0990557002758186], [-1.8199270226785176]], [[-14.071136522338021], [-18.13612656217866], [-18.63413453030615]], [[-14.818148474529256], [-19.08234170162089], [-17.974273972537226]], [[-20.385013367896953], [-20.596666754351133], [-21.468180698574244]], [[-5.682227273379473], [-5.271370699674294], [-6.7902950024631386]], [[-6.248711337124494], [-6.454139623977083], [-6.615992213618517]], [[-30.3866305486338], [-30.598283935087984]], [[-24.037028955008303], [-25.443901464968462]], [4.170337879252222], [[-5.267573762572758], [-3.8856016510189733]], [], [-0.07128628343767751], [-3.6605522687162537], [], [[-3.5591039204526442], [-8.912689577823162]], [[-7.568068063878938], [-8.066076032006428]], [-8.892309513446815], [], [-16.75416123965676], [], [[-2.3666773482301284], [-4.159506033489093]], [[-6.242486237522899], [-6.553741217602581], [-7.188701376965131]], [], [[-6.149109743498996], [-7.674259145889433], [-6.541291018399393]], [], [-13.866428516702419], [[-24.01212855660193], [-26.0913118235342]], [-3.0218979849831458], [], [-2.1572747471651876], [[-16.007142498433637], [-19.1694930960432], [-18.17347715978822]], [[-14.17073811596352], [-16.916007040266308], [-20.675967199628857]], [[-21.194276316104123], [-21.26897751132325], [-23.136507391801338]], [[-20.945272332040382], [-21.65493368662205], [-23.323260379849145]], [[-29.054459233892764], [-26.564419393255314]], [[-4.495661411975149], [-3.736199260580726]], [[-2.142573762572759], [-5.205322766556822]], [], [-1.948001264174076], [[-6.335498342763401], [-8.551633800930732]], [[-7.530717466269378], [-6.52225133081121]], [-0.6147429512718379], [], [], [], [-1.6933946904688941], [], [[-20.4348141647097], [-20.870571136821255], [-21.754535280247552]], [1.8174130401471036], [[-16.276413576463376], [-20.97013867606497], [-20.97013867606497]], [[-16.232837879252223], [-19.787369751762178], [-21.493047042598835]], [[-18.98589296659516], [-18.027227627949742], [-20.031709699662887]], [[-18.674637986515478], [-19.483900934722648], [-13.221450735519461]], [], [-19.475735712611737], [], [-4.741509352745083], [[-15.943322862396567], [-18.1594583205639]], [[-19.9534554091327], [-25.089162580447443], [-25.089162580447443]], [[-16.852187404229237], [-17.960255133312902]], [[-19.81650321789764], [-18.12950122586577], [-20.12153309837573]], [[-0.6909238047808763], [-4.513134960159363]], [[-4.139628984063745], [-2.7078560756972108]], [-3.163145736382205], [], [-3.0962927137603433], [], [[2.9223586423536636], [-0.16529076003677456]], [[-2.443677214220041], [-0.5512469353355796]], [-19.184229428440084], [-0.6371150015323348], [], [], [[-18.710427520686483], [-20.50948130554704], [-20.409879711921544]], [[-18.157954719583206], [-22.63380133312902], [-23.679618066196753]], [-6.38083243947288], [[-17.926064970885687], [-22.663365767698437], [-21.891453417100827]], [[-19.530148636224336], [-24.60360481152314], [-20.183784094391665]], [[-19.807606114005516], [-19.209996552252527], [-22.54664993870671]], [[-19.50524823781796], [-18.913863775666563], [-19.212668556543058]], [-15.147367261722342], [], [[-18.62011569108183], [-18.856669475942383]], [[-17.01403999387067], [-16.628083818571866]], [], [], [[0.5291957171314721], [-3.566919820717132]], [[-2.209848107569721], [-2.446401892430279]], [-0.6268196444989282], [-0.08162542139135809], [-12.923321138522834], [], [[2.2375976861783657], [0.3949682041066511]], [[-1.9083186484829904], [-3.8007489273674517]], [-0.875938553478397], [], []]\n"
     ]
    }
   ],
   "metadata": {}
  },
  {
   "cell_type": "code",
   "execution_count": 12,
   "source": [
    "testy = task.getRecoveryTimes(\"collectmineralshards_1\")\r\n",
    "print(type(testy),testy)"
   ],
   "outputs": [
    {
     "output_type": "stream",
     "name": "stdout",
     "text": [
      "<class 'list'> [[4172.0, 8321.0], None, [8321.0, 1895.0], None, [8321.0, 3550.0], None, [4594.0, 8321.0], [3829.0, 4453.0], None, None, None, [847.0, 1160.0], [847.0, 1004.0], [4172.0, 8321.0], [8321.0, 3809.0], [8321.0, 1660.0], None, None, None, [3829.0, 3883.0], [4594.0, 3965.0], None, None, None, [8321.0, 2146.0], None, [1118.0, 4882.0], [4982.0, 8321.0], None, [1792.0, 5336.0], None, [6524.0, 4015.0], [8321.0, 8321.0], None, None, None, [4982.0, 4215.0], [1118.0, 4761.0], [1792.0, 4977.0], [8321.0, 2255.0], None, None, None, [8321.0, 3552.0], None, None, None, [6524.0, 6778.0], [], [], [], [], [], [], [], [], [], [], [], [], [], [], [], [], [], [], [], [], [], [], [], [], [], [], [], [], [], [], [], [], [], [], [], [], [], [], [], [], [], [], [], [], [], [], [], [], [], [], [], [], [], [], [], [], [], [], [], [], [], [], [], [], [], [], [], [], [], [], [], [], [], [], [], [], [], [], [], [], [], [], [], [], [], [], [], [], [], [], [], [], [], [], [], []]\n"
     ]
    }
   ],
   "metadata": {}
  },
  {
   "cell_type": "code",
   "execution_count": 13,
   "source": [
    "testy = task.getPerfRecoveryRate()\r\n",
    "print(type(testy),testy)"
   ],
   "outputs": [
    {
     "output_type": "stream",
     "name": "stdout",
     "text": [
      "<class 'list'> [4.0, 2452.5, 3213.0, -3689.5, 2855.0, 1017.5, -6460.0, -2238.5, -152.0, 161.5, -108.0, -114.5, -1328.5, -152.0, 3194.0, 3330.5, 1659.5, 529.0, 55.0, -64.0, -4158.5, 7.5, 1013.5, 354.5, 446.5, 1899.5, -1880.5, -4567.0, 689.5, -2888.5, -1136.0, -6702.0, -673.0, -4360.0, -57.0, -4700.5, -2.0, -1820.0, -1616.5, 1699.5, -1890.5, 2882.0, 1036.0, 1837.0, -230.5, -5267.0, 44.5, -7109.0, None, None, None, None, None, None, None, None, None, None, None, None, None, None, None, None, None, None, None, None, None, None, None, None, None, None, None, None, None, None, None, None, None, None, None, None, None, None, None, None, None, None, None, None, None, None, None, None, None, None, None, None, None, None, None, None, None, None, None, None, None, None, None, None, None, None, None, None, None, None, None, None, None, None, None, None, None, None, None, None, None, None, None, None, None, None, None, None, None, None, None, None, None, None, None, None]\n"
     ]
    }
   ],
   "metadata": {}
  },
  {
   "cell_type": "code",
   "execution_count": 14,
   "source": [
    "testy = task.getPerfMaintenanceMRLEP()\r\n",
    "print(type(testy),testy)"
   ],
   "outputs": [
    {
     "output_type": "stream",
     "name": "stdout",
     "text": [
      "<class 'list'> [-7.8374869626, -2.3849417914, -7.437419547, -1.0636773363, -0.0742429597, 0.0728118754, -7.0626814548, -4.4723617396, -0.6027322137, -0.6269715079, 0.8499952539, -3.1439483295, -3.6750885712, -7.4522184784, 0.273733601, -5.8697183124, -2.2776593149, -0.9549156925, -2.5025952294, -4.7113874635, -6.7132154975, 0.8785852883, -1.0652489799, 0.6339652752, -3.858862102, -0.8072400188, -6.8751378805, -1.5553837929, -1.0993110374, -3.9869669713, -1.9492129396, -1.1532835701, -3.0819005674, -0.3933800527, 0.8011449786, -1.7495055721, -5.8441611024, -7.0234891028, -2.7351258344, -3.5459895528, 0.6300205159, -1.6036432575, -1.0229801878, -3.9868363, -1.7727049574, 0.3056133557, 0.187627565, -1.6002239201, -3.1953331239, -4.1765593516, -2.6895195533, 0.2474391378, -0.3103915852, -8.6243446225, -6.5883040263, -1.7055095636, -5.4080462957, -1.3025311612, 0.4916436425, -2.405906286, 1.5343921217, -2.8109117714, -0.7359149171, -1.1748967372, -3.4149126446, -3.1214780129, -1.1566333612, -6.0665290261, -1.7353710569, -1.2200187539, -0.8244185753, -1.4106691419, -3.9630302562, -6.7448905983, -2.1160573525, -1.7558369011, -2.9710629557, -3.3703813049, -3.4670938117, -5.0408588802, -2.8972318437, -7.6213325093, -4.0683173654, -2.6227077059, 2.7334723484, -1.0935817581, -2.2371471042, -2.5317142504, -1.2729578032, -1.6428822394, -1.6679319078, -1.6736575787, -0.4856315784, -1.3582458268, -3.3493865592, 2.0300716354, -3.9121764587, -4.5012827356, -3.8685005311, -2.1935258147, -1.3208488387, -5.8243435248, -2.377790387, -1.9506804268, -6.1189972025, -2.9914551772, -3.5046305628, -3.1866826773, -1.6779711499, -1.8535168056, 0.2346786332, -0.1110653865, -0.8689157495, 0.6036363583, -1.1272522754, -1.148872375, -4.4272867951, -2.1570875344, -1.8135868916, -1.2546162506, -3.6024753311, -3.8962415094, -2.2508928763, -4.4550027662, -4.0751085206, -4.2130050357, -2.9851058723, -5.4278182398, -3.714613897, -5.4427628468, -4.6410169647, -2.7360484831, 2.6436657783, -1.4025399415, -2.1759952557, 1.6157008328, -0.6555429841, -2.2370987381, 0.8398431625, -1.5935298023, -1.6025455954, -4.0004790984, -2.3304770666, -0.5918315046]\n"
     ]
    }
   ],
   "metadata": {}
  },
  {
   "cell_type": "code",
   "execution_count": 15,
   "source": [
    "testy = task.getPerfMaintenanceMRTLP()\r\n",
    "print(type(testy),testy)"
   ],
   "outputs": [
    {
     "output_type": "stream",
     "name": "stdout",
     "text": [
      "<class 'list'> [-13.1224794022, -5.7951807805, -10.2126500982, -5.266299043, -2.8085796693, -3.3221922375, -7.8182005925, -10.6717165416, -3.2938337777, -4.6329244643, 2.7029998151, -5.5080069593, -5.5169321644, -11.129391887, -2.7852069897, -9.1037219199, -5.4705599538, -4.4887531682, -6.4621859323, -9.874857193, -7.2456350102, 2.943246961, -3.8079706413, -1.4688950624, -9.1410746388, -7.9608231327, -8.2269685596, -6.0521416641, -3.395025186, -6.555443977, -6.4498094793, -2.4799580741, -8.0632375607, -2.7710351436, -3.0451281113, -4.951256129, -10.3268549953, -7.9815037673, -5.5154524376, -8.2156477556, -1.0253609156, -8.34873914, -5.6784650494, -7.8463760281, -3.6423522615, -2.6615948979, -1.9011907852, -1.7798846485, -10.9672219511, -8.5220102483, -9.1141752294, -1.7233116475, -7.8361377395, -11.1082850097, -7.8369016976, -1.0266633634, -7.4045164326, -3.2124389965, -1.3259111564, -4.6549226729, -2.5916818755, -3.6817756895, -3.9307957603, -1.577865444, -3.6082737508, -8.8624374964, -4.4739409851, -8.3080798918, -5.016439826, -0.5364035002, -6.8087403504, -5.5759401888, -6.5536916167, -10.2873407296, -4.5617896107, -3.4770529672, -4.757423961, -10.7654093324, -7.0800557953, -10.1882156748, -8.691765064, -9.9107836458, -7.1215604241, -7.3042829644, 0.3713678472, 0.12335586, -1.8225965677, -3.9281132587, -1.7853873053, -0.6998956982, -1.4953210621, -1.2455318131, -1.4145287268, -0.6112774421, -9.3664797156, 0.2981932165, -11.7582040954, -11.1841108592, -8.6598152416, -8.4811499125, -6.0624457903, -9.2529584409, -4.7410552647, -7.6800094471, -11.4398486739, -9.744269971, -7.0722649616, -10.4379610973, -5.2860693366, -3.1030617356, -2.5617112219, -3.4075909649, -3.3936589395, 1.0456363541, -3.3207757495, -3.8882022233, -7.6078907672, -4.4499199172, -5.2498187083, -1.3259486516, -10.4422548783, -10.7301172079, -7.5982918755, -11.3208245032, -10.7930639378, -10.7673218834, -9.043718946, -8.6156952221, -8.9460112412, -9.2829398304, -7.0085346052, -5.1698806851, -0.8980784675, -3.7619486879, -4.5410697325, -0.8268660418, -2.6124193128, -6.4542953186, -2.0629774097, -5.0624853915, -5.6199402992, -6.0366204351, -5.8985409851, 0.1485947698]\n"
     ]
    }
   ],
   "metadata": {}
  },
  {
   "cell_type": "code",
   "execution_count": 16,
   "source": [
    "testy = task.getSTERelPerf()\r\n",
    "print(type(testy),testy)"
   ],
   "outputs": [
    {
     "output_type": "stream",
     "name": "stdout",
     "text": [
      "<class 'list'> [0.6844492095, 0.797491774, 0.5894764011, 0.7282743949, 0.6539779366, 1.0426317879, 0.67369716, 0.6865675194, 0.8923982121, 0.6636255812, 0.6603196739, 0.9228671357, 0.8931578309, 0.6815700465, 0.6549114907, 0.6780737373, 0.8246183329, 0.6644352603, 0.7961201587, 0.7042359352, 0.7780325583, 0.659594173, 1.046343558, 0.8894824753, 0.5286533305, 0.8626522963, 0.8183219207, 0.7427111768, 0.8764677036, 0.8718680744, 0.8058793313, 0.6205608118, 0.5666307005, 0.6780084633, 1.1182735374, 0.9875318531, 0.8311033203, 0.8642600503, 0.9156787851, 0.5575167138, 0.991718509, 0.8928176721, 0.8103073001, 0.5770455654, 0.8818975155, 0.6755864053, 1.1216020275, 0.6016329153, 0.9752427056, 1.0500479135, 0.9067566509, 0.7845487608, 0.8888241643, 1.1766446017, 1.2701855908, 0.8742804497, 0.7566297424, 0.6740176867, 0.6824188208, 0.7336148155, 0.7671097801, 0.9590659959, 0.8468915758, 0.7603901223, 0.8298878246, 0.8128966945, 0.8503209835, 0.8975507677, 0.8464664819, 0.8088908994, 1.0019018913, 0.9590486574, 0.8992481403, 1.1457417761, 0.7230138465, 0.6798954527, 0.6814793185, 1.0981586809, 1.0183361999, 0.9443655851, 0.8902629325, 1.0566394091, 0.7159933871, 0.8820357469, 0.8204672832, 0.6671164671, 0.9252238147, 0.8659842245, 0.8502570814, 0.7019968301, 0.7980009752, 0.688204365, 0.8840137778, 0.8534577624, 1.0299848705, 0.814037798, 0.83597993, 0.9042775457, 0.7580366147, 0.791087574, 0.7971853866, 0.7543673424, 0.6710297531, 0.8728927883, 0.9614529245, 0.8221929964, 1.1038579568, 0.9596706722, 0.8559022089, 0.8558383308, 0.7282379272, 0.6897216646, 0.9258918836, 0.7226027444, 0.8495562908, 0.8251431291, 0.9760582317, 0.874850848, 0.8882451318, 0.8771321157, 0.8456756158, 0.6146574367, 0.8759330935, 0.8631510683, 0.9395705656, 0.7574637679, 0.9719581376, 0.7106253033, 0.8627987984, 0.8234412146, 1.0957286921, 0.6721660415, 0.6510817317, 0.8664259613, 0.7445648835, 0.7582272454, 0.889650919, 0.8709964809, 0.9689468814, 0.7363995558, 0.7997610388, 0.9239200716, 0.8478099184, 0.8798377356]\n"
     ]
    }
   ],
   "metadata": {}
  },
  {
   "cell_type": "code",
   "execution_count": 17,
   "source": [
    "testy = task.getSampleEfficiency()\r\n",
    "print(type(testy),testy)"
   ],
   "outputs": [
    {
     "output_type": "stream",
     "name": "stdout",
     "text": [
      "<class 'list'> [6.0531577953, 7.9364073029, 11.4311950546, 4.5406616162, 4.7794095064, 13.0916818273, 6.0088656109, 4.6826005342, 5.0236190742, 6.5014090905, 4.1483036023, 4.0425193644, 5.4230273065, 6.0136551782, 5.2841513973, 7.6358171276, 7.213436786, 5.5876776634, 4.5669377907, 5.7507710927, 4.2840983861, 4.0143941152, 9.956634157, 4.3728866779, 3.9786407503, 11.3330348301, 11.8443567509, 7.8984737322, 8.4801084318, 5.0554931243, 4.6717472663, 5.073865292, 5.7362249877, 4.3126947462, 8.1039491462, 6.2119983985, 7.7747508023, 12.0039445199, 5.0068471603, 3.4329438901, 6.3109237727, 8.7198259851, 3.605499744, 5.7362249877, 4.8333787371, 4.1802861703, 8.3292974429, 4.5862666302, 22.7632012134, 18.1373244921, 26.9221829772, 10.9763091972, 14.436971839, 14.3822643042, 22.8081721897, 11.1523032583, 11.4557801334, 57.7155350318, 119.1319091579, 58.5253093829, 8.910204621, 11.8656181847, 42.0987259404, 9.3849654613, 8.837936651, 9.4445245496, 8.686742062, 14.1816343774, 11.8577177765, 9.8579312302, 12.6519685818, 9.3605300333, 14.8089898959, 11.7897900856, 59.2129001231, 58.1279227443, 8.784938939, 25.8002549565, 18.9898851482, 14.3574393749, 13.4798289054, 74.8751391546, 10.4367849406, 12.5813165256, 11.0930829559, 7.0372813335, 19.8017536436, 13.158701496, 26.0311051801, 7.8742089144, 23.9009725606, 8.2273185804, 24.0256889721, 24.0601302925, 18.8279138785, 8.6624474999, 10.3457243674, 12.8163514377, 14.7182960132, 8.891007794, 10.062091926, 8.2152534733, 7.6435827773, 10.5991223188, 10.374553692, 11.4462146338, 32.0989832617, 12.1757756475, 9.4973457667, 10.7387604494, 86.6816567387, 86.9006398185, 9.9501732058, 17.4476069126, 205.2779034332, 204.8962773708, 145.3511175113, 18.8118380639, 13.6654850143, 12.1823050797, 16.1466949879, 47.8722048899, 13.8683200293, 10.2032395183, 12.1630634293, 11.5242354803, 11.3341581941, 8.4997142331, 11.5346919389, 8.9602996532, 14.2883931719, 11.8441762666, 112.2049910524, 10.8734562385, 9.0394744224, 88.4358504303, 9.5307025066, 11.9750400344, 11.3797177284, 202.0588531292, 268.8695166269, 14.0946354415, 11.1702577806, 14.9782080042]\n"
     ]
    }
   ],
   "metadata": {}
  },
  {
   "cell_type": "code",
   "execution_count": 18,
   "source": [
    "testy = task.getRunID()\r\n",
    "print(type(testy),testy)"
   ],
   "outputs": [
    {
     "output_type": "stream",
     "name": "stdout",
     "text": [
      "<class 'list'> ['alternating_1620487608-7667787', 'alternating_1620487612-856127', 'alternating_1620487613-4628198', 'alternating_1620487615-681346', 'alternating_1620487616-3333554', 'alternating_1620487617-4871354', 'alternating_1620487624-2402046', 'alternating_1620487640-0556047', 'alternating_1620487641-4744017', 'alternating_1620487650-4529185', 'alternating_1620487656-6055038', 'alternating_1620500903-9516904', 'alternating_1620655601-8440435', 'alternating_1620655625-1194763', 'alternating_1620655640-1318283', 'alternating_1620655653-9012692', 'alternating_1620703705-1635935', 'alternating_1620703798-0760312', 'alternating_1620703824-9004898', 'alternating_1620703831-0606048', 'alternating_1620703898-6785636', 'alternating_1620703907-4236605', 'alternating_1620703908-4647944', 'alternating_1620704109-9965236', 'alternating_1620914477-6608028', 'alternating_1620914498-3546169', 'alternating_1620914498-71977', 'alternating_1620914522-3499088', 'alternating_1620914527-067131', 'alternating_1620914527-2386491', 'alternating_1620914544-5710812', 'alternating_1620914553-8233845', 'alternating_1620914557-0121636', 'alternating_1620914562-7058256', 'alternating_1620914583-5926423', 'alternating_1621000001-502589', 'alternating_1621050560-4842381', 'alternating_1621050571-0341227', 'alternating_1621050574-2607465', 'alternating_1621050582-763003', 'alternating_1621050592-5378437', 'alternating_1621050608-2061808', 'alternating_1621050635-5056388', 'alternating_1621050649-5158908', 'alternating_1621050656-3884418', 'alternating_1621050658-8523102', 'alternating_1621050683-066439', 'alternating_1621107342-2035565', 'permuted_1620347065-1092463', 'permuted_1620347158-281843', 'permuted_1620347201-4186416', 'permuted_1620347204-2655413', 'permuted_1620347233-4648786', 'permuted_1620347258-6072934', 'permuted_1620347272-3637383', 'permuted_1620347314-0352376', 'permuted_1620349420-4071681', 'permuted_1620349456-5895417', 'permuted_1620349464-1643448', 'permuted_1620349467-127622', 'permuted_1620352887-4399815', 'permuted_1620352897-1242077', 'permuted_1620352904-7590883', 'permuted_1620352916-7701955', 'permuted_1620399016-5652337', 'permuted_1620399030-2182705', 'permuted_1620399035-3262715', 'permuted_1620399093-2735343', 'permuted_1620573258-429214', 'permuted_1620573277-131144', 'permuted_1620573281-4323313', 'permuted_1620573287-3736322', 'permuted_1620573293-726052', 'permuted_1620573294-2605517', 'permuted_1620573302-6350317', 'permuted_1620573310-038392', 'permuted_1620573329-2781668', 'permuted_1620573473-621709', 'permuted_1620573483-4291487', 'permuted_1620573487-7420845', 'permuted_1620573533-52843', 'permuted_1620573639-7860944', 'permuted_1620573643-7757409', 'permuted_1620574325-868047', 'permuted_1620653373-6308677', 'permuted_1620653383-7160745', 'permuted_1620653390-025553', 'permuted_1620653397-6823862', 'permuted_1620653402-640798', 'permuted_1620653425-34155', 'permuted_1620653954-8812852', 'permuted_1620670342-536037', 'permuted_1620670351-6294842', 'permuted_1620670363-5651176', 'permuted_1620766997-6827404', 'permuted_1620768700-6664279', 'permuted_1620834748-500416', 'permuted_1620834774-0757859', 'permuted_1620834783-631983', 'permuted_1620834810-3588154', 'permuted_1620870129-2117362', 'permuted_1620870133-6442611', 'permuted_1620870139-3182435', 'permuted_1620870153-862497', 'permuted_1620872024-6199698', 'permuted_1620872026-5667458', 'permuted_1620872050-7024574', 'permuted_1620872057-8409946', 'permuted_1620960908-7449093', 'permuted_1620960919-937872', 'permuted_1620960932-9745336', 'permuted_1620960946-5578988', 'permuted_1620961072-3811226', 'permuted_1620961085-3703618', 'permuted_1620961091-7973604', 'permuted_1620961109-3484144', 'permuted_1621000038-0705092', 'permuted_1621000057-7670598', 'permuted_1621000081-4635315', 'permuted_1621000100-2050297', 'permuted_1621107235-4596033', 'permuted_1621107236-3041553', 'permuted_1621107250-9673707', 'permuted_1621107252-1618905', 'permuted_1621107256-7433295', 'permuted_1621107259-9586833', 'permuted_1621107281-2496367', 'permuted_1621107284-7726815', 'permuted_1621107293-7085526', 'permuted_1621107301-6929662', 'permuted_1621107311-3339052', 'permuted_1621107362-2438645', 'permuted_1621172789-1555338', 'permuted_1621172799-8340406', 'permuted_1621172800-5422456', 'permuted_1621172821-1927724', 'permuted_1621172841-9646995', 'permuted_1621172850-3514645', 'permuted_1621172854-412555', 'permuted_1621172866-5911524', 'permuted_1621172869-8881648', 'permuted_1621172924-1517143', 'permuted_1621172930-8403287', 'permuted_1621172946-695647']\n"
     ]
    }
   ],
   "metadata": {}
  },
  {
   "cell_type": "code",
   "execution_count": 19,
   "source": [
    "testy = task.getComplexity()\r\n",
    "print(type(testy),testy)"
   ],
   "outputs": [
    {
     "output_type": "stream",
     "name": "stdout",
     "text": [
      "<class 'list'> ['2-intermediate', '2-intermediate', '2-intermediate', '2-intermediate', '2-intermediate', '2-intermediate', '2-intermediate', '2-intermediate', '2-intermediate', '2-intermediate', '2-intermediate', '2-intermediate', '2-intermediate', '2-intermediate', '2-intermediate', '2-intermediate', '2-intermediate', '2-intermediate', '2-intermediate', '2-intermediate', '2-intermediate', '2-intermediate', '2-intermediate', '2-intermediate', '2-intermediate', '2-intermediate', '2-intermediate', '2-intermediate', '2-intermediate', '2-intermediate', '2-intermediate', '2-intermediate', '2-intermediate', '2-intermediate', '2-intermediate', '2-intermediate', '2-intermediate', '2-intermediate', '2-intermediate', '2-intermediate', '2-intermediate', '2-intermediate', '2-intermediate', '2-intermediate', '2-intermediate', '2-intermediate', '2-intermediate', '2-intermediate', '2-intermediate', '2-intermediate', '2-intermediate', '2-intermediate', '2-intermediate', '2-intermediate', '2-intermediate', '2-intermediate', '2-intermediate', '2-intermediate', '2-intermediate', '2-intermediate', '2-intermediate', '2-intermediate', '2-intermediate', '2-intermediate', '2-intermediate', '2-intermediate', '2-intermediate', '2-intermediate', '2-intermediate', '2-intermediate', '2-intermediate', '2-intermediate', '2-intermediate', '2-intermediate', '2-intermediate', '2-intermediate', '2-intermediate', '2-intermediate', '2-intermediate', '2-intermediate', '2-intermediate', '2-intermediate', '2-intermediate', '2-intermediate', '2-intermediate', '2-intermediate', '2-intermediate', '2-intermediate', '2-intermediate', '2-intermediate', '2-intermediate', '2-intermediate', '2-intermediate', '2-intermediate', '2-intermediate', '2-intermediate', '2-intermediate', '2-intermediate', '2-intermediate', '2-intermediate', '2-intermediate', '2-intermediate', '2-intermediate', '2-intermediate', '2-intermediate', '2-intermediate', '2-intermediate', '2-intermediate', '2-intermediate', '2-intermediate', '2-intermediate', '2-intermediate', '2-intermediate', '2-intermediate', '2-intermediate', '2-intermediate', '2-intermediate', '2-intermediate', '2-intermediate', '2-intermediate', '2-intermediate', '2-intermediate', '2-intermediate', '2-intermediate', '2-intermediate', '2-intermediate', '2-intermediate', '2-intermediate', '2-intermediate', '2-intermediate', '2-intermediate', '2-intermediate', '2-intermediate', '2-intermediate', '2-intermediate', '2-intermediate', '2-intermediate', '2-intermediate', '2-intermediate', '2-intermediate', '2-intermediate', '2-intermediate', '2-intermediate', '2-intermediate']\n"
     ]
    }
   ],
   "metadata": {}
  },
  {
   "cell_type": "code",
   "execution_count": 20,
   "source": [
    "testy = task.getMetricsColumn()\r\n",
    "print(type(testy),testy)"
   ],
   "outputs": [
    {
     "output_type": "stream",
     "name": "stdout",
     "text": [
      "<class 'list'> ['reward', 'reward', 'reward', 'reward', 'reward', 'reward', 'reward', 'reward', 'reward', 'reward', 'reward', 'reward', 'reward', 'reward', 'reward', 'reward', 'reward', 'reward', 'reward', 'reward', 'reward', 'reward', 'reward', 'reward', 'reward', 'reward', 'reward', 'reward', 'reward', 'reward', 'reward', 'reward', 'reward', 'reward', 'reward', 'reward', 'reward', 'reward', 'reward', 'reward', 'reward', 'reward', 'reward', 'reward', 'reward', 'reward', 'reward', 'reward', 'reward', 'reward', 'reward', 'reward', 'reward', 'reward', 'reward', 'reward', 'reward', 'reward', 'reward', 'reward', 'reward', 'reward', 'reward', 'reward', 'reward', 'reward', 'reward', 'reward', 'reward', 'reward', 'reward', 'reward', 'reward', 'reward', 'reward', 'reward', 'reward', 'reward', 'reward', 'reward', 'reward', 'reward', 'reward', 'reward', 'reward', 'reward', 'reward', 'reward', 'reward', 'reward', 'reward', 'reward', 'reward', 'reward', 'reward', 'reward', 'reward', 'reward', 'reward', 'reward', 'reward', 'reward', 'reward', 'reward', 'reward', 'reward', 'reward', 'reward', 'reward', 'reward', 'reward', 'reward', 'reward', 'reward', 'reward', 'reward', 'reward', 'reward', 'reward', 'reward', 'reward', 'reward', 'reward', 'reward', 'reward', 'reward', 'reward', 'reward', 'reward', 'reward', 'reward', 'reward', 'reward', 'reward', 'reward', 'reward', 'reward', 'reward', 'reward', 'reward', 'reward', 'reward', 'reward', 'reward']\n"
     ]
    }
   ],
   "metadata": {}
  },
  {
   "cell_type": "code",
   "execution_count": 21,
   "source": [
    "testy = task.getScenarioType()\r\n",
    "print(type(testy),testy)"
   ],
   "outputs": [
    {
     "output_type": "stream",
     "name": "stdout",
     "text": [
      "<class 'list'> ['alternating', 'alternating', 'alternating', 'alternating', 'alternating', 'alternating', 'alternating', 'alternating', 'alternating', 'alternating', 'alternating', 'alternating', 'alternating', 'alternating', 'alternating', 'alternating', 'alternating', 'alternating', 'alternating', 'alternating', 'alternating', 'alternating', 'alternating', 'alternating', 'alternating', 'alternating', 'alternating', 'alternating', 'alternating', 'alternating', 'alternating', 'alternating', 'alternating', 'alternating', 'alternating', 'alternating', 'alternating', 'alternating', 'alternating', 'alternating', 'alternating', 'alternating', 'alternating', 'alternating', 'alternating', 'alternating', 'alternating', 'alternating', 'permuted', 'permuted', 'permuted', 'permuted', 'permuted', 'permuted', 'permuted', 'permuted', 'permuted', 'permuted', 'permuted', 'permuted', 'permuted', 'permuted', 'permuted', 'permuted', 'permuted', 'permuted', 'permuted', 'permuted', 'permuted', 'permuted', 'permuted', 'permuted', 'permuted', 'permuted', 'permuted', 'permuted', 'permuted', 'permuted', 'permuted', 'permuted', 'permuted', 'permuted', 'permuted', 'permuted', 'permuted', 'permuted', 'permuted', 'permuted', 'permuted', 'permuted', 'permuted', 'permuted', 'permuted', 'permuted', 'permuted', 'permuted', 'permuted', 'permuted', 'permuted', 'permuted', 'permuted', 'permuted', 'permuted', 'permuted', 'permuted', 'permuted', 'permuted', 'permuted', 'permuted', 'permuted', 'permuted', 'permuted', 'permuted', 'permuted', 'permuted', 'permuted', 'permuted', 'permuted', 'permuted', 'permuted', 'permuted', 'permuted', 'permuted', 'permuted', 'permuted', 'permuted', 'permuted', 'permuted', 'permuted', 'permuted', 'permuted', 'permuted', 'permuted', 'permuted', 'permuted', 'permuted', 'permuted', 'permuted', 'permuted', 'permuted', 'permuted', 'permuted', 'permuted', 'permuted']\n"
     ]
    }
   ],
   "metadata": {}
  },
  {
   "cell_type": "code",
   "execution_count": 22,
   "source": [
    "testy = task.getDifficulty()\r\n",
    "print(type(testy),testy)"
   ],
   "outputs": [
    {
     "output_type": "stream",
     "name": "stdout",
     "text": [
      "<class 'list'> ['2-medium', '2-medium', '2-medium', '2-medium', '2-medium', '2-medium', '2-medium', '2-medium', '2-medium', '2-medium', '2-medium', '2-medium', '2-medium', '2-medium', '2-medium', '2-medium', '2-medium', '2-medium', '2-medium', '2-medium', '2-medium', '2-medium', '2-medium', '2-medium', '2-medium', '2-medium', '2-medium', '2-medium', '2-medium', '2-medium', '2-medium', '2-medium', '2-medium', '2-medium', '2-medium', '2-medium', '2-medium', '2-medium', '2-medium', '2-medium', '2-medium', '2-medium', '2-medium', '2-medium', '2-medium', '2-medium', '2-medium', '2-medium', '2-medium', '2-medium', '2-medium', '2-medium', '2-medium', '2-medium', '2-medium', '2-medium', '2-medium', '2-medium', '2-medium', '2-medium', '2-medium', '2-medium', '2-medium', '2-medium', '2-medium', '2-medium', '2-medium', '2-medium', '2-medium', '2-medium', '2-medium', '2-medium', '2-medium', '2-medium', '2-medium', '2-medium', '2-medium', '2-medium', '2-medium', '2-medium', '2-medium', '2-medium', '2-medium', '2-medium', '2-medium', '2-medium', '2-medium', '2-medium', '2-medium', '2-medium', '2-medium', '2-medium', '2-medium', '2-medium', '2-medium', '2-medium', '2-medium', '2-medium', '2-medium', '2-medium', '2-medium', '2-medium', '2-medium', '2-medium', '2-medium', '2-medium', '2-medium', '2-medium', '2-medium', '2-medium', '2-medium', '2-medium', '2-medium', '2-medium', '2-medium', '2-medium', '2-medium', '2-medium', '2-medium', '2-medium', '2-medium', '2-medium', '2-medium', '2-medium', '2-medium', '2-medium', '2-medium', '2-medium', '2-medium', '2-medium', '2-medium', '2-medium', '2-medium', '2-medium', '2-medium', '2-medium', '2-medium', '2-medium', '2-medium', '2-medium', '2-medium', '2-medium', '2-medium', '2-medium']\n"
     ]
    }
   ],
   "metadata": {}
  },
  {
   "cell_type": "code",
   "execution_count": 23,
   "source": [
    "testy1= task.getMinMax()\r\n",
    "print(type(testy1),testy1)\r\n",
    "# print(type(testy2),testy2)"
   ],
   "outputs": [
    {
     "output_type": "stream",
     "name": "stdout",
     "text": [
      "<class 'list'> [(1.0, 46.0199203187), (1.0, 43.1052631579), (1.796812749, 46.4183266932), (1.6968641115, 33.0175438596), (1.0, 78.3519163763), (1.0, 88.0317002882), (1.796812749, 78.7003484321), (1.0, 100.1354466859), (1.0, 60.5818815331), (1.0, 55.1786743516), (2.7421602787, 88.1080139373), (1.796812749, 43.1052631579), (1.796812749, 43.1052631579), (1.0, 46.0199203187), (1.0, 78.3519163763), (1.796812749, 46.4183266932), (1.0, 45.7368421053), (1.0, 55.1786743516), (1.6968641115, 34.4494773519), (1.0, 100.1354466859), (1.796812749, 78.7003484321), (2.7421602787, 78.3519163763), (1.0, 88.0317002882), (1.0, 60.5818815331), (1.0, 33.2709163347), (1.0, 64.6887608069), (1.796812749, 39.2470119522), (1.796812749, 48.3867595819), (2.7421602787, 84.6236933798), (1.796812749, 38.4501992032), (1.0, 47.6898954704), (2.1952191235, 53.2648083624), (1.0, 89.1844380403), (1.0, 51.0), (1.0, 94.031358885), (1.0, 69.6411149826), (1.0, 48.3867595819), (1.796812749, 39.2470119522), (1.796812749, 40.0438247012), (1.0, 37.2549800797), (1.0, 75.9128919861), (1.0, 64.6887608069), (1.0, 43.5087108014), (1.0, 89.1844380403), (2.7421602787, 84.6236933798), (1.0, 54.8904899135), (1.0, 86.0174216028), (2.1952191235, 101.0), (1.0, 99.9547038328), (1.0, 56.7491289199), (1.0, 72.4285714286), (1.0, 75.5644599303), (1.0, 90.5470383275), (1.0, 71.3832752613), (1.0, 64.7630662021), (1.0, 64.7630662021), (1.0, 100.1354466859), (1.0, 88.456445993), (1.0, 60.5818815331), (1.0, 55.1786743516), (1.0, 60.5818815331), (1.0, 64.4146341463), (1.0, 70.3379790941), (1.0, 81.1393728223), (1.0, 64.7630662021), (1.0, 31.6620209059), (1.0, 33.2709163347), (1.0, 100.1354466859), (1.0, 47.3414634146), (1.0, 64.7630662021), (1.0, 60.9303135889), (1.0, 41.350877193), (1.0, 64.7630662021), (1.0, 48.0119521912), (1.0, 55.1786743516), (1.0, 60.5818815331), (1.0, 58.1428571429), (1.0, 99.9547038328), (1.0, 63.7177700348), (1.0, 72.4285714286), (1.0, 81.8362369338), (1.0, 47.9298245614), (1.0, 100.1354466859), (1.0, 100.1354466859), (1.0, 60.5818815331), (1.0, 51.8710801394), (1.0, 53.6132404181), (1.0, 87.4553314121), (1.0, 42.4634146341), (1.0, 62.3240418118), (1.0, 40.0243902439), (1.0, 51.8710801394), (1.0, 51.5226480836), (1.0, 35.2105263158), (1.0, 72.4285714286), (1.0, 60.5818815331), (1.0, 38.0517928287), (1.0, 38.4501992032), (1.0, 32.4741035857), (1.0, 34.4494773519), (1.0, 92.9860627178), (1.0, 40.0438247012), (1.0, 32.0756972112), (1.0, 92.9860627178), (1.0, 41.2390438247), (1.0, 48.3867595819), (1.0, 76.5043227666), (1.0, 48.3867595819), (1.0, 89.1844380403), (1.0, 89.1844380403), (1.0, 80.5389048991), (1.0, 48.0383275261), (1.0, 45.9477351916), (1.0, 61.9756097561), (1.0, 68.5438596491), (1.0, 68.5438596491), (1.0, 54.5087719298), (1.0, 86.0174216028), (1.0, 77.6550522648), (1.0, 86.0174216028), (1.0, 38.0517928287), (1.0, 32.4741035857), (1.0, 92.9860627178), (1.0, 38.0517928287), (1.0, 61.9756097561), (1.0, 32.4741035857), (1.0, 48.3867595819), (1.0, 30.8804780876), (1.0, 92.9860627178), (1.0, 38.2822299652), (1.0, 76.6097560976), (1.0, 33.8947368421), (1.0, 61.2787456446), (1.0, 89.1844380403), (1.0, 89.850174216), (1.0, 46.9930313589), (1.0, 53.9616724739), (1.0, 45.7368421053), (1.0, 46.2961672474), (1.0, 68.5438596491), (1.0, 81.4034582133), (1.0, 86.0174216028), (1.0, 95.7735191638), (1.0, 86.7142857143)]\n"
     ]
    }
   ],
   "metadata": {}
  },
  {
   "cell_type": "code",
   "execution_count": 24,
   "source": [
    "testy1 = task.getNumLXEX()\r\n",
    "print(type(testy1),testy1)\r\n",
    "# print(type(testy2),testy2)"
   ],
   "outputs": [
    {
     "output_type": "stream",
     "name": "stdout",
     "text": [
      "<class 'list'> [(93442, 1141), (103287, 1142), (49936, 1152), (272619, 1146), (221896, 1148), (236301, 1140), (198885, 1145), (85155, 1140), (279353, 1130), (86864, 1142), (199431, 1144), (49936, 1152), (49936, 1152), (92557, 1141), (221874, 1148), (49936, 1152), (103200, 1142), (86811, 1142), (269904, 1152), (83784, 1141), (196840, 1142), (199593, 1144), (235518, 1138), (279073, 1133), (114569, 1153), (89246, 1155), (49920, 1152), (218818, 1168), (206035, 1154), (49920, 1152), (284667, 1153), (170921, 1157), (85922, 1153), (85485, 1156), (240062, 1164), (208751, 1160), (217056, 1168), (49920, 1152), (49920, 1152), (108017, 1152), (209287, 1162), (87558, 1155), (282332, 1155), (86047, 1153), (212562, 1154), (85300, 1157), (239022, 1160), (177888, 1157), (111447, 1515), (106428, 1514), (83082, 1514), (103800, 1516), (102089, 1515), (110149, 1517), (106275, 1519), (119144, 1515), (110473, 1513), (116486, 1513), (110734, 1513), (109422, 1512), (110734, 1513), (84431, 1513), (79383, 1513), (85588, 1516), (105444, 1514), (127921, 1519), (129254, 1530), (115307, 1516), (105317, 1513), (114552, 1518), (100999, 1512), (126808, 1519), (119824, 1521), (115188, 1519), (115510, 1515), (113131, 1517), (119205, 1520), (98625, 1514), (107365, 1515), (103797, 1513), (84449, 1514), (52258, 1523), (110363, 1513), (98690, 1514), (110718, 1516), (90474, 1515), (86814, 1513), (78947, 1514), (83342, 1520), (83802, 1515), (83342, 1517), (85438, 1514), (83342, 1526), (83342, 1520), (97744, 1513), (110718, 1514), (143756, 1539), (120660, 1537), (148415, 1539), (148254, 1552), (110915, 1541), (149894, 1539), (149863, 1539), (109069, 1539), (127070, 1539), (105251, 1550), (122543, 1538), (112309, 1550), (110675, 1541), (90718, 1542), (108460, 1544), (103179, 1545), (95956, 1538), (95956, 1538), (90263, 1540), (84565, 1538), (97126, 1538), (84828, 1540), (93604, 1540), (84828, 1546), (96634, 1545), (137742, 1542), (99935, 1540), (148740, 1538), (107919, 1548), (130683, 1538), (110972, 1549), (146569, 1546), (110970, 1539), (136794, 1538), (98030, 1538), (147876, 1545), (102591, 1547), (105122, 1540), (97028, 1540), (102879, 1548), (95956, 1537), (97274, 1539), (95956, 1541), (85845, 1542), (84179, 1541), (84828, 1538), (93742, 1538), (84828, 1539)]\n"
     ]
    }
   ],
   "metadata": {}
  },
  {
   "cell_type": "code",
   "execution_count": 25,
   "source": [
    "# pprint.pprint(task.df2dict(task.df))\r\n",
    "# for key in task.df2dict(task.df).keys():\r\n",
    "#     print([(k,type(k)) for k in key if k == k])\r\n",
    "# for col in task.df.columns:\r\n",
    "#     print(col)\r\n",
    "# pprint.pprint(task.df.to_dict())"
   ],
   "outputs": [],
   "metadata": {}
  }
 ],
 "metadata": {
  "interpreter": {
   "hash": "f122e15337e94c6fcfcf312b654fb8b56348c659d5e1d47922a84bd4b33f2626"
  },
  "kernelspec": {
   "name": "python3",
   "display_name": "Python 3.6.8 64-bit ('venv': venv)"
  },
  "language_info": {
   "codemirror_mode": {
    "name": "ipython",
    "version": 3
   },
   "file_extension": ".py",
   "mimetype": "text/x-python",
   "name": "python",
   "nbconvert_exporter": "python",
   "pygments_lexer": "ipython3",
   "version": "3.6.8"
  },
  "orig_nbformat": 4
 },
 "nbformat": 4,
 "nbformat_minor": 2
}