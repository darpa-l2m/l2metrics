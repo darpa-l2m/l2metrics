{
 "cells": [
  {
   "cell_type": "code",
   "execution_count": null,
   "source": [
    "from helper import TaskMetrics\r\n",
    "import pprint"
   ],
   "outputs": [],
   "metadata": {}
  },
  {
   "cell_type": "code",
   "execution_count": null,
   "source": [
    "task = TaskMetrics(\"sri_normalized_no_outliers.json\")"
   ],
   "outputs": [],
   "metadata": {}
  },
  {
   "cell_type": "code",
   "execution_count": null,
   "source": [
    "# for col,val in task.getBackwardTransferRatio(\"task1_1\").items():\r\n",
    "#     print(type(col),col)\r\n",
    "#     print(type(val),val)"
   ],
   "outputs": [],
   "metadata": {}
  },
  {
   "cell_type": "code",
   "execution_count": null,
   "source": [
    "# print(task.getBackwardTransferRatio(\"task2_1\"))\r\n",
    "# task.df2dict(task.df.root.normalization_data_range)\r\n",
    "# dict1 = {1:{'a':{2:3}}}\r\n",
    "# dict2 = {1:{'b':{2:3}}}\r\n",
    "\r\n",
    "# print(task.mergedict(dict1,dict2))\r\n"
   ],
   "outputs": [],
   "metadata": {}
  },
  {
   "cell_type": "code",
   "execution_count": null,
   "source": [
    "# print((type(task.df.root.task_metrics)))"
   ],
   "outputs": [],
   "metadata": {}
  },
  {
   "cell_type": "code",
   "execution_count": null,
   "source": [
    "testy = task.getNormalizationDataRange(\"collectmineralshards_1\")\r\n",
    "pprint.pprint(testy)"
   ],
   "outputs": [],
   "metadata": {}
  },
  {
   "cell_type": "code",
   "execution_count": null,
   "source": [
    "testy = task.getBackwardTransferRatio()\r\n",
    "print(type(testy),testy)"
   ],
   "outputs": [],
   "metadata": {}
  },
  {
   "cell_type": "code",
   "execution_count": null,
   "source": [
    "testy = task.getForwardTransferRatio()\r\n",
    "print(type(testy),testy)"
   ],
   "outputs": [],
   "metadata": {}
  },
  {
   "cell_type": "code",
   "execution_count": null,
   "source": [
    "testy = task.getBackwardTransferContrast()\r\n",
    "print(type(testy),testy)"
   ],
   "outputs": [],
   "metadata": {}
  },
  {
   "cell_type": "code",
   "execution_count": null,
   "source": [
    "testy = task.getForwardTransferContrast()\r\n",
    "print(type(testy),testy)"
   ],
   "outputs": [],
   "metadata": {}
  },
  {
   "cell_type": "code",
   "execution_count": null,
   "source": [
    "testy = task.getMaintenanceValMRLEP(\"collectmineralshards_1\")\r\n",
    "pprint.pprint(testy)"
   ],
   "outputs": [],
   "metadata": {}
  },
  {
   "cell_type": "code",
   "execution_count": null,
   "source": [
    "testy = task.getMaintenanceValMRTLP(\"collectmineralshards_1\")\r\n",
    "print(type(testy),testy)"
   ],
   "outputs": [],
   "metadata": {}
  },
  {
   "cell_type": "code",
   "execution_count": null,
   "source": [
    "testy = task.getRecoveryTimes(\"collectmineralshards_1\")\r\n",
    "print(type(testy),testy)"
   ],
   "outputs": [],
   "metadata": {}
  },
  {
   "cell_type": "code",
   "execution_count": null,
   "source": [
    "testy = task.getPerfRecoveryRate()\r\n",
    "print(type(testy),testy)"
   ],
   "outputs": [],
   "metadata": {}
  },
  {
   "cell_type": "code",
   "execution_count": null,
   "source": [
    "testy = task.getPerfMaintenanceMRLEP()\r\n",
    "print(type(testy),testy)"
   ],
   "outputs": [],
   "metadata": {}
  },
  {
   "cell_type": "code",
   "execution_count": null,
   "source": [
    "testy = task.getPerfMaintenanceMRTLP()\r\n",
    "print(type(testy),testy)"
   ],
   "outputs": [],
   "metadata": {}
  },
  {
   "cell_type": "code",
   "execution_count": null,
   "source": [
    "testy = task.getSTERelPerf()\r\n",
    "print(type(testy),testy)"
   ],
   "outputs": [],
   "metadata": {}
  },
  {
   "cell_type": "code",
   "execution_count": null,
   "source": [
    "testy = task.getSampleEfficiency()\r\n",
    "print(type(testy),testy)"
   ],
   "outputs": [],
   "metadata": {}
  },
  {
   "cell_type": "code",
   "execution_count": null,
   "source": [
    "testy = task.getRunID()\r\n",
    "print(type(testy),testy)"
   ],
   "outputs": [],
   "metadata": {}
  },
  {
   "cell_type": "code",
   "execution_count": null,
   "source": [
    "testy = task.getComplexity()\r\n",
    "print(type(testy),testy)"
   ],
   "outputs": [],
   "metadata": {}
  },
  {
   "cell_type": "code",
   "execution_count": null,
   "source": [
    "testy = task.getMetricsColumn()\r\n",
    "print(type(testy),testy)"
   ],
   "outputs": [],
   "metadata": {}
  },
  {
   "cell_type": "code",
   "execution_count": null,
   "source": [
    "testy = task.getScenarioType()\r\n",
    "print(type(testy),testy)"
   ],
   "outputs": [],
   "metadata": {}
  },
  {
   "cell_type": "code",
   "execution_count": null,
   "source": [
    "testy = task.getDifficulty()\r\n",
    "print(type(testy),testy)"
   ],
   "outputs": [],
   "metadata": {}
  },
  {
   "cell_type": "code",
   "execution_count": null,
   "source": [
    "testy1= task.getMinMax()\r\n",
    "print(type(testy1),testy1)\r\n",
    "# print(type(testy2),testy2)"
   ],
   "outputs": [],
   "metadata": {}
  },
  {
   "cell_type": "code",
   "execution_count": null,
   "source": [
    "testy1 = task.getNumLXEX()\r\n",
    "print(type(testy1),testy1)\r\n",
    "# print(type(testy2),testy2)"
   ],
   "outputs": [],
   "metadata": {}
  },
  {
   "cell_type": "code",
   "execution_count": null,
   "source": [
    "# pprint.pprint(task.df2dict(task.df))\r\n",
    "# for key in task.df2dict(task.df).keys():\r\n",
    "#     print([(k,type(k)) for k in key if k == k])\r\n",
    "# for col in task.df.columns:\r\n",
    "#     print(col)\r\n",
    "# pprint.pprint(task.df.to_dict())"
   ],
   "outputs": [],
   "metadata": {}
  }
 ],
 "metadata": {
  "interpreter": {
   "hash": "f122e15337e94c6fcfcf312b654fb8b56348c659d5e1d47922a84bd4b33f2626"
  },
  "kernelspec": {
   "name": "python3",
   "display_name": "Python 3.6.8 64-bit ('venv': venv)"
  },
  "language_info": {
   "codemirror_mode": {
    "name": "ipython",
    "version": 3
   },
   "file_extension": ".py",
   "mimetype": "text/x-python",
   "name": "python",
   "nbconvert_exporter": "python",
   "pygments_lexer": "ipython3",
   "version": "3.6.8"
  },
  "orig_nbformat": 4
 },
 "nbformat": 4,
 "nbformat_minor": 2
}