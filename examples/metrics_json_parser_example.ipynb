{
 "cells": [
  {
   "cell_type": "code",
   "execution_count": null,
   "source": [
    "import pprint\r\n",
    "from pathlib import Path\r\n",
    "\r\n",
    "import numpy as np\r\n",
    "from l2metrics.metrics_json_parser import MetricsJsonParser"
   ],
   "outputs": [],
   "metadata": {}
  },
  {
   "cell_type": "code",
   "execution_count": null,
   "source": [
    "json_path = Path()\r\n",
    "\r\n",
    "json_parser = MetricsJsonParser(json_path)"
   ],
   "outputs": [],
   "metadata": {}
  },
  {
   "cell_type": "code",
   "execution_count": null,
   "source": [
    "testy = json_parser.getForwardTransferRatio()\r\n",
    "# print(type(testy), testy)\r\n",
    "json_parser.plotHist(testy)"
   ],
   "outputs": [],
   "metadata": {}
  },
  {
   "cell_type": "code",
   "execution_count": null,
   "source": [
    "testy = json_parser.getBackwardTransferRatio()\r\n",
    "# print(type(testy), testy)\r\n",
    "json_parser.plotHist(testy)"
   ],
   "outputs": [],
   "metadata": {}
  },
  {
   "cell_type": "code",
   "execution_count": null,
   "source": [
    "testy = json_parser.getForwardTransferContrast()\r\n",
    "# print(type(testy),testy)\r\n",
    "json_parser.plotHist(testy)"
   ],
   "outputs": [],
   "metadata": {}
  },
  {
   "cell_type": "code",
   "execution_count": null,
   "source": [
    "testy = json_parser.getBackwardTransferContrast()\r\n",
    "# print(type(testy),testy)\r\n",
    "json_parser.plotHist(testy)"
   ],
   "outputs": [],
   "metadata": {}
  },
  {
   "cell_type": "code",
   "execution_count": null,
   "source": [
    "testy = json_parser.getPerfRecoveryRate()\r\n",
    "# print(type(testy),testy)\r\n",
    "json_parser.plotHist(testy)"
   ],
   "outputs": [],
   "metadata": {}
  },
  {
   "cell_type": "code",
   "execution_count": null,
   "source": [
    "testy = json_parser.getPerfMaintenanceMRLEP()\r\n",
    "# print(type(testy),testy)\r\n",
    "json_parser.plotHist(testy)"
   ],
   "outputs": [],
   "metadata": {}
  },
  {
   "cell_type": "code",
   "execution_count": null,
   "source": [
    "testy = json_parser.getPerfMaintenanceMRTLP()\r\n",
    "# print(type(testy),testy)\r\n",
    "json_parser.plotHist(testy)"
   ],
   "outputs": [],
   "metadata": {}
  },
  {
   "cell_type": "code",
   "execution_count": null,
   "source": [
    "testy = json_parser.getSTERelPerf()\r\n",
    "# print(type(testy),testy)\r\n",
    "json_parser.plotHist(testy)"
   ],
   "outputs": [],
   "metadata": {}
  },
  {
   "cell_type": "code",
   "execution_count": null,
   "source": [
    "testy = json_parser.getSampleEfficiency()\r\n",
    "# print(type(testy),testy)\r\n",
    "json_parser.plotHist(testy)"
   ],
   "outputs": [],
   "metadata": {}
  },
  {
   "cell_type": "code",
   "execution_count": null,
   "source": [
    "testy = json_parser.getRunID()\r\n",
    "print(type(testy),testy)"
   ],
   "outputs": [],
   "metadata": {}
  },
  {
   "cell_type": "code",
   "execution_count": null,
   "source": [
    "testy = json_parser.getComplexity()\r\n",
    "print(type(testy),testy)"
   ],
   "outputs": [],
   "metadata": {}
  },
  {
   "cell_type": "code",
   "execution_count": null,
   "source": [
    "testy = json_parser.getMetricsColumn()\r\n",
    "print(type(testy),testy)"
   ],
   "outputs": [],
   "metadata": {}
  },
  {
   "cell_type": "code",
   "execution_count": null,
   "source": [
    "testy = json_parser.getScenarioType()\r\n",
    "print(type(testy),testy)"
   ],
   "outputs": [],
   "metadata": {}
  },
  {
   "cell_type": "code",
   "execution_count": null,
   "source": [
    "testy = json_parser.getDifficulty()\r\n",
    "print(type(testy),testy)"
   ],
   "outputs": [],
   "metadata": {}
  },
  {
   "cell_type": "code",
   "execution_count": null,
   "source": [
    "testy1= json_parser.getMinMax()\r\n",
    "print(type(testy1),testy1)\r\n",
    "# print(type(testy2),testy2)"
   ],
   "outputs": [],
   "metadata": {}
  },
  {
   "cell_type": "code",
   "execution_count": null,
   "source": [
    "testy1 = json_parser.getNumLXEX()\r\n",
    "print(type(testy1),testy1)\r\n",
    "# print(type(testy2),testy2)"
   ],
   "outputs": [],
   "metadata": {}
  }
 ],
 "metadata": {
  "interpreter": {
   "hash": "2597f07d1e20e98cf7cfcf385b8c0110fb64187439c69d940b99f69f38ff003b"
  },
  "kernelspec": {
   "name": "python3",
   "display_name": "Python 3.6.8 64-bit ('venv36': venv)"
  },
  "language_info": {
   "codemirror_mode": {
    "name": "ipython",
    "version": 3
   },
   "file_extension": ".py",
   "mimetype": "text/x-python",
   "name": "python",
   "nbconvert_exporter": "python",
   "pygments_lexer": "ipython3",
   "version": "3.6.8"
  },
  "orig_nbformat": 4
 },
 "nbformat": 4,
 "nbformat_minor": 2
}