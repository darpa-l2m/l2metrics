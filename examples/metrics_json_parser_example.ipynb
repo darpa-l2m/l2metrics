{
 "cells": [
  {
   "cell_type": "code",
   "execution_count": null,
   "source": [
    "\"\"\"\r\n",
    "Copyright © 2021 The Johns Hopkins University Applied Physics Laboratory LLC\r\n",
    "\r\n",
    "Permission is hereby granted, free of charge, to any person obtaining a copy \r\n",
    "of this software and associated documentation files (the “Software”), to \r\n",
    "deal in the Software without restriction, including without limitation the \r\n",
    "rights to use, copy, modify, merge, publish, distribute, sublicense, and/or \r\n",
    "sell copies of the Software, and to permit persons to whom the Software is \r\n",
    "furnished to do so, subject to the following conditions:\r\n",
    "\r\n",
    "The above copyright notice and this permission notice shall be included in \r\n",
    "all copies or substantial portions of the Software.\r\n",
    "\r\n",
    "THE SOFTWARE IS PROVIDED “AS IS”, WITHOUT WARRANTY OF ANY KIND, EXPRESS OR \r\n",
    "IMPLIED, INCLUDING BUT NOT LIMITED TO THE WARRANTIES OF MERCHANTABILITY, \r\n",
    "FITNESS FOR A PARTICULAR PURPOSE AND NONINFRINGEMENT. IN NO EVENT SHALL THE \r\n",
    "AUTHORS OR COPYRIGHT HOLDERS BE LIABLE FOR ANY CLAIM, DAMAGES OR OTHER LIABILITY, \r\n",
    "WHETHER IN AN ACTION OF CONTRACT, TORT OR OTHERWISE, ARISING FROM, OUT OF OR \r\n",
    "IN CONNECTION WITH THE SOFTWARE OR THE USE OR OTHER DEALINGS IN THE SOFTWARE.\r\n",
    "\"\"\""
   ],
   "outputs": [],
   "metadata": {}
  },
  {
   "cell_type": "code",
   "execution_count": null,
   "source": [
    "import warnings\r\n",
    "from pathlib import Path\r\n",
    "\r\n",
    "import seaborn as sns\r\n",
    "from l2metrics.metrics_json_parser import MetricsParser\r\n",
    "\r\n",
    "warnings.filterwarnings('ignore', message='.*`distplot` is a deprecated*')\r\n",
    "warnings.filterwarnings('ignore', message='.*Dataset has 0 variance*')"
   ],
   "outputs": [],
   "metadata": {}
  },
  {
   "cell_type": "code",
   "execution_count": null,
   "source": [
    "json_path = Path('..') / 'evaluation' / 'example_results' / 'll_metrics.json'\r\n",
    "json_parser = MetricsParser(json_path)\r\n",
    "\r\n",
    "tsv_path = Path('..') / 'evaluation' / 'example_results' / 'll_metrics_regime.tsv'\r\n",
    "tsv_parser = MetricsParser(tsv_path, tsv=True)"
   ],
   "outputs": [],
   "metadata": {}
  },
  {
   "cell_type": "code",
   "execution_count": null,
   "source": [
    "json_parser.getUniqueTaskNames()"
   ],
   "outputs": [],
   "metadata": {}
  },
  {
   "cell_type": "code",
   "execution_count": null,
   "source": [
    "json_parser.plotNormalizationDataRange('dist')"
   ],
   "outputs": [],
   "metadata": {}
  },
  {
   "cell_type": "code",
   "execution_count": null,
   "source": [
    "json_parser.plotRecoveryTimes('dist')"
   ],
   "outputs": [],
   "metadata": {}
  },
  {
   "cell_type": "code",
   "execution_count": null,
   "source": [
    "json_parser.plotPerfRecoveryRate('dist')"
   ],
   "outputs": [],
   "metadata": {}
  },
  {
   "cell_type": "code",
   "execution_count": null,
   "source": [
    "json_parser.plotPerfMaintenanceMRLEP('dist')"
   ],
   "outputs": [],
   "metadata": {}
  },
  {
   "cell_type": "code",
   "execution_count": null,
   "source": [
    "json_parser.plotForwardTransferRatio('dist')"
   ],
   "outputs": [],
   "metadata": {}
  },
  {
   "cell_type": "code",
   "execution_count": null,
   "source": [
    "json_parser.plotBackwardTransferRatio('dist')"
   ],
   "outputs": [],
   "metadata": {}
  },
  {
   "cell_type": "code",
   "execution_count": null,
   "source": [
    "json_parser.plotSTERelPerf('dist')"
   ],
   "outputs": [],
   "metadata": {}
  },
  {
   "cell_type": "code",
   "execution_count": null,
   "source": [
    "json_parser.plotSampleEfficiency('dist')"
   ],
   "outputs": [],
   "metadata": {}
  },
  {
   "cell_type": "code",
   "execution_count": null,
   "source": [
    "json_parser.plotSampleEfficiencyVals('dist', 'tb_1')"
   ],
   "outputs": [],
   "metadata": {}
  },
  {
   "cell_type": "code",
   "execution_count": null,
   "source": [
    "json_parser.plotRuntime('dist')"
   ],
   "outputs": [],
   "metadata": {}
  },
  {
   "cell_type": "code",
   "execution_count": null,
   "source": [
    "json_parser.plotMinMax('dist','all')"
   ],
   "outputs": [],
   "metadata": {}
  },
  {
   "cell_type": "code",
   "execution_count": null,
   "source": [
    "json_parser.plotNumLXEX('dist', 'all')"
   ],
   "outputs": [],
   "metadata": {}
  },
  {
   "cell_type": "code",
   "execution_count": null,
   "source": [
    "tsv_parser.df_tsv"
   ],
   "outputs": [],
   "metadata": {}
  },
  {
   "cell_type": "code",
   "execution_count": null,
   "source": [
    "tsv_parser.getTaskNamesUnique()"
   ],
   "outputs": [],
   "metadata": {}
  }
 ],
 "metadata": {
  "interpreter": {
   "hash": "2597f07d1e20e98cf7cfcf385b8c0110fb64187439c69d940b99f69f38ff003b"
  },
  "kernelspec": {
   "name": "python3",
   "display_name": "Python 3.6.8 64-bit ('venv36': venv)"
  },
  "language_info": {
   "codemirror_mode": {
    "name": "ipython",
    "version": 3
   },
   "file_extension": ".py",
   "mimetype": "text/x-python",
   "name": "python",
   "nbconvert_exporter": "python",
   "pygments_lexer": "ipython3",
   "version": "3.6.8"
  },
  "orig_nbformat": 4
 },
 "nbformat": 4,
 "nbformat_minor": 2
}
