{
 "cells": [
  {
   "cell_type": "markdown",
   "metadata": {},
   "source": [
    "# L2Metrics"
   ]
  },
  {
   "cell_type": "code",
   "execution_count": 2,
   "metadata": {},
   "outputs": [
    {
     "name": "stdout",
     "output_type": "stream",
     "text": [
      "hello world\n"
     ]
    }
   ],
   "source": [
    "print(\"hello world\")"
   ]
  },
  {
   "cell_type": "code",
   "execution_count": 3,
   "metadata": {},
   "outputs": [],
   "source": [
    "import json\r\n",
    "import re\r\n",
    "import os"
   ]
  },
  {
   "cell_type": "code",
   "execution_count": 4,
   "metadata": {},
   "outputs": [],
   "source": [
    "with open(\"multi_task_metrics.json\") as file:\r\n",
    "     data = json.load(file)"
   ]
  },
  {
   "cell_type": "code",
   "execution_count": 5,
   "metadata": {},
   "outputs": [
    {
     "name": "stdout",
     "output_type": "stream",
     "text": [
      "task1_1\n",
      "task2_1\n",
      "task3_1\n"
     ]
    }
   ],
   "source": [
    "for key in data[\"task_metrics\"]:\r\n",
    "    print( key)"
   ]
  },
  {
   "cell_type": "code",
   "execution_count": 6,
   "metadata": {},
   "outputs": [],
   "source": [
    "# print(json.dumps(data,indent=2))\r\n",
    "class Stats:\r\n",
    "    def __init__(self):\r\n",
    "        self.vals = []\r\n",
    "        self.valcount = 0\r\n",
    "        self.avg = 0\r\n",
    "    def add_val(self,val):\r\n",
    "        self.vals.append(val)\r\n",
    "        self.valcount+=1\r\n",
    "        self.avg = sum(self.vals)/self.valcount\r\n",
    "    def print_state(self):\r\n",
    "        print(\"vals: \",self.vals)\r\n",
    "        print(\"valcount: \", self.valcount)\r\n",
    "        print(\"avg: \",self.avg)"
   ]
  },
  {
   "cell_type": "code",
   "execution_count": 9,
   "metadata": {},
   "outputs": [
    {
     "name": "stdout",
     "output_type": "stream",
     "text": [
      "task2_1 -------------\n",
      "task3_1 -------------\n",
      "task1_1 -------------\n",
      "task3_1 -------------\n",
      "task1_1 -------------\n",
      "task2_1 -------------\n",
      "task2_1\n",
      "vals:  [1.0564357621543066, 1.0152121534708918, 1.0001741136956974, 1.2188048731254775, 1.0285665590647524, 1.00007037658636]\n",
      "valcount:  6\n",
      "avg:  1.0532106396829144\n",
      "--------------------------------------------\n",
      "task3_1\n",
      "vals:  [1.0487001904871414, 0.996104458008453, 1.0121624691474171, 1.027873521987033, 1.0062319950011445, 1.0027563008509333]\n",
      "valcount:  6\n",
      "avg:  1.015638155913687\n",
      "--------------------------------------------\n",
      "task1_1\n",
      "vals:  [1.184544683973009, 1.020127768079356, 1.0018259824264808, 1.0025318034452886, 0.9627955691175522, 0.9768074195978588, 0.9888065182913506]\n",
      "valcount:  7\n",
      "avg:  1.0196342492758421\n",
      "--------------------------------------------\n"
     ]
    }
   ],
   "source": [
    "stats_list={}\r\n",
    "for task,body in data[\"task_metrics\"].items():\r\n",
    "    for task_2,body_2 in body[\"backward_transfer_ratio\"].items():\r\n",
    "        if task_2 not in stats_list:\r\n",
    "            stats_list[task_2]=Stats()\r\n",
    "        for val in body_2:\r\n",
    "            stats_list[task_2].add_val(val)\r\n",
    "for task,stats in stats_list.items():\r\n",
    "    print(task,)\r\n",
    "    stats.print_state()\r\n",
    "    print(\"--------------------------------------------\")"
   ]
  },
  {
   "cell_type": "code",
   "execution_count": null,
   "metadata": {},
   "outputs": [],
   "source": []
  }
 ],
 "metadata": {
  "interpreter": {
   "hash": "f122e15337e94c6fcfcf312b654fb8b56348c659d5e1d47922a84bd4b33f2626"
  },
  "kernelspec": {
   "display_name": "Python 3.6.8 64-bit ('venv': venv)",
   "name": "python3"
  },
  "language_info": {
   "codemirror_mode": {
    "name": "ipython",
    "version": 3
   },
   "file_extension": ".py",
   "mimetype": "text/x-python",
   "name": "python",
   "nbconvert_exporter": "python",
   "pygments_lexer": "ipython3",
   "version": "3.6.8"
  },
  "orig_nbformat": 4
 },
 "nbformat": 4,
 "nbformat_minor": 2
}