{
 "cells": [
  {
   "cell_type": "markdown",
   "metadata": {},
   "source": [
    "# L2Metrics"
   ]
  },
  {
   "cell_type": "code",
   "execution_count": 1,
   "metadata": {},
   "outputs": [
    {
     "name": "stdout",
     "output_type": "stream",
     "text": [
      "hello world\n"
     ]
    }
   ],
   "source": [
    "print(\"hello world\")"
   ]
  },
  {
   "cell_type": "code",
   "execution_count": 2,
   "metadata": {},
   "outputs": [],
   "source": [
    "import json\r\n",
    "import re\r\n",
    "import os\r\n",
    "import pandas as pd"
   ]
  },
  {
   "cell_type": "code",
   "execution_count": 3,
   "metadata": {},
   "outputs": [],
   "source": [
    "with open(\"multi_task_metrics.json\") as file:\r\n",
    "     data = json.load(file)"
   ]
  },
  {
   "cell_type": "code",
   "execution_count": 18,
   "metadata": {},
   "outputs": [],
   "source": [
    "with open(\"multi_task_metrics.json\") as file:\r\n",
    "     data2 = pd.read_json(file)"
   ]
  },
  {
   "cell_type": "code",
   "execution_count": 5,
   "metadata": {},
   "outputs": [
    {
     "name": "stdout",
     "output_type": "stream",
     "text": [
      "task1_1\n",
      "task2_1\n",
      "task3_1\n"
     ]
    }
   ],
   "source": [
    "for key in data[\"task_metrics\"]:\r\n",
    "    print( key)"
   ]
  },
  {
   "cell_type": "code",
   "execution_count": 6,
   "metadata": {},
   "outputs": [],
   "source": [
    "# print(json.dumps(data,indent=2))\r\n",
    "class Stats:\r\n",
    "    def __init__(self):\r\n",
    "        self.vals = []\r\n",
    "        self.valcount = 0\r\n",
    "        self.avg = 0\r\n",
    "    def add_val(self,val):\r\n",
    "        self.vals.append(val)\r\n",
    "        self.valcount+=1\r\n",
    "        self.avg = sum(self.vals)/self.valcount\r\n",
    "    def print_state(self):\r\n",
    "        print(\"vals: \",self.vals)\r\n",
    "        print(\"valcount: \", self.valcount)\r\n",
    "        print(\"avg: \",self.avg)"
   ]
  },
  {
   "cell_type": "code",
   "execution_count": 7,
   "metadata": {},
   "outputs": [
    {
     "name": "stdout",
     "output_type": "stream",
     "text": [
      "task2_1\n",
      "vals:  [1.0564357621543066, 1.0152121534708918, 1.0001741136956974, 1.2188048731254775, 1.0285665590647524, 1.00007037658636]\n",
      "valcount:  6\n",
      "avg:  1.0532106396829144\n",
      "--------------------------------------------\n",
      "task3_1\n",
      "vals:  [1.0487001904871414, 0.996104458008453, 1.0121624691474171, 1.027873521987033, 1.0062319950011445, 1.0027563008509333]\n",
      "valcount:  6\n",
      "avg:  1.015638155913687\n",
      "--------------------------------------------\n",
      "task1_1\n",
      "vals:  [1.184544683973009, 1.020127768079356, 1.0018259824264808, 1.0025318034452886, 0.9627955691175522, 0.9768074195978588, 0.9888065182913506]\n",
      "valcount:  7\n",
      "avg:  1.0196342492758421\n",
      "--------------------------------------------\n"
     ]
    }
   ],
   "source": [
    "stats_list={}\r\n",
    "for task,body in data[\"task_metrics\"].items():\r\n",
    "    for task_2,body_2 in body[\"backward_transfer_ratio\"].items():\r\n",
    "        if task_2 not in stats_list:\r\n",
    "            stats_list[task_2]=Stats()\r\n",
    "        for val in body_2:\r\n",
    "            stats_list[task_2].add_val(val)\r\n",
    "for task,stats in stats_list.items():\r\n",
    "    print(task,)\r\n",
    "    stats.print_state()\r\n",
    "    print(\"--------------------------------------------\")"
   ]
  },
  {
   "cell_type": "markdown",
   "metadata": {},
   "source": [
    "## Query Formatting Ideas"
   ]
  },
  {
   "cell_type": "code",
   "execution_count": 8,
   "metadata": {},
   "outputs": [],
   "source": [
    "query1 = \"term1.term2?.term3.stats\"\r\n"
   ]
  },
  {
   "cell_type": "code",
   "execution_count": 16,
   "metadata": {},
   "outputs": [],
   "source": [
    "data2.task_metrics[0][\"backward_transfer_ratio\"][\"task2_1\"] = pd.Series(data2.task_metrics[0][\"backward_transfer_ratio\"][\"task2_1\"])\r\n",
    "data2.task_metrics[0][\"backward_transfer_ratio\"][\"task3_1\"] = pd.Series(data2.task_metrics[0][\"backward_transfer_ratio\"][\"task3_1\"])\r\n",
    "data2.task_metrics[0][\"recovery_times\"] = pd.Series(data2.task_metrics[0][\"recovery_times\"])"
   ]
  },
  {
   "cell_type": "code",
   "execution_count": 10,
   "metadata": {},
   "outputs": [],
   "source": [
    "data2.task_metrics[0][\"maintenance_val_mrlep\"] = pd.Series(data2.task_metrics[0][\"maintenance_val_mrlep\"])"
   ]
  },
  {
   "cell_type": "code",
   "execution_count": 11,
   "metadata": {},
   "outputs": [
    {
     "data": {
      "text/plain": [
       "{'A': [1, 2], 'B': [1, 2, 3, 4]}"
      ]
     },
     "execution_count": 11,
     "metadata": {},
     "output_type": "execute_result"
    }
   ],
   "source": [
    "d=dict( A = [1,2], B = [1,2,3,4] )\r\n",
    "d"
   ]
  },
  {
   "cell_type": "code",
   "execution_count": 12,
   "metadata": {},
   "outputs": [
    {
     "data": {
      "text/html": [
       "<div>\n",
       "<style scoped>\n",
       "    .dataframe tbody tr th:only-of-type {\n",
       "        vertical-align: middle;\n",
       "    }\n",
       "\n",
       "    .dataframe tbody tr th {\n",
       "        vertical-align: top;\n",
       "    }\n",
       "\n",
       "    .dataframe thead th {\n",
       "        text-align: right;\n",
       "    }\n",
       "</style>\n",
       "<table border=\"1\" class=\"dataframe\">\n",
       "  <thead>\n",
       "    <tr style=\"text-align: right;\">\n",
       "      <th></th>\n",
       "      <th>A</th>\n",
       "      <th>B</th>\n",
       "    </tr>\n",
       "  </thead>\n",
       "  <tbody>\n",
       "    <tr>\n",
       "      <th>0</th>\n",
       "      <td>1.0</td>\n",
       "      <td>1</td>\n",
       "    </tr>\n",
       "    <tr>\n",
       "      <th>1</th>\n",
       "      <td>2.0</td>\n",
       "      <td>2</td>\n",
       "    </tr>\n",
       "    <tr>\n",
       "      <th>2</th>\n",
       "      <td>NaN</td>\n",
       "      <td>3</td>\n",
       "    </tr>\n",
       "    <tr>\n",
       "      <th>3</th>\n",
       "      <td>NaN</td>\n",
       "      <td>4</td>\n",
       "    </tr>\n",
       "  </tbody>\n",
       "</table>\n",
       "</div>"
      ],
      "text/plain": [
       "     A  B\n",
       "0  1.0  1\n",
       "1  2.0  2\n",
       "2  NaN  3\n",
       "3  NaN  4"
      ]
     },
     "execution_count": 12,
     "metadata": {},
     "output_type": "execute_result"
    }
   ],
   "source": [
    "pd.DataFrame(dict([ (k,pd.Series(v)) for k,v in d.items() ]))"
   ]
  },
  {
   "cell_type": "code",
   "execution_count": 13,
   "metadata": {},
   "outputs": [
    {
     "data": {
      "text/plain": [
       "{'perf_recovery': -6.0,\n",
       " 'perf_maintenance_mrlep': 3.430534017433483,\n",
       " 'forward_transfer_ratio': {},\n",
       " 'backward_transfer_ratio': {'task2_1': [1.056435762154306,\n",
       "   1.015212153470891,\n",
       "   1.000174113695697],\n",
       "  'task3_1': [1.048700190487141, 0.996104458008453, 1.012162469147417]},\n",
       " 'ste_rel_perf': 1.059494770274384,\n",
       " 'sample_efficiency': 0.909090234414043,\n",
       " 'recovery_times': [0.0, 18.0, 12.0],\n",
       " 'maintenance_val_mrlep': 0       [13.025272013865177, 9.914763632726022]\n",
       " 1      [1.8977564333457622, -0.332981193785855]\n",
       " 2    [0.17956010335879502, -0.9231738279306111]\n",
       " 3                           [0.252540960455093]\n",
       " dtype: object,\n",
       " 'min': 0.595362013843691,\n",
       " 'max': 100.0,\n",
       " 'num_lx': 400,\n",
       " 'num_ex': 240}"
      ]
     },
     "execution_count": 13,
     "metadata": {},
     "output_type": "execute_result"
    }
   ],
   "source": [
    "data2.task_metrics[0]"
   ]
  },
  {
   "cell_type": "code",
   "execution_count": 17,
   "metadata": {},
   "outputs": [
    {
     "data": {
      "text/html": [
       "<div>\n",
       "<style scoped>\n",
       "    .dataframe tbody tr th:only-of-type {\n",
       "        vertical-align: middle;\n",
       "    }\n",
       "\n",
       "    .dataframe tbody tr th {\n",
       "        vertical-align: top;\n",
       "    }\n",
       "\n",
       "    .dataframe thead th {\n",
       "        text-align: right;\n",
       "    }\n",
       "</style>\n",
       "<table border=\"1\" class=\"dataframe\">\n",
       "  <thead>\n",
       "    <tr style=\"text-align: right;\">\n",
       "      <th></th>\n",
       "      <th>perf_recovery</th>\n",
       "      <th>perf_maintenance_mrlep</th>\n",
       "      <th>forward_transfer_ratio</th>\n",
       "      <th>backward_transfer_ratio</th>\n",
       "      <th>ste_rel_perf</th>\n",
       "      <th>sample_efficiency</th>\n",
       "      <th>recovery_times</th>\n",
       "      <th>maintenance_val_mrlep</th>\n",
       "      <th>min</th>\n",
       "      <th>max</th>\n",
       "      <th>num_lx</th>\n",
       "      <th>num_ex</th>\n",
       "    </tr>\n",
       "  </thead>\n",
       "  <tbody>\n",
       "    <tr>\n",
       "      <th>0</th>\n",
       "      <td>-6.0</td>\n",
       "      <td>3.430534</td>\n",
       "      <td>NaN</td>\n",
       "      <td>NaN</td>\n",
       "      <td>1.059495</td>\n",
       "      <td>0.90909</td>\n",
       "      <td>0.0</td>\n",
       "      <td>[13.025272013865177, 9.914763632726022]</td>\n",
       "      <td>0.595362</td>\n",
       "      <td>100.0</td>\n",
       "      <td>400</td>\n",
       "      <td>240</td>\n",
       "    </tr>\n",
       "    <tr>\n",
       "      <th>1</th>\n",
       "      <td>-6.0</td>\n",
       "      <td>3.430534</td>\n",
       "      <td>NaN</td>\n",
       "      <td>NaN</td>\n",
       "      <td>1.059495</td>\n",
       "      <td>0.90909</td>\n",
       "      <td>18.0</td>\n",
       "      <td>[1.8977564333457622, -0.332981193785855]</td>\n",
       "      <td>0.595362</td>\n",
       "      <td>100.0</td>\n",
       "      <td>400</td>\n",
       "      <td>240</td>\n",
       "    </tr>\n",
       "    <tr>\n",
       "      <th>2</th>\n",
       "      <td>-6.0</td>\n",
       "      <td>3.430534</td>\n",
       "      <td>NaN</td>\n",
       "      <td>NaN</td>\n",
       "      <td>1.059495</td>\n",
       "      <td>0.90909</td>\n",
       "      <td>12.0</td>\n",
       "      <td>[0.17956010335879502, -0.9231738279306111]</td>\n",
       "      <td>0.595362</td>\n",
       "      <td>100.0</td>\n",
       "      <td>400</td>\n",
       "      <td>240</td>\n",
       "    </tr>\n",
       "    <tr>\n",
       "      <th>3</th>\n",
       "      <td>-6.0</td>\n",
       "      <td>3.430534</td>\n",
       "      <td>NaN</td>\n",
       "      <td>NaN</td>\n",
       "      <td>1.059495</td>\n",
       "      <td>0.90909</td>\n",
       "      <td>NaN</td>\n",
       "      <td>[0.252540960455093]</td>\n",
       "      <td>0.595362</td>\n",
       "      <td>100.0</td>\n",
       "      <td>400</td>\n",
       "      <td>240</td>\n",
       "    </tr>\n",
       "    <tr>\n",
       "      <th>task2_1</th>\n",
       "      <td>-6.0</td>\n",
       "      <td>3.430534</td>\n",
       "      <td>NaN</td>\n",
       "      <td>0    1.056436\n",
       "1    1.015212\n",
       "2    1.000174\n",
       "dtyp...</td>\n",
       "      <td>1.059495</td>\n",
       "      <td>0.90909</td>\n",
       "      <td>NaN</td>\n",
       "      <td>NaN</td>\n",
       "      <td>0.595362</td>\n",
       "      <td>100.0</td>\n",
       "      <td>400</td>\n",
       "      <td>240</td>\n",
       "    </tr>\n",
       "    <tr>\n",
       "      <th>task3_1</th>\n",
       "      <td>-6.0</td>\n",
       "      <td>3.430534</td>\n",
       "      <td>NaN</td>\n",
       "      <td>0    1.048700\n",
       "1    0.996104\n",
       "2    1.012162\n",
       "dtyp...</td>\n",
       "      <td>1.059495</td>\n",
       "      <td>0.90909</td>\n",
       "      <td>NaN</td>\n",
       "      <td>NaN</td>\n",
       "      <td>0.595362</td>\n",
       "      <td>100.0</td>\n",
       "      <td>400</td>\n",
       "      <td>240</td>\n",
       "    </tr>\n",
       "  </tbody>\n",
       "</table>\n",
       "</div>"
      ],
      "text/plain": [
       "         perf_recovery  perf_maintenance_mrlep  forward_transfer_ratio  \\\n",
       "0                 -6.0                3.430534                     NaN   \n",
       "1                 -6.0                3.430534                     NaN   \n",
       "2                 -6.0                3.430534                     NaN   \n",
       "3                 -6.0                3.430534                     NaN   \n",
       "task2_1           -6.0                3.430534                     NaN   \n",
       "task3_1           -6.0                3.430534                     NaN   \n",
       "\n",
       "                                   backward_transfer_ratio  ste_rel_perf  \\\n",
       "0                                                      NaN      1.059495   \n",
       "1                                                      NaN      1.059495   \n",
       "2                                                      NaN      1.059495   \n",
       "3                                                      NaN      1.059495   \n",
       "task2_1  0    1.056436\n",
       "1    1.015212\n",
       "2    1.000174\n",
       "dtyp...      1.059495   \n",
       "task3_1  0    1.048700\n",
       "1    0.996104\n",
       "2    1.012162\n",
       "dtyp...      1.059495   \n",
       "\n",
       "         sample_efficiency  recovery_times  \\\n",
       "0                  0.90909             0.0   \n",
       "1                  0.90909            18.0   \n",
       "2                  0.90909            12.0   \n",
       "3                  0.90909             NaN   \n",
       "task2_1            0.90909             NaN   \n",
       "task3_1            0.90909             NaN   \n",
       "\n",
       "                              maintenance_val_mrlep       min    max  num_lx  \\\n",
       "0           [13.025272013865177, 9.914763632726022]  0.595362  100.0     400   \n",
       "1          [1.8977564333457622, -0.332981193785855]  0.595362  100.0     400   \n",
       "2        [0.17956010335879502, -0.9231738279306111]  0.595362  100.0     400   \n",
       "3                               [0.252540960455093]  0.595362  100.0     400   \n",
       "task2_1                                         NaN  0.595362  100.0     400   \n",
       "task3_1                                         NaN  0.595362  100.0     400   \n",
       "\n",
       "         num_ex  \n",
       "0           240  \n",
       "1           240  \n",
       "2           240  \n",
       "3           240  \n",
       "task2_1     240  \n",
       "task3_1     240  "
      ]
     },
     "execution_count": 17,
     "metadata": {},
     "output_type": "execute_result"
    }
   ],
   "source": [
    "pd.DataFrame(data2.task_metrics[0])"
   ]
  },
  {
   "cell_type": "code",
   "execution_count": 31,
   "metadata": {},
   "outputs": [
    {
     "data": {
      "text/html": [
       "<div>\n",
       "<style scoped>\n",
       "    .dataframe tbody tr th:only-of-type {\n",
       "        vertical-align: middle;\n",
       "    }\n",
       "\n",
       "    .dataframe tbody tr th {\n",
       "        vertical-align: top;\n",
       "    }\n",
       "\n",
       "    .dataframe thead th {\n",
       "        text-align: right;\n",
       "    }\n",
       "</style>\n",
       "<table border=\"1\" class=\"dataframe\">\n",
       "  <thead>\n",
       "    <tr style=\"text-align: right;\">\n",
       "      <th></th>\n",
       "      <th>task_metrics.task1_1.perf_recovery</th>\n",
       "      <th>perf_maintenance_mrlep</th>\n",
       "      <th>forward_transfer_ratio</th>\n",
       "      <th>backward_transfer_ratio</th>\n",
       "      <th>ste_rel_perf</th>\n",
       "      <th>sample_efficiency</th>\n",
       "      <th>recovery_times</th>\n",
       "      <th>maintenance_val_mrlep</th>\n",
       "      <th>min</th>\n",
       "      <th>max</th>\n",
       "      <th>num_lx</th>\n",
       "      <th>num_ex</th>\n",
       "    </tr>\n",
       "  </thead>\n",
       "  <tbody>\n",
       "    <tr>\n",
       "      <th>0</th>\n",
       "      <td>-6</td>\n",
       "      <td>3.43053</td>\n",
       "      <td>{}</td>\n",
       "      <td>{'task2_1': [1.056435762154306, 1.015212153470...</td>\n",
       "      <td>1.05949</td>\n",
       "      <td>0.90909</td>\n",
       "      <td>[0.0, 18.0, 12.0]</td>\n",
       "      <td>[[13.025272013865177, 9.914763632726022], [1.8...</td>\n",
       "      <td>0.595362</td>\n",
       "      <td>100</td>\n",
       "      <td>400</td>\n",
       "      <td>240</td>\n",
       "    </tr>\n",
       "  </tbody>\n",
       "</table>\n",
       "</div>"
      ],
      "text/plain": [
       "  task_metrics.task1_1.perf_recovery perf_maintenance_mrlep  \\\n",
       "0                                 -6                3.43053   \n",
       "\n",
       "  forward_transfer_ratio                            backward_transfer_ratio  \\\n",
       "0                     {}  {'task2_1': [1.056435762154306, 1.015212153470...   \n",
       "\n",
       "  ste_rel_perf sample_efficiency     recovery_times  \\\n",
       "0      1.05949           0.90909  [0.0, 18.0, 12.0]   \n",
       "\n",
       "                               maintenance_val_mrlep       min  max num_lx  \\\n",
       "0  [[13.025272013865177, 9.914763632726022], [1.8...  0.595362  100    400   \n",
       "\n",
       "  num_ex  \n",
       "0    240  "
      ]
     },
     "execution_count": 31,
     "metadata": {},
     "output_type": "execute_result"
    }
   ],
   "source": [
    "# data2.task_metrics[0]\r\n",
    "data3 =pd.DataFrame.from_dict(data2.task_metrics[0] ,orient=\"index\").T\r\n",
    "data3 = data3.rename(columns={\"perf_recovery\":\"task_metrics.task1_1.perf_recovery\"})\r\n",
    "data3"
   ]
  },
  {
   "cell_type": "code",
   "execution_count": 39,
   "metadata": {},
   "outputs": [
    {
     "data": {
      "text/plain": [
       "count                                                     1\n",
       "unique                                                    1\n",
       "top       [[13.025272013865177, 9.914763632726022], [1.8...\n",
       "freq                                                      1\n",
       "Name: maintenance_val_mrlep, dtype: object"
      ]
     },
     "execution_count": 39,
     "metadata": {},
     "output_type": "execute_result"
    }
   ],
   "source": [
    "data3.maintenance_val_mrlep.describe()"
   ]
  },
  {
   "cell_type": "code",
   "execution_count": 38,
   "metadata": {},
   "outputs": [
    {
     "data": {
      "text/html": [
       "<div>\n",
       "<style scoped>\n",
       "    .dataframe tbody tr th:only-of-type {\n",
       "        vertical-align: middle;\n",
       "    }\n",
       "\n",
       "    .dataframe tbody tr th {\n",
       "        vertical-align: top;\n",
       "    }\n",
       "\n",
       "    .dataframe thead th {\n",
       "        text-align: right;\n",
       "    }\n",
       "</style>\n",
       "<table border=\"1\" class=\"dataframe\">\n",
       "  <thead>\n",
       "    <tr style=\"text-align: right;\">\n",
       "      <th></th>\n",
       "      <th>task2_1</th>\n",
       "      <th>task3_1</th>\n",
       "    </tr>\n",
       "  </thead>\n",
       "  <tbody>\n",
       "    <tr>\n",
       "      <th>count</th>\n",
       "      <td>3.000000</td>\n",
       "      <td>3.000000</td>\n",
       "    </tr>\n",
       "    <tr>\n",
       "      <th>mean</th>\n",
       "      <td>1.023941</td>\n",
       "      <td>1.018989</td>\n",
       "    </tr>\n",
       "    <tr>\n",
       "      <th>std</th>\n",
       "      <td>0.029129</td>\n",
       "      <td>0.026954</td>\n",
       "    </tr>\n",
       "    <tr>\n",
       "      <th>min</th>\n",
       "      <td>1.000174</td>\n",
       "      <td>0.996104</td>\n",
       "    </tr>\n",
       "    <tr>\n",
       "      <th>25%</th>\n",
       "      <td>1.007693</td>\n",
       "      <td>1.004133</td>\n",
       "    </tr>\n",
       "    <tr>\n",
       "      <th>50%</th>\n",
       "      <td>1.015212</td>\n",
       "      <td>1.012162</td>\n",
       "    </tr>\n",
       "    <tr>\n",
       "      <th>75%</th>\n",
       "      <td>1.035824</td>\n",
       "      <td>1.030431</td>\n",
       "    </tr>\n",
       "    <tr>\n",
       "      <th>max</th>\n",
       "      <td>1.056436</td>\n",
       "      <td>1.048700</td>\n",
       "    </tr>\n",
       "  </tbody>\n",
       "</table>\n",
       "</div>"
      ],
      "text/plain": [
       "        task2_1   task3_1\n",
       "count  3.000000  3.000000\n",
       "mean   1.023941  1.018989\n",
       "std    0.029129  0.026954\n",
       "min    1.000174  0.996104\n",
       "25%    1.007693  1.004133\n",
       "50%    1.015212  1.012162\n",
       "75%    1.035824  1.030431\n",
       "max    1.056436  1.048700"
      ]
     },
     "execution_count": 38,
     "metadata": {},
     "output_type": "execute_result"
    }
   ],
   "source": [
    "data4 = pd.DataFrame.from_dict(data3.backward_transfer_ratio[0],orient=\"index\").T\r\n",
    "data4.describe()"
   ]
  },
  {
   "cell_type": "code",
   "execution_count": 26,
   "metadata": {},
   "outputs": [
    {
     "name": "stdout",
     "output_type": "stream",
     "text": [
      "task_metrics.task1_1.perf_recovery\n",
      "task_metrics.task1_1.perf_maintenance_mrlep\n",
      "task_metrics.task1_1.forward_transfer_ratio\n",
      "task_metrics.task1_1.backward_transfer_ratio\n",
      "task_metrics.task1_1.ste_rel_perf\n",
      "task_metrics.task1_1.sample_efficiency\n",
      "task_metrics.task1_1.recovery_times\n",
      "task_metrics.task1_1.maintenance_val_mrlep\n",
      "task_metrics.task1_1.min\n",
      "task_metrics.task1_1.max\n",
      "task_metrics.task1_1.num_lx\n",
      "task_metrics.task1_1.num_ex\n"
     ]
    }
   ],
   "source": [
    "for name in data3.columns:\r\n",
    "    print('task_metrics.task1_1.'+name)"
   ]
  },
  {
   "cell_type": "code",
   "execution_count": null,
   "metadata": {},
   "outputs": [],
   "source": []
  }
 ],
 "metadata": {
  "interpreter": {
   "hash": "f122e15337e94c6fcfcf312b654fb8b56348c659d5e1d47922a84bd4b33f2626"
  },
  "kernelspec": {
   "display_name": "Python 3.6.8 64-bit ('venv': venv)",
   "name": "python3"
  },
  "language_info": {
   "name": "python",
   "version": ""
  },
  "orig_nbformat": 4
 },
 "nbformat": 4,
 "nbformat_minor": 2
}