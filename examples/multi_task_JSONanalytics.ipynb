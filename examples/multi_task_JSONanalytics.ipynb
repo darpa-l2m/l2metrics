{
 "cells": [
  {
   "cell_type": "markdown",
   "metadata": {},
   "source": [
    "# L2Metrics"
   ]
  },
  {
   "cell_type": "code",
   "execution_count": 1,
   "metadata": {},
   "outputs": [
    {
     "name": "stdout",
     "output_type": "stream",
     "text": [
      "hello world\n"
     ]
    }
   ],
   "source": [
    "print(\"hello world\")"
   ]
  },
  {
   "cell_type": "code",
   "execution_count": 2,
   "metadata": {},
   "outputs": [],
   "source": [
    "import json\r\n",
    "import re\r\n",
    "import os"
   ]
  },
  {
   "cell_type": "code",
   "execution_count": 3,
   "metadata": {},
   "outputs": [],
   "source": [
    "with open(\"multi_task_metrics.json\") as file:\r\n",
    "     data = json.load(file)"
   ]
  },
  {
   "cell_type": "code",
   "execution_count": 4,
   "metadata": {},
   "outputs": [
    {
     "name": "stdout",
     "output_type": "stream",
     "text": [
      "task1_1\n",
      "task2_1\n",
      "task3_1\n"
     ]
    }
   ],
   "source": [
    "for key in data[\"task_metrics\"]:\r\n",
    "    print( key)"
   ]
  },
  {
   "cell_type": "code",
   "execution_count": 7,
   "metadata": {},
   "outputs": [],
   "source": [
    "# print(json.dumps(data,indent=2))\r\n",
    "class Stats:\r\n",
    "    def __init__(self):\r\n",
    "        self.vals = []\r\n",
    "        self.valcount = 0\r\n",
    "        self.avg = 0\r\n",
    "    def add_val(self,val):\r\n",
    "        self.vals.append(val)\r\n",
    "        self.valcount+=1\r\n",
    "        self.avg = sum(self.vals)/self.valcount\r\n",
    "    def print_state(self):\r\n",
    "        print(\"vals: \",self.vals)\r\n",
    "        print(\"valcount: \", self.valcount)\r\n",
    "        print(\"avg: \",self.avg)"
   ]
  },
  {
   "cell_type": "code",
   "execution_count": 17,
   "metadata": {},
   "outputs": [
    {
     "name": "stdout",
     "output_type": "stream",
     "text": [
      "task2_1\n",
      "vals:  [1.2188048731254775, 1.0285665590647524, 1.00007037658636]\n",
      "valcount:  3\n",
      "avg:  1.08248060292553\n",
      "--------------------------------------------\n",
      "task3_1\n",
      "vals:  [1.027873521987033, 1.0062319950011445, 1.0027563008509333]\n",
      "valcount:  3\n",
      "avg:  1.012287272613037\n",
      "--------------------------------------------\n",
      "task1_1\n",
      "vals:  [0.9627955691175522, 0.9768074195978588, 0.9888065182913506]\n",
      "valcount:  3\n",
      "avg:  0.9761365023355871\n",
      "--------------------------------------------\n"
     ]
    }
   ],
   "source": [
    "stats_list={}\r\n",
    "for task,body in data[\"task_metrics\"].items():\r\n",
    "    for task_2,body_2 in body[\"backward_transfer_ratio\"].items():\r\n",
    "        if task_2 in stats_list:\r\n",
    "            for val in body_2:\r\n",
    "                stats_list[task_2].add_val(val)\r\n",
    "        else:\r\n",
    "            stats_list[task_2]=Stats()\r\n",
    "for task,stats in stats_list.items():\r\n",
    "    print(task,)\r\n",
    "    stats.print_state()\r\n",
    "    print(\"--------------------------------------------\")"
   ]
  },
  {
   "cell_type": "code",
   "execution_count": null,
   "metadata": {},
   "outputs": [],
   "source": []
  }
 ],
 "metadata": {
  "interpreter": {
   "hash": "6344dc8f4684b30244facc7caaa2ab47b7f2d5dd6be45c0b7407287b4fa6ee57"
  },
  "kernelspec": {
   "display_name": "Python 3.6.8 64-bit",
   "name": "python3"
  },
  "language_info": {
   "name": "python",
   "version": ""
  },
  "orig_nbformat": 4
 },
 "nbformat": 4,
 "nbformat_minor": 2
}