{
 "metadata": {
  "language_info": {
   "codemirror_mode": {
    "name": "ipython",
    "version": 3
   },
   "file_extension": ".py",
   "mimetype": "text/x-python",
   "name": "python",
   "nbconvert_exporter": "python",
   "pygments_lexer": "ipython3",
   "version": "3.6.8-final"
  },
  "orig_nbformat": 2,
  "kernelspec": {
   "name": "python3",
   "display_name": "Python 3",
   "language": "python"
  }
 },
 "nbformat": 4,
 "nbformat_minor": 2,
 "cells": [
  {
   "cell_type": "markdown",
   "source": [
    "# Multi-Lifetime Metrics Evaluation"
   ],
   "metadata": {}
  },
  {
   "cell_type": "code",
   "execution_count": null,
   "source": [
    "\"\"\"\r\n",
    "Copyright © 2021 The Johns Hopkins University Applied Physics Laboratory LLC\r\n",
    "\r\n",
    "Permission is hereby granted, free of charge, to any person obtaining a copy \r\n",
    "of this software and associated documentation files (the “Software”), to \r\n",
    "deal in the Software without restriction, including without limitation the \r\n",
    "rights to use, copy, modify, merge, publish, distribute, sublicense, and/or \r\n",
    "sell copies of the Software, and to permit persons to whom the Software is \r\n",
    "furnished to do so, subject to the following conditions:\r\n",
    "\r\n",
    "The above copyright notice and this permission notice shall be included in \r\n",
    "all copies or substantial portions of the Software.\r\n",
    "\r\n",
    "THE SOFTWARE IS PROVIDED “AS IS”, WITHOUT WARRANTY OF ANY KIND, EXPRESS OR \r\n",
    "IMPLIED, INCLUDING BUT NOT LIMITED TO THE WARRANTIES OF MERCHANTABILITY, \r\n",
    "FITNESS FOR A PARTICULAR PURPOSE AND NONINFRINGEMENT. IN NO EVENT SHALL THE \r\n",
    "AUTHORS OR COPYRIGHT HOLDERS BE LIABLE FOR ANY CLAIM, DAMAGES OR OTHER LIABILITY, \r\n",
    "WHETHER IN AN ACTION OF CONTRACT, TORT OR OTHERWISE, ARISING FROM, OUT OF OR \r\n",
    "IN CONNECTION WITH THE SOFTWARE OR THE USE OR OTHER DEALINGS IN THE SOFTWARE.\r\n",
    "\"\"\""
   ],
   "outputs": [],
   "metadata": {}
  },
  {
   "cell_type": "code",
   "execution_count": null,
   "source": [
    "# Import necessary modules\r\n",
    "import json\r\n",
    "from pathlib import Path\r\n",
    "\r\n",
    "import matplotlib\r\n",
    "import pandas as pd\r\n",
    "import scipy\r\n",
    "import seaborn as sns\r\n",
    "\r\n",
    "from evaluation.evaluate import (compute_eval_metrics,\r\n",
    "                                 load_computational_costs,\r\n",
    "                                 load_performance_thresholds,\r\n",
    "                                 load_task_similarities, unzip_logs)\r\n",
    "\r\n",
    "sns.set_style(\"dark\")\r\n",
    "sns.set_context(\"paper\")\r\n",
    "\r\n",
    "pd.options.display.float_format = '{:,.2f}'.format\r\n",
    "matplotlib.use('Agg')"
   ],
   "outputs": [],
   "metadata": {}
  },
  {
   "cell_type": "markdown",
   "source": [
    "## SG-Specific Application Measures"
   ],
   "metadata": {}
  },
  {
   "cell_type": "code",
   "execution_count": null,
   "source": [
    "perf_measures = {\r\n",
    "    'argonne': 'score',\r\n",
    "    'hrl': 'reward',\r\n",
    "    'sri': 'reward',\r\n",
    "    'teledyne': 'object_id_accuracy',\r\n",
    "    'upenn': 'performance'\r\n",
    "}"
   ],
   "outputs": [],
   "metadata": {}
  },
  {
   "cell_type": "markdown",
   "source": [
    "## Configure Metrics Report"
   ],
   "metadata": {}
  },
  {
   "cell_type": "code",
   "execution_count": null,
   "source": [
    "# Change the three values below to configure metrics report based on processing mode\r\n",
    "eval_dir = 'm12_eval'\r\n",
    "sg_name = ''\r\n",
    "processing_mode = 'raw' # Valid modes: 'raw', 'smoothed', 'normalized', 'normalized_no_outliers'\r\n",
    "\r\n",
    "# L2Metrics settings\r\n",
    "kwargs = {}\r\n",
    "kwargs['eval_dir'] = Path('../../sg_' + sg_name + '_eval/' + eval_dir)\r\n",
    "kwargs['output_dir'] = Path('results/' + processing_mode + '/' + sg_name)\r\n",
    "kwargs['ste_dir'] = 'agent_config'\r\n",
    "kwargs['ste_averaging_method'] = 'metrics'\r\n",
    "kwargs['perf_measure'] = perf_measures[sg_name]\r\n",
    "kwargs['aggregation_method'] = 'mean'\r\n",
    "kwargs['maintenance_method'] = 'both'\r\n",
    "kwargs['transfer_method'] = 'both'\r\n",
    "kwargs['window_length'] = None\r\n",
    "kwargs['show_eval_lines'] = True\r\n",
    "kwargs['do_store_ste'] = False\r\n",
    "kwargs['do_plot'] = True\r\n",
    "kwargs['do_save_plots'] = True\r\n",
    "kwargs['do_save'] = True\r\n",
    "kwargs['do_save_settings'] = True\r\n",
    "output = sg_name + '_' + processing_mode\r\n",
    "do_unzip = False\r\n",
    "\r\n",
    "# Generate other input arguments based on data processing mode\r\n",
    "kwargs['normalization_method'] = 'task' if processing_mode in [\r\n",
    "    'normalized', 'normalized_no_outliers'] else 'none'\r\n",
    "kwargs['smoothing_method'] = 'flat' if processing_mode in [\r\n",
    "    'smoothed', 'normalized', 'normalized_no_outliers'] else 'none'\r\n",
    "kwargs['clamp_outliers'] = processing_mode in ['normalized_no_outliers']\r\n",
    "\r\n",
    "# Load data range data for normalization and standardize names to lowercase\r\n",
    "if sg_name == 'sri':\r\n",
    "    with open('sri_data_range.json') as f:\r\n",
    "        data_range = json.load(f)\r\n",
    "        data_range = {key.lower(): val for key, val in data_range.items()}\r\n",
    "else:\r\n",
    "    data_range = None\r\n",
    "kwargs['data_range'] = data_range\r\n",
    "\r\n",
    "# Create output directory if it doesn't exist\r\n",
    "if kwargs['do_save_plots'] or kwargs['do_save'] or kwargs['do_save_settings']:\r\n",
    "    kwargs['output_dir'].mkdir(parents=True, exist_ok=True)"
   ],
   "outputs": [],
   "metadata": {}
  },
  {
   "cell_type": "markdown",
   "source": [
    "## Unzip Logs"
   ],
   "metadata": {}
  },
  {
   "cell_type": "code",
   "execution_count": null,
   "source": [
    "if do_unzip:\r\n",
    "    unzip_logs(eval_dir)"
   ],
   "outputs": [],
   "metadata": {}
  },
  {
   "cell_type": "markdown",
   "source": [
    "## Compute Metrics for Evaluation\n",
    "\n",
    "This line of code runs through all the logs in the specified evaluation directory, stores the STE data (if enabled),\n",
    "then computes metrics on the LL logs with the settings above. The lifetime and task-level metrics for each run are\n",
    "aggregated into a single DataFrame and dictionary, respectively. The aggregated log data from each run is also returned\n",
    "as a DataFrame."
   ],
   "metadata": {}
  },
  {
   "cell_type": "code",
   "execution_count": null,
   "source": [
    "ll_metrics_df, ll_metrics_dicts, log_data_df = compute_eval_metrics(**kwargs)"
   ],
   "outputs": [],
   "metadata": {}
  },
  {
   "cell_type": "markdown",
   "source": [
    "## Summary Report"
   ],
   "metadata": {}
  },
  {
   "cell_type": "code",
   "execution_count": null,
   "source": [
    "# Show mean and standard deviation of data\r\n",
    "ll_metrics_df.drop(columns=['min', 'max', 'num_lx', 'num_ex']).groupby(\r\n",
    "    by=['scenario_type', 'complexity', 'difficulty']).agg(['mean', 'std'])"
   ],
   "outputs": [],
   "metadata": {}
  },
  {
   "cell_type": "code",
   "execution_count": null,
   "source": [
    "# Show median and IQR of data\r\n",
    "ll_metrics_df.drop(columns=['min', 'max', 'num_lx', 'num_ex']).groupby(\r\n",
    "    by=['scenario_type', 'complexity', 'difficulty']).agg(['median', scipy.stats.iqr])"
   ],
   "outputs": [],
   "metadata": {}
  },
  {
   "cell_type": "markdown",
   "source": [
    "## Save Metrics and Log Data"
   ],
   "metadata": {}
  },
  {
   "cell_type": "code",
   "execution_count": null,
   "source": [
    "# Save the lifelong learning metrics DataFrame\r\n",
    "if kwargs['do_save']:\r\n",
    "    if not ll_metrics_df.empty:\r\n",
    "        with open(kwargs['output_dir'] / (output + '.tsv'), 'w', newline='\\n') as metrics_file:\r\n",
    "            ll_metrics_df.set_index(['sg_name', 'agent_config', 'run_id']).sort_values(\r\n",
    "                ['agent_config', 'run_id']).to_csv(metrics_file, sep='\\t')\r\n",
    "    if ll_metrics_dicts:    \r\n",
    "        with open(kwargs['output_dir'] / (output + '.json'), 'w', newline='\\n') as metrics_file:\r\n",
    "            json.dump(ll_metrics_dicts, metrics_file)\r\n",
    "    if not log_data_df.empty:\r\n",
    "        log_data_df.reset_index(drop=True).to_feather(kwargs['output_dir'] / (output + '_data.feather'))\r\n",
    "\r\n",
    "# Save settings for evaluation\r\n",
    "if kwargs['do_save_settings']:\r\n",
    "    with open(kwargs['output_dir'] / (kwargs['output'] + '_settings.json'), 'w') as outfile:\r\n",
    "        kwargs['eval_dir'] = str(kwargs.get('eval_dir', ''))\r\n",
    "        kwargs['output_dir'] = str(kwargs.get('output_dir', ''))\r\n",
    "        json.dump(kwargs, outfile)"
   ],
   "outputs": [],
   "metadata": {}
  }
 ]
}