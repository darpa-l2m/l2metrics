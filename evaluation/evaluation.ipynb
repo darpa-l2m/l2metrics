{
 "metadata": {
  "language_info": {
   "codemirror_mode": {
    "name": "ipython",
    "version": 3
   },
   "file_extension": ".py",
   "mimetype": "text/x-python",
   "name": "python",
   "nbconvert_exporter": "python",
   "pygments_lexer": "ipython3",
   "version": "3.6.8-final"
  },
  "orig_nbformat": 2,
  "kernelspec": {
   "name": "python3",
   "display_name": "Python 3"
  }
 },
 "nbformat": 4,
 "nbformat_minor": 2,
 "cells": [
  {
   "source": [
    "# Multi-Lifetime Metrics Evaluation"
   ],
   "cell_type": "markdown",
   "metadata": {}
  },
  {
   "cell_type": "code",
   "execution_count": null,
   "metadata": {},
   "outputs": [],
   "source": [
    "# Import necessary modules\n",
    "import json\n",
    "from pathlib import Path\n",
    "\n",
    "import matplotlib.pyplot as plt\n",
    "import pandas as pd\n",
    "import scipy\n",
    "import seaborn as sns\n",
    "from evaluation.evaluate import compute_metrics, load_computational_costs, save_ste_data\n",
    "\n",
    "sns.set_style(\"dark\")\n",
    "sns.set_context(\"paper\")\n",
    "\n",
    "%matplotlib ipympl"
   ]
  },
  {
   "cell_type": "code",
   "execution_count": null,
   "metadata": {},
   "outputs": [],
   "source": [
    "# Specify top-level directory for evaluation\n",
    "# The path should be that of an agent configuration directory within an evaluation directory\n",
    "# (e.g., m9_eval/agent_config-0/).\n",
    "log_dir = Path(\"example_eval/m9_eval/agent_config-0\")"
   ]
  },
  {
   "cell_type": "code",
   "execution_count": null,
   "metadata": {},
   "outputs": [],
   "source": [
    "# Configure metrics report\n",
    "perf_measure = 'performance'\n",
    "transfer_method = 'both'\n",
    "output = 'll_metrics.tsv'\n",
    "do_smoothing = True\n",
    "do_save = False"
   ]
  },
  {
   "cell_type": "code",
   "execution_count": null,
   "metadata": {},
   "outputs": [],
   "source": [
    "# Load computational cost data\n",
    "comp_cost_df = load_computational_costs(log_dir)\n",
    "comp_cost_df"
   ]
  },
  {
   "cell_type": "code",
   "execution_count": null,
   "metadata": {},
   "outputs": [],
   "source": [
    "# Save STE data in log directory\n",
    "save_ste_data(log_dir)"
   ]
  },
  {
   "cell_type": "code",
   "execution_count": null,
   "metadata": {},
   "outputs": [],
   "source": [
    "# Compute metrics for lifelong learning logs\n",
    "ll_metrics_df = compute_metrics(log_dir, perf_measure, transfer_method, do_smoothing)"
   ]
  },
  {
   "cell_type": "code",
   "execution_count": null,
   "metadata": {},
   "outputs": [],
   "source": [
    "# Show mean and standard deviation of data\n",
    "ll_metrics_df.groupby(by=['complexity', 'difficulty']).agg(['mean', 'std'])"
   ]
  },
  {
   "cell_type": "code",
   "execution_count": null,
   "metadata": {},
   "outputs": [],
   "source": [
    "# Show median and IQR of data\n",
    "ll_metrics_df.groupby(by=['complexity', 'difficulty']).agg(['median', scipy.stats.iqr])"
   ]
  },
  {
   "cell_type": "code",
   "execution_count": null,
   "metadata": {},
   "outputs": [],
   "source": [
    "# Plot aggregated data\n",
    "fig = plt.figure(figsize=(12, 8))\n",
    "\n",
    "for index, metric in enumerate(ll_metrics_df.drop(columns=['complexity', 'difficulty']).columns, start=1):\n",
    "    # Create subplot for current metric\n",
    "    ax = fig.add_subplot(3, 3, index)\n",
    "\n",
    "    # Create grouped violin plot\n",
    "    sns.violinplot(x='complexity', y=metric, hue='difficulty', data=ll_metrics_df, palette='muted')\n",
    "\n",
    "    # Resize legend font\n",
    "    plt.setp(ax.get_legend().get_title(), fontsize='8')\n",
    "    plt.setp(ax.get_legend().get_texts(), fontsize='6')\n",
    "\n",
    "fig.subplots_adjust(wspace=0.35, hspace=0.35)"
   ]
  },
  {
   "cell_type": "code",
   "execution_count": null,
   "metadata": {},
   "outputs": [],
   "source": [
    "# Save the lifelong learning metrics DataFrame\n",
    "if do_save:\n",
    "    with open(output, 'w', newline='\\n') as metrics_file:\n",
    "        ll_metrics_df.to_csv(metrics_file, sep='\\t')"
   ]
  }
 ]
}