{
 "metadata": {
  "language_info": {
   "codemirror_mode": {
    "name": "ipython",
    "version": 3
   },
   "file_extension": ".py",
   "mimetype": "text/x-python",
   "name": "python",
   "nbconvert_exporter": "python",
   "pygments_lexer": "ipython3",
   "version": "3.6.8-final"
  },
  "orig_nbformat": 2,
  "kernelspec": {
   "name": "python3",
   "display_name": "Python 3"
  }
 },
 "nbformat": 4,
 "nbformat_minor": 2,
 "cells": [
  {
   "source": [
    "# Multi-Lifetime Metrics Evaluation"
   ],
   "cell_type": "markdown",
   "metadata": {}
  },
  {
   "cell_type": "code",
   "execution_count": null,
   "metadata": {},
   "outputs": [],
   "source": [
    "# Import necessary modules\n",
    "import json\n",
    "import os\n",
    "\n",
    "import l2metrics\n",
    "import matplotlib.pyplot as plt\n",
    "import pandas as pd\n",
    "import seaborn as sns\n",
    "from tqdm.notebook import tqdm\n",
    "\n",
    "sns.set_style(\"dark\")\n",
    "sns.set_context(\"paper\")\n",
    "\n",
    "%matplotlib ipympl"
   ]
  },
  {
   "cell_type": "code",
   "execution_count": null,
   "metadata": {},
   "outputs": [],
   "source": [
    "# Configure metrics report\n",
    "perf_measure = 'performance'\n",
    "transfer_method = 'both'\n",
    "do_smoothing = False"
   ]
  },
  {
   "cell_type": "code",
   "execution_count": null,
   "metadata": {},
   "outputs": [],
   "source": [
    "# Specify top-level directory for evaluation\n",
    "# The path should be that of an agent configuration directory within an evaluation directory\n",
    "# (e.g., m9_eval/agent_config-0/).\n",
    "log_dir = \"example_eval/m9_eval/agent_config-0\""
   ]
  },
  {
   "cell_type": "code",
   "execution_count": null,
   "metadata": {},
   "outputs": [],
   "source": [
    "# Check for STE logs\n",
    "ste_log_dir = log_dir + \"/ste_logs/ste_logs/\"\n",
    "\n",
    "if os.path.isdir(ste_log_dir):\n",
    "    # Store all the STE data found in the directory\n",
    "    for ste_task in os.listdir(ste_log_dir):\n",
    "        l2metrics.util.save_ste_data(ste_log_dir + ste_task)\n",
    "else:\n",
    "    # STE log path not found - possibly because comrpressed archive has not been\n",
    "    # extracted in the same location yet\n",
    "    raise Exception(f\"STE logs not found in expected location!\")"
   ]
  },
  {
   "cell_type": "code",
   "execution_count": null,
   "metadata": {},
   "outputs": [],
   "source": [
    "# Check for LL logs\n",
    "ll_log_dir = log_dir + \"/ll_logs/\"\n",
    "\n",
    "if os.path.isdir(ll_log_dir):\n",
    "    # Initialize LL metric dataframe\n",
    "    ll_metrics_df = pd.DataFrame()\n",
    "\n",
    "    # Compute and store the LL metrics for all scenarios found in the directory\n",
    "    for item in tqdm(os.listdir(ll_log_dir), desc='Overall'):\n",
    "        if os.path.isdir(ll_log_dir + item):\n",
    "            for scenario in tqdm(os.listdir(ll_log_dir + item), desc='Scenario'):\n",
    "                scenario_dir = ll_log_dir + item + '/' + scenario + '/'\n",
    "\n",
    "                # Initialize metrics report\n",
    "                report = l2metrics.AgentMetricsReport(\n",
    "                    log_dir=scenario_dir, perf_measure=perf_measure,\n",
    "                    transfer_method=transfer_method, do_smoothing=do_smoothing)\n",
    "\n",
    "                # Calculate metrics in order of their addition to the metrics list\n",
    "                report.calculate()\n",
    "\n",
    "                # Append lifetime metrics to dataframe\n",
    "                ll_metrics_df = ll_metrics_df.append(\n",
    "                    report.lifetime_metrics_df, ignore_index=True)\n",
    "\n",
    "                # Add scenario name to row\n",
    "                # ll_metrics_df.at[ll_metrics_df.index[-1], 'scenario'] = scenario.split('-')[0]\n",
    "\n",
    "                # Append scenario complexity and difficulty\n",
    "                with open(scenario_dir + 'scenario_info.json', 'r') as json_file:\n",
    "                    scenario_info = json.load(json_file)\n",
    "                    ll_metrics_df.at[ll_metrics_df.index[-1],\n",
    "                                     'complexity'] = scenario_info['complexity']\n",
    "                    ll_metrics_df.at[ll_metrics_df.index[-1],\n",
    "                                     'difficulty'] = scenario_info['difficulty']\n",
    "\n",
    "else:\n",
    "    raise Exception(f\"LL logs not found in expected location!\")"
   ]
  },
  {
   "cell_type": "code",
   "execution_count": null,
   "metadata": {},
   "outputs": [],
   "source": [
    "# Plot aggregated data\n",
    "fig = plt.figure(figsize=(12, 8))\n",
    "\n",
    "for index, metric in enumerate(ll_metrics_df.drop(columns=['complexity', 'difficulty']).columns, start=1):\n",
    "    # Create subplot for current metric\n",
    "    ax = fig.add_subplot(3, 3, index)\n",
    "\n",
    "    # Create grouped violin plot\n",
    "    sns.violinplot(x='complexity', y=metric, hue='difficulty',\n",
    "                   data=ll_metrics_df, palette='muted')\n",
    "\n",
    "    # Resize legend font\n",
    "    plt.setp(ax.get_legend().get_title(), fontsize='8')\n",
    "    plt.setp(ax.get_legend().get_texts(), fontsize='6')\n",
    "\n",
    "fig.subplots_adjust(wspace=0.35, hspace=0.35)"
   ]
  },
  {
   "cell_type": "code",
   "execution_count": null,
   "metadata": {},
   "outputs": [],
   "source": [
    "# Compare data to target values\n",
    "agg_metrics_df = ll_metrics_df.groupby(by=['complexity', 'difficulty']).mean()\n",
    "agg_metrics_df"
   ]
  },
  {
   "cell_type": "code",
   "execution_count": null,
   "metadata": {},
   "outputs": [],
   "source": [
    "ll_metrics_df.groupby(by=['complexity', 'difficulty']).var()"
   ]
  },
  {
   "cell_type": "code",
   "execution_count": null,
   "metadata": {},
   "outputs": [],
   "source": [
    "target_values = [[1.4, 12, 8, 8, 1.5, 2.1],\n",
    "                 [1.2, 10, 7, 7, 2, 2.3],\n",
    "                 [1, 8, 6, 6, 2.5, 2.5],\n",
    "                 [1.2, 6, 3, 3, 1.3, 1.7],\n",
    "                 [1, 4, 2, 2, 1.6, 2],\n",
    "                 [0.8, 2, 1, 1, 1.9, 2.2],\n",
    "                 [0.8, 8, 5, 5, 1.4, 2.2],\n",
    "                 [0.6, 6, 3, 3, 1.9, 2.4],\n",
    "                 [0.4, 4, 1, 1, 2.3, 2.6]]\n",
    "\n",
    "metrics = ['perf_recovery', 'perf_maintenance', 'forward_transfer',\n",
    "           'backward_transfer', 'ste_rel_perf', 'sample_efficiency']\n",
    "\n",
    "index = pd.MultiIndex.from_tuples([('1-easy', '1-easy'), ('1-easy', '2-medium'), ('1-easy', '3-hard'),\n",
    "                                   ('2-intermediate', '1-easy'), ('2-intermediate', '2-medium'), ('2-intermediate', '3-hard'),\n",
    "                                   ('3-high', '1-easy'), ('3-high', '2-medium'), ('3-high', '3-hard')],\n",
    "                                  names=['complexity', 'difficulty'])\n",
    "\n",
    "target_values_df = pd.DataFrame(data=target_values, columns=metrics, index=index)\n",
    "target_values_df"
   ]
  },
  {
   "cell_type": "code",
   "execution_count": null,
   "metadata": {},
   "outputs": [],
   "source": [
    "# TODO: replace difference with hypothesis testing\n",
    "(agg_metrics_df.rename(columns={'forward_transfer_ratio': 'forward_transfer',\n",
    "                                'backward_transfer_ratio': 'backward_transfer'}) - target_values_df).dropna(axis=1)\n"
   ]
  }
 ]
}