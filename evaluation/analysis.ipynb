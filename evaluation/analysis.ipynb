{
 "metadata": {
  "language_info": {
   "codemirror_mode": {
    "name": "ipython",
    "version": 3
   },
   "file_extension": ".py",
   "mimetype": "text/x-python",
   "name": "python",
   "nbconvert_exporter": "python",
   "pygments_lexer": "ipython3",
   "version": "3.6.8"
  },
  "orig_nbformat": 2,
  "kernelspec": {
   "name": "python368jvsc74a57bd02597f07d1e20e98cf7cfcf385b8c0110fb64187439c69d940b99f69f38ff003b",
   "display_name": "Python 3.6.8 64-bit ('venv36')"
  }
 },
 "nbformat": 4,
 "nbformat_minor": 2,
 "cells": [
  {
   "cell_type": "code",
   "execution_count": null,
   "metadata": {},
   "outputs": [],
   "source": [
    "# (c) 2019 The Johns Hopkins University Applied Physics Laboratory LLC (JHU/APL).\n",
    "# All Rights Reserved. This material may be only be used, modified, or reproduced\n",
    "# by or for the U.S. Government pursuant to the license rights granted under the\n",
    "# clauses at DFARS 252.227-7013/7014 or FAR 52.227-14. For any other permission,\n",
    "# please contact the Office of Technology Transfer at JHU/APL.\n",
    "\n",
    "# NO WARRANTY, NO LIABILITY. THIS MATERIAL IS PROVIDED “AS IS.” JHU/APL MAKES NO\n",
    "# REPRESENTATION OR WARRANTY WITH RESPECT TO THE PERFORMANCE OF THE MATERIALS,\n",
    "# INCLUDING THEIR SAFETY, EFFECTIVENESS, OR COMMERCIAL VIABILITY, AND DISCLAIMS\n",
    "# ALL WARRANTIES IN THE MATERIAL, WHETHER EXPRESS OR IMPLIED, INCLUDING (BUT NOT\n",
    "# LIMITED TO) ANY AND ALL IMPLIED WARRANTIES OF PERFORMANCE, MERCHANTABILITY,\n",
    "# FITNESS FOR A PARTICULAR PURPOSE, AND NON-INFRINGEMENT OF INTELLECTUAL PROPERTY\n",
    "# OR OTHER THIRD PARTY RIGHTS. ANY USER OF THE MATERIAL ASSUMES THE ENTIRE RISK\n",
    "# AND LIABILITY FOR USING THE MATERIAL. IN NO EVENT SHALL JHU/APL BE LIABLE TO ANY\n",
    "# USER OF THE MATERIAL FOR ANY ACTUAL, INDIRECT, CONSEQUENTIAL, SPECIAL OR OTHER\n",
    "# DAMAGES ARISING FROM THE USE OF, OR INABILITY TO USE, THE MATERIAL, INCLUDING,\n",
    "# BUT NOT LIMITED TO, ANY DAMAGES FOR LOST PROFITS."
   ]
  },
  {
   "cell_type": "code",
   "execution_count": null,
   "metadata": {},
   "outputs": [],
   "source": [
    "import fnmatch\n",
    "import json\n",
    "import pandas as pd\n",
    "from itertools import product\n",
    "from scipy import stats\n",
    "from pathlib import Path\n",
    "\n",
    "pd.options.display.float_format = '{:,.2f}'.format"
   ]
  },
  {
   "cell_type": "code",
   "execution_count": null,
   "metadata": {},
   "outputs": [],
   "source": [
    "metrics_dict = {'perf_recovery': ['alternating'],\n",
    "                'perf_maintenance': ['alternating', 'permuted'],\n",
    "                'forward_transfer_ratio': ['permuted'],\n",
    "                'backward_transfer_ratio': ['permuted'],\n",
    "                'forward_transfer_contrast': ['permuted'],\n",
    "                'backward_transfer_contrast': ['permuted'],\n",
    "                'ste_rel_perf': ['alternating', 'permuted'],\n",
    "                'sample_efficiency': ['alternating', 'permuted']}"
   ]
  },
  {
   "cell_type": "code",
   "execution_count": null,
   "metadata": {},
   "outputs": [],
   "source": [
    "# Aggregate tsv data into single table\n",
    "sg_metrics_df = pd.DataFrame()\n",
    "\n",
    "# Import saved data\n",
    "root_dir = Path('results')\n",
    "run_types = ['raw', 'smoothed', 'normalized', 'normalized_no_outliers']\n",
    "sg_names = ['argonne', 'hrl', 'sri', 'teledyne', 'upenn']\n",
    "\n",
    "for sg_name, run_type in product(sg_names, run_types):\n",
    "    metrics_file = root_dir / run_type / sg_name / (sg_name + '_' + run_type + '.tsv')\n",
    "    if metrics_file.exists():\n",
    "        ll_metrics_df = pd.read_csv(metrics_file, sep='\\t')\n",
    "        ll_metrics_df['run_type'] = run_type\n",
    "        sg_metrics_df = sg_metrics_df.append(ll_metrics_df)\n",
    "\n",
    "# Rename transfer columns\n",
    "sg_metrics_df.rename(columns={'perf_maintenance_mrlep': 'perf_maintenance'}, inplace=True)\n",
    "sg_metrics_df"
   ]
  },
  {
   "cell_type": "code",
   "execution_count": null,
   "metadata": {},
   "outputs": [],
   "source": [
    "metric_dfs = []\n",
    "\n",
    "for metric in metrics_dict.keys():\n",
    "    metric_dfs.append(sg_metrics_df[sg_metrics_df['scenario_type'].isin(metrics_dict[metric])].groupby(by=['run_type', 'sg_name', 'agent_config', 'complexity'])[metric].agg(['mean']).rename({'mean': metric}, axis=1))"
   ]
  },
  {
   "cell_type": "code",
   "execution_count": null,
   "metadata": {},
   "outputs": [],
   "source": [
    "results_df = pd.concat(metric_dfs, axis=1).reset_index().drop(columns=['agent_config', 'complexity'])\n",
    "results_df"
   ]
  },
  {
   "cell_type": "code",
   "execution_count": null,
   "metadata": {},
   "outputs": [],
   "source": [
    "# Save results to file\n",
    "# sg_metrics_df.sort_values(by=['run_type', 'sg_name']).to_csv('sg_metrics.tsv', sep='\\t')"
   ]
  },
  {
   "cell_type": "code",
   "execution_count": null,
   "metadata": {},
   "outputs": [],
   "source": [
    "# Create target values dataframe\n",
    "target_values = [[1.2, 10, 4, 2.5, 2, 2.3],\n",
    "                 [1, 4, 1.5, 1.5, 1.6, 2],\n",
    "                 [0.6, 6, 3, 2, 1.9, 2.4]]\n",
    "\n",
    "metrics = ['perf_recovery', 'perf_maintenance', 'forward_transfer',\n",
    "           'backward_transfer', 'ste_rel_perf', 'sample_efficiency']\n",
    "indeces = pd.Index(['1-low', '2-intermediate', '3-high'], name='complexity')\n",
    "target_values_df = pd.DataFrame(data=target_values, columns=metrics, index=indeces)\n",
    "target_values_df"
   ]
  }
 ]
}